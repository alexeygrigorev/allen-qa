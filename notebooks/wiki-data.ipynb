{
 "cells": [
  {
   "cell_type": "code",
   "execution_count": 1,
   "metadata": {
    "collapsed": true
   },
   "outputs": [],
   "source": [
    "import pandas as pd\n",
    "import numpy as np\n",
    "\n",
    "import codecs\n",
    "import json\n",
    "\n",
    "import matplotlib.pyplot as plt \n",
    "%matplotlib inline"
   ]
  },
  {
   "cell_type": "code",
   "execution_count": 2,
   "metadata": {
    "collapsed": true
   },
   "outputs": [],
   "source": [
    "def unwrap_lucene_features(name, row):\n",
    "    doc_scores = ['qScores', 'aScores', 'bothQAScores', 'bothQAScoresMustHave']\n",
    "    doc_ids = ['qDocs', 'aDocs', 'bothQADoc', 'bothQADocAMustHave']\n",
    "\n",
    "    d = row[name]\n",
    "\n",
    "    for scores, docs in zip(doc_scores, doc_ids):\n",
    "        d_scores = d[scores]\n",
    "        std = np.std(d_scores)\n",
    "        d[scores + '_mean'] = np.mean(d_scores)\n",
    "        d[scores + '_std'] = std\n",
    "        d[scores + '_median'] = np.median(d_scores)\n",
    "        d[scores + '_doc_scores'] = zip(d[docs], d_scores)\n",
    "\n",
    "        for i, score in enumerate(d_scores):\n",
    "            d['%s_doc_%d' % (scores, i + 1)] = score\n",
    "            d['%s_doc_%d_up' % (scores, i + 1)] = score + std\n",
    "            d['%s_doc_%d_down' % (scores, i + 1)] = score - std\n",
    "\n",
    "    blacklist = set(doc_scores + doc_ids)\n",
    "    tuples = [(name + '_' + n, f) for (n, f) in d.items() if n not in blacklist]\n",
    "\n",
    "    return dict(tuples)"
   ]
  },
  {
   "cell_type": "code",
   "execution_count": 96,
   "metadata": {
    "collapsed": false
   },
   "outputs": [],
   "source": [
    "lucene_features = ['wiki_ck12_ngrams_slide']\n",
    "\n",
    "def transform(row):\n",
    "    for lucene_feature in lucene_features:\n",
    "        lfs = unwrap_lucene_features(lucene_feature, row['luceneFeatures'])\n",
    "        row.update(lfs)\n",
    "\n",
    "    del row['luceneFeatures']\n",
    "    del row['word2VecFeatures']\n",
    "    return row"
   ]
  },
  {
   "cell_type": "code",
   "execution_count": 97,
   "metadata": {
    "collapsed": false
   },
   "outputs": [],
   "source": [
    "dicts = []\n",
    "\n",
    "with codecs.open('/home/agrigorev/git-projects/allen-qa/lucene-features-7-wikislide.json', 'r', 'utf-8') as f:\n",
    "    for line in f:\n",
    "        row = json.loads(line)\n",
    "        row = transform(row)\n",
    "        dicts.append(row)\n"
   ]
  },
  {
   "cell_type": "code",
   "execution_count": 98,
   "metadata": {
    "collapsed": true
   },
   "outputs": [],
   "source": [
    "questions = pd.DataFrame(dicts)\n",
    "del dicts"
   ]
  },
  {
   "cell_type": "code",
   "execution_count": 99,
   "metadata": {
    "collapsed": false
   },
   "outputs": [],
   "source": [
    "questions.sort(columns=['questionId', 'answerLetter'], inplace=1)"
   ]
  },
  {
   "cell_type": "code",
   "execution_count": 100,
   "metadata": {
    "collapsed": false
   },
   "outputs": [
    {
     "data": {
      "text/html": [
       "<div style=\"max-height:1000px;max-width:1500px;overflow:auto;\">\n",
       "<table border=\"1\" class=\"dataframe\">\n",
       "  <thead>\n",
       "    <tr style=\"text-align: right;\">\n",
       "      <th></th>\n",
       "      <th>answer</th>\n",
       "      <th>answerLetter</th>\n",
       "      <th>label</th>\n",
       "      <th>ngramsAnswer</th>\n",
       "      <th>ngramsQuestion</th>\n",
       "      <th>question</th>\n",
       "      <th>questionId</th>\n",
       "      <th>rawAnswer</th>\n",
       "      <th>rawQuestion</th>\n",
       "      <th>source</th>\n",
       "      <th>type</th>\n",
       "      <th>wiki_ck12_ngrams_slide_aScores_doc_1</th>\n",
       "      <th>wiki_ck12_ngrams_slide_aScores_doc_10</th>\n",
       "      <th>wiki_ck12_ngrams_slide_aScores_doc_10_down</th>\n",
       "      <th>wiki_ck12_ngrams_slide_aScores_doc_10_up</th>\n",
       "      <th>wiki_ck12_ngrams_slide_aScores_doc_1_down</th>\n",
       "      <th>wiki_ck12_ngrams_slide_aScores_doc_1_up</th>\n",
       "      <th>wiki_ck12_ngrams_slide_aScores_doc_2</th>\n",
       "      <th>wiki_ck12_ngrams_slide_aScores_doc_2_down</th>\n",
       "      <th>wiki_ck12_ngrams_slide_aScores_doc_2_up</th>\n",
       "      <th></th>\n",
       "    </tr>\n",
       "  </thead>\n",
       "  <tbody>\n",
       "    <tr>\n",
       "      <th>60162</th>\n",
       "      <td>     [tissue level]</td>\n",
       "      <td> A</td>\n",
       "      <td> false</td>\n",
       "      <td>                     [tissue, level, tissue level]</td>\n",
       "      <td> [athlete, exercise, heart, rate, respiration, ...</td>\n",
       "      <td> [athlete, exercise, heart rate, respiration ra...</td>\n",
       "      <td> 100001</td>\n",
       "      <td>        at the tissue level</td>\n",
       "      <td> when athletes begin to exercise, their heart r...</td>\n",
       "      <td> TRAIN</td>\n",
       "      <td> USUAL</td>\n",
       "      <td> 33.650890</td>\n",
       "      <td> 31.992455</td>\n",
       "      <td> 31.411829</td>\n",
       "      <td> 32.573080</td>\n",
       "      <td> 33.070265</td>\n",
       "      <td> 34.231516</td>\n",
       "      <td> 33.650890</td>\n",
       "      <td> 33.070265</td>\n",
       "      <td> 34.231516</td>\n",
       "      <td>...</td>\n",
       "    </tr>\n",
       "    <tr>\n",
       "      <th>60166</th>\n",
       "      <td>      [organ level]</td>\n",
       "      <td> B</td>\n",
       "      <td> false</td>\n",
       "      <td>                       [organ, level, organ level]</td>\n",
       "      <td> [athlete, exercise, heart, rate, respiration, ...</td>\n",
       "      <td> [athlete, exercise, heart rate, respiration ra...</td>\n",
       "      <td> 100001</td>\n",
       "      <td>         at the organ level</td>\n",
       "      <td> when athletes begin to exercise, their heart r...</td>\n",
       "      <td> TRAIN</td>\n",
       "      <td> USUAL</td>\n",
       "      <td> 39.921066</td>\n",
       "      <td> 12.742194</td>\n",
       "      <td>  4.138801</td>\n",
       "      <td> 21.345588</td>\n",
       "      <td> 31.317673</td>\n",
       "      <td> 48.524460</td>\n",
       "      <td> 37.932362</td>\n",
       "      <td> 29.328968</td>\n",
       "      <td> 46.535755</td>\n",
       "      <td>...</td>\n",
       "    </tr>\n",
       "    <tr>\n",
       "      <th>60170</th>\n",
       "      <td>     [system level]</td>\n",
       "      <td> C</td>\n",
       "      <td>  true</td>\n",
       "      <td>                     [system, level, system level]</td>\n",
       "      <td> [athlete, exercise, heart, rate, respiration, ...</td>\n",
       "      <td> [athlete, exercise, heart rate, respiration ra...</td>\n",
       "      <td> 100001</td>\n",
       "      <td>        at the system level</td>\n",
       "      <td> when athletes begin to exercise, their heart r...</td>\n",
       "      <td> TRAIN</td>\n",
       "      <td> USUAL</td>\n",
       "      <td> 28.896399</td>\n",
       "      <td> 26.152950</td>\n",
       "      <td> 24.914770</td>\n",
       "      <td> 27.391130</td>\n",
       "      <td> 27.658218</td>\n",
       "      <td> 30.134579</td>\n",
       "      <td> 28.867155</td>\n",
       "      <td> 27.628975</td>\n",
       "      <td> 30.105335</td>\n",
       "      <td>...</td>\n",
       "    </tr>\n",
       "    <tr>\n",
       "      <th>60175</th>\n",
       "      <td>   [cellular level]</td>\n",
       "      <td> D</td>\n",
       "      <td> false</td>\n",
       "      <td>                 [cellular, level, cellular level]</td>\n",
       "      <td> [athlete, exercise, heart, rate, respiration, ...</td>\n",
       "      <td> [athlete, exercise, heart rate, respiration ra...</td>\n",
       "      <td> 100001</td>\n",
       "      <td>      at the cellular level</td>\n",
       "      <td> when athletes begin to exercise, their heart r...</td>\n",
       "      <td> TRAIN</td>\n",
       "      <td> USUAL</td>\n",
       "      <td> 29.844318</td>\n",
       "      <td> 29.844318</td>\n",
       "      <td> 29.844318</td>\n",
       "      <td> 29.844318</td>\n",
       "      <td> 29.844318</td>\n",
       "      <td> 29.844318</td>\n",
       "      <td> 29.844318</td>\n",
       "      <td> 29.844318</td>\n",
       "      <td> 29.844318</td>\n",
       "      <td>...</td>\n",
       "    </tr>\n",
       "    <tr>\n",
       "      <th>60178</th>\n",
       "      <td> [smell, air, odor]</td>\n",
       "      <td> A</td>\n",
       "      <td> false</td>\n",
       "      <td> [smell, air, odor, smell air, air odor, smell ...</td>\n",
       "      <td> [describe, learn, behavior, dog, describe lear...</td>\n",
       "      <td>                   [describe, learn behavior, dog]</td>\n",
       "      <td> 100002</td>\n",
       "      <td> smelling the air for odors</td>\n",
       "      <td> which example describes a learned behavior in ...</td>\n",
       "      <td> TRAIN</td>\n",
       "      <td> USUAL</td>\n",
       "      <td> 12.171963</td>\n",
       "      <td>  7.382993</td>\n",
       "      <td>  5.365214</td>\n",
       "      <td>  9.400772</td>\n",
       "      <td> 10.154184</td>\n",
       "      <td> 14.189742</td>\n",
       "      <td> 11.813470</td>\n",
       "      <td>  9.795691</td>\n",
       "      <td> 13.831249</td>\n",
       "      <td>...</td>\n",
       "    </tr>\n",
       "  </tbody>\n",
       "</table>\n",
       "<p>5 rows × 149 columns</p>\n",
       "</div>"
      ],
      "text/plain": [
       "                   answer answerLetter  label  \\\n",
       "60162      [tissue level]            A  false   \n",
       "60166       [organ level]            B  false   \n",
       "60170      [system level]            C   true   \n",
       "60175    [cellular level]            D  false   \n",
       "60178  [smell, air, odor]            A  false   \n",
       "\n",
       "                                            ngramsAnswer  \\\n",
       "60162                      [tissue, level, tissue level]   \n",
       "60166                        [organ, level, organ level]   \n",
       "60170                      [system, level, system level]   \n",
       "60175                  [cellular, level, cellular level]   \n",
       "60178  [smell, air, odor, smell air, air odor, smell ...   \n",
       "\n",
       "                                          ngramsQuestion  \\\n",
       "60162  [athlete, exercise, heart, rate, respiration, ...   \n",
       "60166  [athlete, exercise, heart, rate, respiration, ...   \n",
       "60170  [athlete, exercise, heart, rate, respiration, ...   \n",
       "60175  [athlete, exercise, heart, rate, respiration, ...   \n",
       "60178  [describe, learn, behavior, dog, describe lear...   \n",
       "\n",
       "                                                question questionId  \\\n",
       "60162  [athlete, exercise, heart rate, respiration ra...     100001   \n",
       "60166  [athlete, exercise, heart rate, respiration ra...     100001   \n",
       "60170  [athlete, exercise, heart rate, respiration ra...     100001   \n",
       "60175  [athlete, exercise, heart rate, respiration ra...     100001   \n",
       "60178                    [describe, learn behavior, dog]     100002   \n",
       "\n",
       "                        rawAnswer  \\\n",
       "60162         at the tissue level   \n",
       "60166          at the organ level   \n",
       "60170         at the system level   \n",
       "60175       at the cellular level   \n",
       "60178  smelling the air for odors   \n",
       "\n",
       "                                             rawQuestion source   type  \\\n",
       "60162  when athletes begin to exercise, their heart r...  TRAIN  USUAL   \n",
       "60166  when athletes begin to exercise, their heart r...  TRAIN  USUAL   \n",
       "60170  when athletes begin to exercise, their heart r...  TRAIN  USUAL   \n",
       "60175  when athletes begin to exercise, their heart r...  TRAIN  USUAL   \n",
       "60178  which example describes a learned behavior in ...  TRAIN  USUAL   \n",
       "\n",
       "       wiki_ck12_ngrams_slide_aScores_doc_1  \\\n",
       "60162                             33.650890   \n",
       "60166                             39.921066   \n",
       "60170                             28.896399   \n",
       "60175                             29.844318   \n",
       "60178                             12.171963   \n",
       "\n",
       "       wiki_ck12_ngrams_slide_aScores_doc_10  \\\n",
       "60162                              31.992455   \n",
       "60166                              12.742194   \n",
       "60170                              26.152950   \n",
       "60175                              29.844318   \n",
       "60178                               7.382993   \n",
       "\n",
       "       wiki_ck12_ngrams_slide_aScores_doc_10_down  \\\n",
       "60162                                   31.411829   \n",
       "60166                                    4.138801   \n",
       "60170                                   24.914770   \n",
       "60175                                   29.844318   \n",
       "60178                                    5.365214   \n",
       "\n",
       "       wiki_ck12_ngrams_slide_aScores_doc_10_up  \\\n",
       "60162                                 32.573080   \n",
       "60166                                 21.345588   \n",
       "60170                                 27.391130   \n",
       "60175                                 29.844318   \n",
       "60178                                  9.400772   \n",
       "\n",
       "       wiki_ck12_ngrams_slide_aScores_doc_1_down  \\\n",
       "60162                                  33.070265   \n",
       "60166                                  31.317673   \n",
       "60170                                  27.658218   \n",
       "60175                                  29.844318   \n",
       "60178                                  10.154184   \n",
       "\n",
       "       wiki_ck12_ngrams_slide_aScores_doc_1_up  \\\n",
       "60162                                34.231516   \n",
       "60166                                48.524460   \n",
       "60170                                30.134579   \n",
       "60175                                29.844318   \n",
       "60178                                14.189742   \n",
       "\n",
       "       wiki_ck12_ngrams_slide_aScores_doc_2  \\\n",
       "60162                             33.650890   \n",
       "60166                             37.932362   \n",
       "60170                             28.867155   \n",
       "60175                             29.844318   \n",
       "60178                             11.813470   \n",
       "\n",
       "       wiki_ck12_ngrams_slide_aScores_doc_2_down  \\\n",
       "60162                                  33.070265   \n",
       "60166                                  29.328968   \n",
       "60170                                  27.628975   \n",
       "60175                                  29.844318   \n",
       "60178                                   9.795691   \n",
       "\n",
       "       wiki_ck12_ngrams_slide_aScores_doc_2_up      \n",
       "60162                                34.231516 ...  \n",
       "60166                                46.535755 ...  \n",
       "60170                                30.105335 ...  \n",
       "60175                                29.844318 ...  \n",
       "60178                                13.831249 ...  \n",
       "\n",
       "[5 rows x 149 columns]"
      ]
     },
     "execution_count": 100,
     "metadata": {},
     "output_type": "execute_result"
    }
   ],
   "source": [
    "questions.head()"
   ]
  },
  {
   "cell_type": "markdown",
   "metadata": {},
   "source": [
    "### Let's find what numeric features are most accurate"
   ]
  },
  {
   "cell_type": "code",
   "execution_count": 101,
   "metadata": {
    "collapsed": true
   },
   "outputs": [],
   "source": [
    "train = questions[questions.source == 'TRAIN']"
   ]
  },
  {
   "cell_type": "code",
   "execution_count": 102,
   "metadata": {
    "collapsed": false
   },
   "outputs": [],
   "source": [
    "num = train._get_numeric_data()\n",
    "numeric_features = list(num.columns)"
   ]
  },
  {
   "cell_type": "code",
   "execution_count": 103,
   "metadata": {
    "collapsed": false
   },
   "outputs": [],
   "source": [
    "results = []\n",
    "\n",
    "for id, group in train.groupby('questionId'):\n",
    "    row = {}\n",
    "    row['correct'] = (group.label == 'true').values.argmax()\n",
    "\n",
    "    for f in numeric_features:\n",
    "        row[f] = group[f].values.argmax()\n",
    "    \n",
    "    results.append(row)\n",
    "\n",
    "results = pd.DataFrame(results)"
   ]
  },
  {
   "cell_type": "code",
   "execution_count": 105,
   "metadata": {
    "collapsed": false,
    "scrolled": true
   },
   "outputs": [
    {
     "data": {
      "text/html": [
       "<div style=\"max-height:1000px;max-width:1500px;overflow:auto;\">\n",
       "<table border=\"1\" class=\"dataframe\">\n",
       "  <thead>\n",
       "    <tr style=\"text-align: right;\">\n",
       "      <th></th>\n",
       "      <th>feature</th>\n",
       "      <th>accuracy</th>\n",
       "    </tr>\n",
       "  </thead>\n",
       "  <tbody>\n",
       "    <tr>\n",
       "      <th>94</th>\n",
       "      <td>      wiki_ck12_ngrams_slide_bothQAScores_doc_8_up</td>\n",
       "      <td> 0.3612</td>\n",
       "    </tr>\n",
       "    <tr>\n",
       "      <th>83</th>\n",
       "      <td>         wiki_ck12_ngrams_slide_bothQAScores_doc_5</td>\n",
       "      <td> 0.3608</td>\n",
       "    </tr>\n",
       "    <tr>\n",
       "      <th>80</th>\n",
       "      <td>         wiki_ck12_ngrams_slide_bothQAScores_doc_4</td>\n",
       "      <td> 0.3600</td>\n",
       "    </tr>\n",
       "    <tr>\n",
       "      <th>91</th>\n",
       "      <td>      wiki_ck12_ngrams_slide_bothQAScores_doc_7_up</td>\n",
       "      <td> 0.3600</td>\n",
       "    </tr>\n",
       "    <tr>\n",
       "      <th>98</th>\n",
       "      <td>          wiki_ck12_ngrams_slide_bothQAScores_mean</td>\n",
       "      <td> 0.3600</td>\n",
       "    </tr>\n",
       "    <tr>\n",
       "      <th>75</th>\n",
       "      <td>    wiki_ck12_ngrams_slide_bothQAScores_doc_2_down</td>\n",
       "      <td> 0.3592</td>\n",
       "    </tr>\n",
       "    <tr>\n",
       "      <th>97</th>\n",
       "      <td>      wiki_ck12_ngrams_slide_bothQAScores_doc_9_up</td>\n",
       "      <td> 0.3588</td>\n",
       "    </tr>\n",
       "    <tr>\n",
       "      <th>71</th>\n",
       "      <td>     wiki_ck12_ngrams_slide_bothQAScores_doc_10_up</td>\n",
       "      <td> 0.3584</td>\n",
       "    </tr>\n",
       "    <tr>\n",
       "      <th>88</th>\n",
       "      <td>      wiki_ck12_ngrams_slide_bothQAScores_doc_6_up</td>\n",
       "      <td> 0.3580</td>\n",
       "    </tr>\n",
       "    <tr>\n",
       "      <th>86</th>\n",
       "      <td>         wiki_ck12_ngrams_slide_bothQAScores_doc_6</td>\n",
       "      <td> 0.3580</td>\n",
       "    </tr>\n",
       "    <tr>\n",
       "      <th>99</th>\n",
       "      <td>        wiki_ck12_ngrams_slide_bothQAScores_median</td>\n",
       "      <td> 0.3576</td>\n",
       "    </tr>\n",
       "    <tr>\n",
       "      <th>72</th>\n",
       "      <td>    wiki_ck12_ngrams_slide_bothQAScores_doc_1_down</td>\n",
       "      <td> 0.3576</td>\n",
       "    </tr>\n",
       "    <tr>\n",
       "      <th>77</th>\n",
       "      <td>         wiki_ck12_ngrams_slide_bothQAScores_doc_3</td>\n",
       "      <td> 0.3572</td>\n",
       "    </tr>\n",
       "    <tr>\n",
       "      <th>78</th>\n",
       "      <td>    wiki_ck12_ngrams_slide_bothQAScores_doc_3_down</td>\n",
       "      <td> 0.3572</td>\n",
       "    </tr>\n",
       "    <tr>\n",
       "      <th>85</th>\n",
       "      <td>      wiki_ck12_ngrams_slide_bothQAScores_doc_5_up</td>\n",
       "      <td> 0.3572</td>\n",
       "    </tr>\n",
       "    <tr>\n",
       "      <th>81</th>\n",
       "      <td>    wiki_ck12_ngrams_slide_bothQAScores_doc_4_down</td>\n",
       "      <td> 0.3560</td>\n",
       "    </tr>\n",
       "    <tr>\n",
       "      <th>74</th>\n",
       "      <td>         wiki_ck12_ngrams_slide_bothQAScores_doc_2</td>\n",
       "      <td> 0.3548</td>\n",
       "    </tr>\n",
       "    <tr>\n",
       "      <th>68</th>\n",
       "      <td>         wiki_ck12_ngrams_slide_bothQAScores_doc_1</td>\n",
       "      <td> 0.3548</td>\n",
       "    </tr>\n",
       "    <tr>\n",
       "      <th>73</th>\n",
       "      <td>      wiki_ck12_ngrams_slide_bothQAScores_doc_1_up</td>\n",
       "      <td> 0.3536</td>\n",
       "    </tr>\n",
       "    <tr>\n",
       "      <th>89</th>\n",
       "      <td>         wiki_ck12_ngrams_slide_bothQAScores_doc_7</td>\n",
       "      <td> 0.3532</td>\n",
       "    </tr>\n",
       "    <tr>\n",
       "      <th>82</th>\n",
       "      <td>      wiki_ck12_ngrams_slide_bothQAScores_doc_4_up</td>\n",
       "      <td> 0.3528</td>\n",
       "    </tr>\n",
       "    <tr>\n",
       "      <th>79</th>\n",
       "      <td>      wiki_ck12_ngrams_slide_bothQAScores_doc_3_up</td>\n",
       "      <td> 0.3524</td>\n",
       "    </tr>\n",
       "    <tr>\n",
       "      <th>84</th>\n",
       "      <td>    wiki_ck12_ngrams_slide_bothQAScores_doc_5_down</td>\n",
       "      <td> 0.3516</td>\n",
       "    </tr>\n",
       "    <tr>\n",
       "      <th>76</th>\n",
       "      <td>      wiki_ck12_ngrams_slide_bothQAScores_doc_2_up</td>\n",
       "      <td> 0.3516</td>\n",
       "    </tr>\n",
       "    <tr>\n",
       "      <th>69</th>\n",
       "      <td>        wiki_ck12_ngrams_slide_bothQAScores_doc_10</td>\n",
       "      <td> 0.3512</td>\n",
       "    </tr>\n",
       "    <tr>\n",
       "      <th>92</th>\n",
       "      <td>         wiki_ck12_ngrams_slide_bothQAScores_doc_8</td>\n",
       "      <td> 0.3508</td>\n",
       "    </tr>\n",
       "    <tr>\n",
       "      <th>95</th>\n",
       "      <td>         wiki_ck12_ngrams_slide_bothQAScores_doc_9</td>\n",
       "      <td> 0.3492</td>\n",
       "    </tr>\n",
       "    <tr>\n",
       "      <th>87</th>\n",
       "      <td>    wiki_ck12_ngrams_slide_bothQAScores_doc_6_down</td>\n",
       "      <td> 0.3480</td>\n",
       "    </tr>\n",
       "    <tr>\n",
       "      <th>70</th>\n",
       "      <td>   wiki_ck12_ngrams_slide_bothQAScores_doc_10_down</td>\n",
       "      <td> 0.3444</td>\n",
       "    </tr>\n",
       "    <tr>\n",
       "      <th>90</th>\n",
       "      <td>    wiki_ck12_ngrams_slide_bothQAScores_doc_7_down</td>\n",
       "      <td> 0.3432</td>\n",
       "    </tr>\n",
       "    <tr>\n",
       "      <th>96</th>\n",
       "      <td>    wiki_ck12_ngrams_slide_bothQAScores_doc_9_down</td>\n",
       "      <td> 0.3420</td>\n",
       "    </tr>\n",
       "    <tr>\n",
       "      <th>93</th>\n",
       "      <td>    wiki_ck12_ngrams_slide_bothQAScores_doc_8_down</td>\n",
       "      <td> 0.3404</td>\n",
       "    </tr>\n",
       "    <tr>\n",
       "      <th>65</th>\n",
       "      <td>  wiki_ck12_ngrams_slide_bothQAScoresMustHave_mean</td>\n",
       "      <td> 0.3316</td>\n",
       "    </tr>\n",
       "    <tr>\n",
       "      <th>61</th>\n",
       "      <td> wiki_ck12_ngrams_slide_bothQAScoresMustHave_do...</td>\n",
       "      <td> 0.3316</td>\n",
       "    </tr>\n",
       "    <tr>\n",
       "      <th>53</th>\n",
       "      <td> wiki_ck12_ngrams_slide_bothQAScoresMustHave_doc_6</td>\n",
       "      <td> 0.3316</td>\n",
       "    </tr>\n",
       "    <tr>\n",
       "      <th>39</th>\n",
       "      <td> wiki_ck12_ngrams_slide_bothQAScoresMustHave_do...</td>\n",
       "      <td> 0.3316</td>\n",
       "    </tr>\n",
       "    <tr>\n",
       "      <th>43</th>\n",
       "      <td> wiki_ck12_ngrams_slide_bothQAScoresMustHave_do...</td>\n",
       "      <td> 0.3312</td>\n",
       "    </tr>\n",
       "    <tr>\n",
       "      <th>48</th>\n",
       "      <td> wiki_ck12_ngrams_slide_bothQAScoresMustHave_do...</td>\n",
       "      <td> 0.3308</td>\n",
       "    </tr>\n",
       "    <tr>\n",
       "      <th>40</th>\n",
       "      <td> wiki_ck12_ngrams_slide_bothQAScoresMustHave_do...</td>\n",
       "      <td> 0.3308</td>\n",
       "    </tr>\n",
       "    <tr>\n",
       "      <th>49</th>\n",
       "      <td> wiki_ck12_ngrams_slide_bothQAScoresMustHave_do...</td>\n",
       "      <td> 0.3308</td>\n",
       "    </tr>\n",
       "    <tr>\n",
       "      <th>56</th>\n",
       "      <td> wiki_ck12_ngrams_slide_bothQAScoresMustHave_doc_7</td>\n",
       "      <td> 0.3304</td>\n",
       "    </tr>\n",
       "    <tr>\n",
       "      <th>50</th>\n",
       "      <td> wiki_ck12_ngrams_slide_bothQAScoresMustHave_doc_5</td>\n",
       "      <td> 0.3300</td>\n",
       "    </tr>\n",
       "    <tr>\n",
       "      <th>64</th>\n",
       "      <td> wiki_ck12_ngrams_slide_bothQAScoresMustHave_do...</td>\n",
       "      <td> 0.3300</td>\n",
       "    </tr>\n",
       "    <tr>\n",
       "      <th>59</th>\n",
       "      <td> wiki_ck12_ngrams_slide_bothQAScoresMustHave_doc_8</td>\n",
       "      <td> 0.3300</td>\n",
       "    </tr>\n",
       "    <tr>\n",
       "      <th>66</th>\n",
       "      <td> wiki_ck12_ngrams_slide_bothQAScoresMustHave_me...</td>\n",
       "      <td> 0.3296</td>\n",
       "    </tr>\n",
       "    <tr>\n",
       "      <th>35</th>\n",
       "      <td> wiki_ck12_ngrams_slide_bothQAScoresMustHave_doc_1</td>\n",
       "      <td> 0.3296</td>\n",
       "    </tr>\n",
       "    <tr>\n",
       "      <th>46</th>\n",
       "      <td> wiki_ck12_ngrams_slide_bothQAScoresMustHave_do...</td>\n",
       "      <td> 0.3292</td>\n",
       "    </tr>\n",
       "    <tr>\n",
       "      <th>51</th>\n",
       "      <td> wiki_ck12_ngrams_slide_bothQAScoresMustHave_do...</td>\n",
       "      <td> 0.3292</td>\n",
       "    </tr>\n",
       "    <tr>\n",
       "      <th>52</th>\n",
       "      <td> wiki_ck12_ngrams_slide_bothQAScoresMustHave_do...</td>\n",
       "      <td> 0.3292</td>\n",
       "    </tr>\n",
       "    <tr>\n",
       "      <th>38</th>\n",
       "      <td> wiki_ck12_ngrams_slide_bothQAScoresMustHave_do...</td>\n",
       "      <td> 0.3288</td>\n",
       "    </tr>\n",
       "    <tr>\n",
       "      <th>62</th>\n",
       "      <td> wiki_ck12_ngrams_slide_bothQAScoresMustHave_doc_9</td>\n",
       "      <td> 0.3288</td>\n",
       "    </tr>\n",
       "    <tr>\n",
       "      <th>42</th>\n",
       "      <td> wiki_ck12_ngrams_slide_bothQAScoresMustHave_do...</td>\n",
       "      <td> 0.3288</td>\n",
       "    </tr>\n",
       "    <tr>\n",
       "      <th>47</th>\n",
       "      <td> wiki_ck12_ngrams_slide_bothQAScoresMustHave_doc_4</td>\n",
       "      <td> 0.3284</td>\n",
       "    </tr>\n",
       "    <tr>\n",
       "      <th>55</th>\n",
       "      <td> wiki_ck12_ngrams_slide_bothQAScoresMustHave_do...</td>\n",
       "      <td> 0.3284</td>\n",
       "    </tr>\n",
       "    <tr>\n",
       "      <th>54</th>\n",
       "      <td> wiki_ck12_ngrams_slide_bothQAScoresMustHave_do...</td>\n",
       "      <td> 0.3284</td>\n",
       "    </tr>\n",
       "    <tr>\n",
       "      <th>58</th>\n",
       "      <td> wiki_ck12_ngrams_slide_bothQAScoresMustHave_do...</td>\n",
       "      <td> 0.3280</td>\n",
       "    </tr>\n",
       "    <tr>\n",
       "      <th>36</th>\n",
       "      <td> wiki_ck12_ngrams_slide_bothQAScoresMustHave_do...</td>\n",
       "      <td> 0.3276</td>\n",
       "    </tr>\n",
       "    <tr>\n",
       "      <th>57</th>\n",
       "      <td> wiki_ck12_ngrams_slide_bothQAScoresMustHave_do...</td>\n",
       "      <td> 0.3272</td>\n",
       "    </tr>\n",
       "    <tr>\n",
       "      <th>41</th>\n",
       "      <td> wiki_ck12_ngrams_slide_bothQAScoresMustHave_doc_2</td>\n",
       "      <td> 0.3272</td>\n",
       "    </tr>\n",
       "    <tr>\n",
       "      <th>44</th>\n",
       "      <td> wiki_ck12_ngrams_slide_bothQAScoresMustHave_doc_3</td>\n",
       "      <td> 0.3268</td>\n",
       "    </tr>\n",
       "    <tr>\n",
       "      <th></th>\n",
       "      <td>...</td>\n",
       "      <td>...</td>\n",
       "    </tr>\n",
       "  </tbody>\n",
       "</table>\n",
       "<p>134 rows × 2 columns</p>\n",
       "</div>"
      ],
      "text/plain": [
       "                                              feature  accuracy\n",
       "94       wiki_ck12_ngrams_slide_bothQAScores_doc_8_up    0.3612\n",
       "83          wiki_ck12_ngrams_slide_bothQAScores_doc_5    0.3608\n",
       "80          wiki_ck12_ngrams_slide_bothQAScores_doc_4    0.3600\n",
       "91       wiki_ck12_ngrams_slide_bothQAScores_doc_7_up    0.3600\n",
       "98           wiki_ck12_ngrams_slide_bothQAScores_mean    0.3600\n",
       "75     wiki_ck12_ngrams_slide_bothQAScores_doc_2_down    0.3592\n",
       "97       wiki_ck12_ngrams_slide_bothQAScores_doc_9_up    0.3588\n",
       "71      wiki_ck12_ngrams_slide_bothQAScores_doc_10_up    0.3584\n",
       "88       wiki_ck12_ngrams_slide_bothQAScores_doc_6_up    0.3580\n",
       "86          wiki_ck12_ngrams_slide_bothQAScores_doc_6    0.3580\n",
       "99         wiki_ck12_ngrams_slide_bothQAScores_median    0.3576\n",
       "72     wiki_ck12_ngrams_slide_bothQAScores_doc_1_down    0.3576\n",
       "77          wiki_ck12_ngrams_slide_bothQAScores_doc_3    0.3572\n",
       "78     wiki_ck12_ngrams_slide_bothQAScores_doc_3_down    0.3572\n",
       "85       wiki_ck12_ngrams_slide_bothQAScores_doc_5_up    0.3572\n",
       "81     wiki_ck12_ngrams_slide_bothQAScores_doc_4_down    0.3560\n",
       "74          wiki_ck12_ngrams_slide_bothQAScores_doc_2    0.3548\n",
       "68          wiki_ck12_ngrams_slide_bothQAScores_doc_1    0.3548\n",
       "73       wiki_ck12_ngrams_slide_bothQAScores_doc_1_up    0.3536\n",
       "89          wiki_ck12_ngrams_slide_bothQAScores_doc_7    0.3532\n",
       "82       wiki_ck12_ngrams_slide_bothQAScores_doc_4_up    0.3528\n",
       "79       wiki_ck12_ngrams_slide_bothQAScores_doc_3_up    0.3524\n",
       "84     wiki_ck12_ngrams_slide_bothQAScores_doc_5_down    0.3516\n",
       "76       wiki_ck12_ngrams_slide_bothQAScores_doc_2_up    0.3516\n",
       "69         wiki_ck12_ngrams_slide_bothQAScores_doc_10    0.3512\n",
       "92          wiki_ck12_ngrams_slide_bothQAScores_doc_8    0.3508\n",
       "95          wiki_ck12_ngrams_slide_bothQAScores_doc_9    0.3492\n",
       "87     wiki_ck12_ngrams_slide_bothQAScores_doc_6_down    0.3480\n",
       "70    wiki_ck12_ngrams_slide_bothQAScores_doc_10_down    0.3444\n",
       "90     wiki_ck12_ngrams_slide_bothQAScores_doc_7_down    0.3432\n",
       "96     wiki_ck12_ngrams_slide_bothQAScores_doc_9_down    0.3420\n",
       "93     wiki_ck12_ngrams_slide_bothQAScores_doc_8_down    0.3404\n",
       "65   wiki_ck12_ngrams_slide_bothQAScoresMustHave_mean    0.3316\n",
       "61  wiki_ck12_ngrams_slide_bothQAScoresMustHave_do...    0.3316\n",
       "53  wiki_ck12_ngrams_slide_bothQAScoresMustHave_doc_6    0.3316\n",
       "39  wiki_ck12_ngrams_slide_bothQAScoresMustHave_do...    0.3316\n",
       "43  wiki_ck12_ngrams_slide_bothQAScoresMustHave_do...    0.3312\n",
       "48  wiki_ck12_ngrams_slide_bothQAScoresMustHave_do...    0.3308\n",
       "40  wiki_ck12_ngrams_slide_bothQAScoresMustHave_do...    0.3308\n",
       "49  wiki_ck12_ngrams_slide_bothQAScoresMustHave_do...    0.3308\n",
       "56  wiki_ck12_ngrams_slide_bothQAScoresMustHave_doc_7    0.3304\n",
       "50  wiki_ck12_ngrams_slide_bothQAScoresMustHave_doc_5    0.3300\n",
       "64  wiki_ck12_ngrams_slide_bothQAScoresMustHave_do...    0.3300\n",
       "59  wiki_ck12_ngrams_slide_bothQAScoresMustHave_doc_8    0.3300\n",
       "66  wiki_ck12_ngrams_slide_bothQAScoresMustHave_me...    0.3296\n",
       "35  wiki_ck12_ngrams_slide_bothQAScoresMustHave_doc_1    0.3296\n",
       "46  wiki_ck12_ngrams_slide_bothQAScoresMustHave_do...    0.3292\n",
       "51  wiki_ck12_ngrams_slide_bothQAScoresMustHave_do...    0.3292\n",
       "52  wiki_ck12_ngrams_slide_bothQAScoresMustHave_do...    0.3292\n",
       "38  wiki_ck12_ngrams_slide_bothQAScoresMustHave_do...    0.3288\n",
       "62  wiki_ck12_ngrams_slide_bothQAScoresMustHave_doc_9    0.3288\n",
       "42  wiki_ck12_ngrams_slide_bothQAScoresMustHave_do...    0.3288\n",
       "47  wiki_ck12_ngrams_slide_bothQAScoresMustHave_doc_4    0.3284\n",
       "55  wiki_ck12_ngrams_slide_bothQAScoresMustHave_do...    0.3284\n",
       "54  wiki_ck12_ngrams_slide_bothQAScoresMustHave_do...    0.3284\n",
       "58  wiki_ck12_ngrams_slide_bothQAScoresMustHave_do...    0.3280\n",
       "36  wiki_ck12_ngrams_slide_bothQAScoresMustHave_do...    0.3276\n",
       "57  wiki_ck12_ngrams_slide_bothQAScoresMustHave_do...    0.3272\n",
       "41  wiki_ck12_ngrams_slide_bothQAScoresMustHave_doc_2    0.3272\n",
       "44  wiki_ck12_ngrams_slide_bothQAScoresMustHave_doc_3    0.3268\n",
       "                                                  ...       ...\n",
       "\n",
       "[134 rows x 2 columns]"
      ]
     },
     "execution_count": 105,
     "metadata": {},
     "output_type": "execute_result"
    }
   ],
   "source": [
    "bf = []\n",
    "for f in numeric_features:\n",
    "    accucary = (results[f] == results.correct).mean()\n",
    "    bf.append((f, accucary)) \n",
    "    \n",
    "bf = pd.DataFrame(bf, columns=['feature', 'accuracy'])\n",
    "bf.sort('accuracy', ascending=0)"
   ]
  },
  {
   "cell_type": "code",
   "execution_count": 94,
   "metadata": {
    "collapsed": false
   },
   "outputs": [
    {
     "data": {
      "text/plain": [
       "26"
      ]
     },
     "execution_count": 94,
     "metadata": {},
     "output_type": "execute_result"
    }
   ],
   "source": [
    "best_features = bf[bf.accuracy >= .35]\n",
    "len(best_features)"
   ]
  },
  {
   "cell_type": "code",
   "execution_count": 95,
   "metadata": {
    "collapsed": false
   },
   "outputs": [],
   "source": [
    "boolean_features = pd.DataFrame(dict(questionId=questions.questionId, \n",
    "                                     answerLetter=questions.answerLetter, \n",
    "                                     source=questions.source, \n",
    "                                     label=questions.label))"
   ]
  },
  {
   "cell_type": "code",
   "execution_count": 61,
   "metadata": {
    "collapsed": true
   },
   "outputs": [],
   "source": [
    "def chunks(l, n):\n",
    "    for i in xrange(0, len(l), n):\n",
    "        yield l[i:i+n]"
   ]
  },
  {
   "cell_type": "code",
   "execution_count": 62,
   "metadata": {
    "collapsed": true
   },
   "outputs": [],
   "source": [
    "def to_boolean(series):\n",
    "    series = np.array(series)\n",
    "\n",
    "    res = np.zeros_like(series, dtype=int)    \n",
    "    for i, chunk in enumerate(chunks(series, 4)):\n",
    "        max = np.max(chunk)\n",
    "        max_ids, = np.where(chunk == max)\n",
    "        if len(max_ids) == 4:\n",
    "            continue\n",
    "        for id in max_ids:\n",
    "            res[4 * i + id] = 1\n",
    "    return res"
   ]
  },
  {
   "cell_type": "code",
   "execution_count": 63,
   "metadata": {
    "collapsed": false
   },
   "outputs": [],
   "source": [
    "for f in best_features.feature:\n",
    "    boolean_features[f + 'max'] = to_boolean(  questions[f])\n",
    "    boolean_features[f + 'min'] = to_boolean(- questions[f])"
   ]
  },
  {
   "cell_type": "code",
   "execution_count": 64,
   "metadata": {
    "collapsed": false
   },
   "outputs": [],
   "source": [
    "total = best_features.accuracy.sum() "
   ]
  },
  {
   "cell_type": "code",
   "execution_count": 65,
   "metadata": {
    "collapsed": false
   },
   "outputs": [],
   "source": [
    "feature_weights = dict((f, a / total) for (f, a) in zip(bf.feature, bf.accuracy) if a >= 0.35)\n",
    "features, weights = zip(*feature_weights.items())\n",
    "features = list(features)\n",
    "weights = list(weights)"
   ]
  },
  {
   "cell_type": "code",
   "execution_count": 66,
   "metadata": {
    "collapsed": true
   },
   "outputs": [],
   "source": [
    "all_features = [f + 'max' for f in features] + [f + 'min' for f in features]"
   ]
  },
  {
   "cell_type": "markdown",
   "metadata": {},
   "source": [
    "## Training"
   ]
  },
  {
   "cell_type": "code",
   "execution_count": 21,
   "metadata": {
    "collapsed": true
   },
   "outputs": [],
   "source": [
    "from sklearn import cross_validation\n",
    "from sklearn.ensemble import RandomForestClassifier\n",
    "from sklearn.linear_model import LogisticRegression, LogisticRegressionCV\n",
    "from sklearn.feature_extraction.text import TfidfVectorizer\n",
    "from sklearn.metrics import roc_auc_score\n",
    "from scipy import sparse\n",
    "from collections import Counter"
   ]
  },
  {
   "cell_type": "code",
   "execution_count": 22,
   "metadata": {
    "collapsed": true
   },
   "outputs": [],
   "source": [
    "from sklearn.neighbors import KNeighborsClassifier\n",
    "from sklearn.svm import SVC, LinearSVC"
   ]
  },
  {
   "cell_type": "code",
   "execution_count": 23,
   "metadata": {
    "collapsed": true
   },
   "outputs": [],
   "source": [
    "from sklearn.decomposition import randomized_svd\n",
    "from sklearn.decomposition import NMF\n",
    "from sklearn.decomposition import TruncatedSVD\n",
    "from sklearn.random_projection import GaussianRandomProjection"
   ]
  },
  {
   "cell_type": "code",
   "execution_count": 24,
   "metadata": {
    "collapsed": true
   },
   "outputs": [],
   "source": [
    "train = boolean_features[boolean_features.source == 'TRAIN']"
   ]
  },
  {
   "cell_type": "code",
   "execution_count": 25,
   "metadata": {
    "collapsed": false
   },
   "outputs": [],
   "source": [
    "y = (train.label == 'true').astype(int).values"
   ]
  },
  {
   "cell_type": "code",
   "execution_count": 27,
   "metadata": {
    "collapsed": false
   },
   "outputs": [],
   "source": [
    "def calc_accuracy(y, y_score):\n",
    "    questions = chunks(zip(y, y_score),  4)\n",
    "\n",
    "    total = 0\n",
    "    correct = 0\n",
    "    for chunk in questions:\n",
    "        y_chunk, y_score_chunk = zip(*chunk)\n",
    "        correct = correct + (np.argmax(y_chunk) == np.argmax(y_score_chunk))\n",
    "        total = total + 1\n",
    "    \n",
    "    return 1.0 * correct / total"
   ]
  },
  {
   "cell_type": "code",
   "execution_count": 28,
   "metadata": {
    "collapsed": true
   },
   "outputs": [],
   "source": [
    "def train_test_split(X, y, n_iter=5, test_size=0.25):\n",
    "    if sparse.issparse(X):\n",
    "        X = X.tocsr()\n",
    "    n = len(y) / 4\n",
    "\n",
    "    split = cross_validation.ShuffleSplit(n=n, n_iter=n_iter, test_size=test_size)\n",
    "\n",
    "    for train, test in split:\n",
    "        train_idx = np.repeat(train, 4) * 4 + np.arange(len(train) * 4) % 4\n",
    "        test_idx  = np.repeat(test, 4) * 4  + np.arange(len(test) * 4) % 4\n",
    "        \n",
    "        yield (X[train_idx], y[train_idx], X[test_idx], y[test_idx])"
   ]
  },
  {
   "cell_type": "code",
   "execution_count": 29,
   "metadata": {
    "collapsed": true
   },
   "outputs": [],
   "source": [
    "X_0 = train[all_features].values"
   ]
  },
  {
   "cell_type": "code",
   "execution_count": 30,
   "metadata": {
    "collapsed": false
   },
   "outputs": [
    {
     "name": "stdout",
     "output_type": "stream",
     "text": [
      "0.362 ± 0.032\n"
     ]
    }
   ],
   "source": [
    "accs = []\n",
    "for X_train, y_train, X_test, y_test in train_test_split(X_0, y, n_iter=10, test_size=0.1):\n",
    "    clf = LogisticRegressionCV()\n",
    "    clf.fit(X_train, y_train)\n",
    "\n",
    "    y_score = clf.predict_proba(X_test)[:, 1]\n",
    "    acc = calc_accuracy(y_test, y_score)\n",
    "    accs.append(acc)\n",
    "    \n",
    "mean_acc = np.mean(accs)\n",
    "print '%0.3f ± %0.3f' % (mean_acc, np.std(accs))"
   ]
  },
  {
   "cell_type": "code",
   "execution_count": 31,
   "metadata": {
    "collapsed": false,
    "scrolled": true
   },
   "outputs": [
    {
     "name": "stdout",
     "output_type": "stream",
     "text": [
      "0.368 0.59868\n",
      "0.32 0.580837333333\n",
      "0.36 0.5854\n",
      "0.36 0.571826666667\n",
      "0.38 0.598088\n",
      "0.332 0.586261333333\n",
      "0.368 0.60564\n",
      "0.38 0.583664\n",
      "0.4 0.608442666667\n",
      "0.42 0.659642666667\n",
      "0.372 0.635237333333\n",
      "0.388 0.626304\n",
      "0.4 0.601997333333\n",
      "0.336 0.58504\n",
      "0.364 0.583554666667\n",
      "0.348 0.602792\n",
      "0.312 0.582512\n",
      "0.344 0.611072\n",
      "0.416 0.643592\n",
      "0.384 0.611050666667\n",
      "0.376 0.613874666667\n",
      "0.352 0.611658666667\n",
      "0.332 0.603984\n",
      "0.372 0.624469333333\n",
      "0.424 0.650152\n",
      "0.348 0.610210666667\n",
      "0.384 0.627578666667\n",
      "0.368 0.585816\n",
      "0.38 0.616074666667\n",
      "0.392 0.628592\n",
      "0.324 0.565925333333\n",
      "0.42 0.63232\n",
      "0.412 0.616736\n",
      "0.408 0.625616\n",
      "0.388 0.623101333333\n",
      "0.384 0.615208\n",
      "0.34 0.566205333333\n",
      "0.368 0.597346666667\n",
      "0.352 0.600909333333\n",
      "0.376 0.624069333333\n",
      "0.34 0.601752\n",
      "0.356 0.626485333333\n",
      "0.36 0.570874666667\n",
      "0.356 0.597330666667\n",
      "0.368 0.612117333333\n",
      "0.368 0.591733333333\n",
      "0.348 0.611562666667\n",
      "0.292 0.539816\n",
      "0.404 0.650656\n",
      "0.368 0.605858666667\n",
      "0.368 ± 0.029\n"
     ]
    }
   ],
   "source": [
    "accs = []\n",
    "for X_train, y_train, X_test, y_test in train_test_split(X_0, y, n_iter=50, test_size=0.1):\n",
    "    nmf = NMF(n_components=2, init='random')\n",
    "    X_train_red = nmf.fit_transform(X_train)\n",
    "\n",
    "    clf = LogisticRegressionCV()\n",
    "    clf.fit(X_train_red, y_train)\n",
    "\n",
    "    X_test_red = nmf.transform(X_test)\n",
    "    y_score = clf.predict_proba(X_test_red)[:, 1]\n",
    "    acc = calc_accuracy(y_test, y_score)\n",
    "    accs.append(acc)\n",
    "    print acc, roc_auc_score(y_test, y_score)\n",
    "    \n",
    "mean_acc = np.mean(accs)\n",
    "print '%0.3f ± %0.3f' % (mean_acc, np.std(accs))"
   ]
  },
  {
   "cell_type": "markdown",
   "metadata": {},
   "source": [
    "## Similarity b/w q and a"
   ]
  },
  {
   "cell_type": "markdown",
   "metadata": {},
   "source": [
    "### LSA on q/a docs"
   ]
  },
  {
   "cell_type": "code",
   "execution_count": 67,
   "metadata": {
    "collapsed": true
   },
   "outputs": [],
   "source": [
    "questions_train = questions[questions.source == 'TRAIN']"
   ]
  },
  {
   "cell_type": "code",
   "execution_count": 68,
   "metadata": {
    "collapsed": true
   },
   "outputs": [],
   "source": [
    "def identity_analyzer(x):\n",
    "    return x"
   ]
  },
  {
   "cell_type": "code",
   "execution_count": 69,
   "metadata": {
    "collapsed": true
   },
   "outputs": [],
   "source": [
    "from sklearn.feature_extraction import DictVectorizer"
   ]
  },
  {
   "cell_type": "code",
   "execution_count": 70,
   "metadata": {
    "collapsed": false
   },
   "outputs": [],
   "source": [
    "all_docs_train = \\\n",
    "    list(questions_train.wiki_full_qScores_doc_scores[::4].apply(dict)) + \\\n",
    "    list(questions_train.wiki_full_aScores_doc_scores.apply(dict))"
   ]
  },
  {
   "cell_type": "code",
   "execution_count": 71,
   "metadata": {
    "collapsed": false
   },
   "outputs": [
    {
     "data": {
      "text/plain": [
       "DictVectorizer(dtype=<type 'numpy.float64'>, separator='=', sort=True,\n",
       "        sparse=True)"
      ]
     },
     "execution_count": 71,
     "metadata": {},
     "output_type": "execute_result"
    }
   ],
   "source": [
    "dv = DictVectorizer()\n",
    "dv.fit(all_docs_train)"
   ]
  },
  {
   "cell_type": "code",
   "execution_count": 72,
   "metadata": {
    "collapsed": false
   },
   "outputs": [],
   "source": [
    "q_vec = dv.transform(list(questions.wiki_full_qScores_doc_scores.apply(dict)))\n",
    "a_vec = dv.transform(list(questions.wiki_full_aScores_doc_scores.apply(dict)))\n"
   ]
  },
  {
   "cell_type": "code",
   "execution_count": 73,
   "metadata": {
    "collapsed": false
   },
   "outputs": [],
   "source": [
    "sim_vec = []\n",
    "for q, a in zip(q_vec, a_vec):\n",
    "    qa = (q * a.T)\n",
    "    if qa:\n",
    "        sim_vec.append(qa.data[0])\n",
    "    else:\n",
    "        sim_vec.append(0.0)\n",
    "\n",
    "sim_vec = np.array(sim_vec)"
   ]
  },
  {
   "cell_type": "code",
   "execution_count": 74,
   "metadata": {
    "collapsed": true
   },
   "outputs": [],
   "source": [
    "questions['ck12_qa_doc_sim'] = sim_vec"
   ]
  },
  {
   "cell_type": "code",
   "execution_count": 75,
   "metadata": {
    "collapsed": false
   },
   "outputs": [
    {
     "data": {
      "text/plain": [
       "0.3124"
      ]
     },
     "execution_count": 75,
     "metadata": {},
     "output_type": "execute_result"
    }
   ],
   "source": [
    "calc_accuracy(y, sim_vec[questions.source.values == 'TRAIN'])"
   ]
  },
  {
   "cell_type": "code",
   "execution_count": 76,
   "metadata": {
    "collapsed": false
   },
   "outputs": [],
   "source": [
    "q_vec_train = dv.transform(list(questions_train.wiki_full_qScores_doc_scores.iloc[::4].apply(dict)))\n",
    "a_vec_train = dv.transform(list(questions_train.wiki_full_aScores_doc_scores.apply(dict)))\n",
    "\n",
    "all_docs = sparse.vstack([q_vec_train, a_vec_train])"
   ]
  },
  {
   "cell_type": "code",
   "execution_count": 77,
   "metadata": {
    "collapsed": false
   },
   "outputs": [
    {
     "data": {
      "text/plain": [
       "TruncatedSVD(algorithm='randomized', n_components=300, n_iter=5,\n",
       "       random_state=None, tol=0.0)"
      ]
     },
     "execution_count": 77,
     "metadata": {},
     "output_type": "execute_result"
    }
   ],
   "source": [
    "svd_doc = TruncatedSVD(n_components=300)\n",
    "svd_doc.fit(all_docs)"
   ]
  },
  {
   "cell_type": "code",
   "execution_count": 78,
   "metadata": {
    "collapsed": true
   },
   "outputs": [],
   "source": [
    "q_vec_svd = svd_doc.transform(q_vec)\n",
    "a_vec_svd = svd_doc.transform(a_vec)"
   ]
  },
  {
   "cell_type": "code",
   "execution_count": 79,
   "metadata": {
    "collapsed": true
   },
   "outputs": [],
   "source": [
    "doc_sim_svd = []\n",
    "for q, a in zip(q_vec_svd, a_vec_svd):\n",
    "    doc_sim_svd.append(q.dot(a))\n",
    "\n",
    "doc_sim_svd =  np.array(doc_sim_svd)"
   ]
  },
  {
   "cell_type": "code",
   "execution_count": 80,
   "metadata": {
    "collapsed": true
   },
   "outputs": [],
   "source": [
    "questions['wiki_qa_doc_sim_svd'] = doc_sim_svd"
   ]
  },
  {
   "cell_type": "code",
   "execution_count": 81,
   "metadata": {
    "collapsed": false,
    "scrolled": true
   },
   "outputs": [
    {
     "data": {
      "text/plain": [
       "0.3264"
      ]
     },
     "execution_count": 81,
     "metadata": {},
     "output_type": "execute_result"
    }
   ],
   "source": [
    "calc_accuracy(y, doc_sim_svd[questions.source.values == 'TRAIN'])"
   ]
  },
  {
   "cell_type": "code",
   "execution_count": 612,
   "metadata": {
    "collapsed": false
   },
   "outputs": [],
   "source": [
    "#to_boolean(questions['ck12_qa_doc_sim_svd'].values\n",
    "features = pd.DataFrame({\n",
    "              'questionId': questions.questionId, \n",
    "              'answerLetter': questions.answerLetter, \n",
    "              'source'\n",
    "              'label': questions.label, \n",
    "              'ck12_qa_doc_sim_svd': docsim.ck12_qa_doc_sim_svd_max,\n",
    "              'ck12_nmf_0': nmf_all[:, 0],\n",
    "              'ck12_nmf_1': nmf_all[:, 1]},\n",
    "            columns=['questionId', 'answerLetter', 'label', \n",
    "                     'ck12_qa_doc_sim_svd', 'ck12_nmf_0', 'ck12_nmf_1'])"
   ]
  },
  {
   "cell_type": "code",
   "execution_count": 615,
   "metadata": {
    "collapsed": true
   },
   "outputs": [],
   "source": [
    "features.to_csv('/home/agrigorev/git-projects/allen-qa/features/ck12_features.txt', index=0, sep='\\t')"
   ]
  },
  {
   "cell_type": "markdown",
   "metadata": {},
   "source": [
    "## Submission"
   ]
  },
  {
   "cell_type": "code",
   "execution_count": 42,
   "metadata": {
    "collapsed": true
   },
   "outputs": [],
   "source": [
    "test = boolean_features[questions.source == 'TEST']\n",
    "test_docsim = docsim[boolean_features.source == 'TEST']"
   ]
  },
  {
   "cell_type": "code",
   "execution_count": 582,
   "metadata": {
    "collapsed": true
   },
   "outputs": [],
   "source": [
    "X_0_test = test[all_features].values\n",
    "X_0_test_red = nmf.transform(X_0_test)"
   ]
  },
  {
   "cell_type": "code",
   "execution_count": 583,
   "metadata": {
    "collapsed": false
   },
   "outputs": [
    {
     "data": {
      "text/plain": [
       "0.4208"
      ]
     },
     "execution_count": 583,
     "metadata": {},
     "output_type": "execute_result"
    }
   ],
   "source": [
    "calc_accuracy(y, X_0_red[:, 1])"
   ]
  },
  {
   "cell_type": "code",
   "execution_count": 587,
   "metadata": {
    "collapsed": true
   },
   "outputs": [],
   "source": [
    "y_score = X_0_test_red[:, 1]"
   ]
  },
  {
   "cell_type": "code",
   "execution_count": 546,
   "metadata": {
    "collapsed": true
   },
   "outputs": [],
   "source": [
    "X_2_test = np.hstack([X_0_test_red, test_docsim.values])"
   ]
  },
  {
   "cell_type": "code",
   "execution_count": 547,
   "metadata": {
    "collapsed": false
   },
   "outputs": [
    {
     "data": {
      "text/plain": [
       "LogisticRegressionCV(Cs=10, class_weight=None, cv=None, dual=False,\n",
       "           fit_intercept=True, intercept_scaling=1.0, max_iter=100,\n",
       "           multi_class='ovr', n_jobs=1, penalty='l2', random_state=None,\n",
       "           refit=True, scoring=None, solver='lbfgs', tol=0.0001, verbose=0)"
      ]
     },
     "execution_count": 547,
     "metadata": {},
     "output_type": "execute_result"
    }
   ],
   "source": [
    "clf = LogisticRegressionCV()\n",
    "clf.fit(X_2, y)"
   ]
  },
  {
   "cell_type": "code",
   "execution_count": 548,
   "metadata": {
    "collapsed": false
   },
   "outputs": [],
   "source": [
    "y_score = clf.predict_proba(X_2_test)[:, 1]"
   ]
  },
  {
   "cell_type": "code",
   "execution_count": 588,
   "metadata": {
    "collapsed": false
   },
   "outputs": [
    {
     "data": {
      "text/html": [
       "<div style=\"max-height:1000px;max-width:1500px;overflow:auto;\">\n",
       "<table border=\"1\" class=\"dataframe\">\n",
       "  <thead>\n",
       "    <tr style=\"text-align: right;\">\n",
       "      <th></th>\n",
       "      <th>answer</th>\n",
       "      <th>idx</th>\n",
       "      <th>questionId</th>\n",
       "      <th>score</th>\n",
       "    </tr>\n",
       "  </thead>\n",
       "  <tbody>\n",
       "    <tr>\n",
       "      <th>52382</th>\n",
       "      <td> A</td>\n",
       "      <td> 0</td>\n",
       "      <td> 102501</td>\n",
       "      <td> 0.000000</td>\n",
       "    </tr>\n",
       "    <tr>\n",
       "      <th>52383</th>\n",
       "      <td> B</td>\n",
       "      <td> 1</td>\n",
       "      <td> 102501</td>\n",
       "      <td> 0.000000</td>\n",
       "    </tr>\n",
       "    <tr>\n",
       "      <th>52386</th>\n",
       "      <td> C</td>\n",
       "      <td> 2</td>\n",
       "      <td> 102501</td>\n",
       "      <td> 1.224320</td>\n",
       "    </tr>\n",
       "    <tr>\n",
       "      <th>52388</th>\n",
       "      <td> D</td>\n",
       "      <td> 3</td>\n",
       "      <td> 102501</td>\n",
       "      <td> 0.000000</td>\n",
       "    </tr>\n",
       "    <tr>\n",
       "      <th>52390</th>\n",
       "      <td> A</td>\n",
       "      <td> 4</td>\n",
       "      <td> 102502</td>\n",
       "      <td> 0.000000</td>\n",
       "    </tr>\n",
       "    <tr>\n",
       "      <th>52393</th>\n",
       "      <td> B</td>\n",
       "      <td> 5</td>\n",
       "      <td> 102502</td>\n",
       "      <td> 0.383347</td>\n",
       "    </tr>\n",
       "    <tr>\n",
       "      <th>52394</th>\n",
       "      <td> C</td>\n",
       "      <td> 6</td>\n",
       "      <td> 102502</td>\n",
       "      <td> 0.172953</td>\n",
       "    </tr>\n",
       "    <tr>\n",
       "      <th>52397</th>\n",
       "      <td> D</td>\n",
       "      <td> 7</td>\n",
       "      <td> 102502</td>\n",
       "      <td> 0.670249</td>\n",
       "    </tr>\n",
       "  </tbody>\n",
       "</table>\n",
       "<p>8 rows × 4 columns</p>\n",
       "</div>"
      ],
      "text/plain": [
       "      answer  idx questionId     score\n",
       "52382      A    0     102501  0.000000\n",
       "52383      B    1     102501  0.000000\n",
       "52386      C    2     102501  1.224320\n",
       "52388      D    3     102501  0.000000\n",
       "52390      A    4     102502  0.000000\n",
       "52393      B    5     102502  0.383347\n",
       "52394      C    6     102502  0.172953\n",
       "52397      D    7     102502  0.670249\n",
       "\n",
       "[8 rows x 4 columns]"
      ]
     },
     "execution_count": 588,
     "metadata": {},
     "output_type": "execute_result"
    }
   ],
   "source": [
    "idx = np.arange(len(test))\n",
    "\n",
    "val_index = pd.DataFrame({'idx': idx, 'questionId': test.questionId, \n",
    "                          'answer': test.answerLetter,\n",
    "                          'score': y_score})\n",
    "val_index.head(n=8)"
   ]
  },
  {
   "cell_type": "code",
   "execution_count": 589,
   "metadata": {
    "collapsed": false
   },
   "outputs": [],
   "source": [
    "result = []\n",
    "\n",
    "for id, group in val_index.groupby('questionId'):\n",
    "    answer_idx = group.score.values.argmax()\n",
    "    answer = group.answer.values[answer_idx]\n",
    "    result.append((id, answer))"
   ]
  },
  {
   "cell_type": "code",
   "execution_count": 590,
   "metadata": {
    "collapsed": true
   },
   "outputs": [],
   "source": [
    "res = pd.DataFrame(result, columns=['id', 'correctAnswer'])\n",
    "res.to_csv('/home/agrigorev/git-projects/allen-qa/test_result.csv', index=0)"
   ]
  },
  {
   "cell_type": "markdown",
   "metadata": {},
   "source": [
    "Majority Vote"
   ]
  },
  {
   "cell_type": "code",
   "execution_count": 192,
   "metadata": {
    "collapsed": true
   },
   "outputs": [],
   "source": [
    "result = []\n",
    "\n",
    "for id, group in test.groupby('questionId'):\n",
    "    row = {'questionId': id}\n",
    "    for f in features:\n",
    "        answer_idx = group[f + 'max'].values.argmax()\n",
    "        answer = group.answerLetter.values[answer_idx]\n",
    "        row[f] = answer\n",
    "\n",
    "    result.append(row)\n",
    "\n",
    "result = pd.DataFrame(result)\n",
    "\n",
    "def majority_vote(row):\n",
    "    cnt = Counter()\n",
    "    cnt.setdefault(lambda x: 0.0)\n",
    "    for pred, weight in zip(row[features].values, weights):\n",
    "        cnt[pred] = cnt[pred] + weight\n",
    "\n",
    "    (lab, _), = cnt.most_common(1)\n",
    "    return lab\n",
    "\n",
    "mvote = result.apply(majority_vote, axis=1)"
   ]
  },
  {
   "cell_type": "code",
   "execution_count": 198,
   "metadata": {
    "collapsed": false
   },
   "outputs": [],
   "source": [
    "mvote_res = pd.DataFrame({'id': result.questionId, 'correctAnswer': mvote}, columns=['id', 'correctAnswer'])\n",
    "mvote_res.to_csv('/home/agrigorev/git-projects/allen-qa/test_result_mvote.csv', index=0)"
   ]
  },
  {
   "cell_type": "code",
   "execution_count": null,
   "metadata": {
    "collapsed": true
   },
   "outputs": [],
   "source": []
  }
 ],
 "metadata": {
  "kernelspec": {
   "display_name": "Python 2",
   "language": "python",
   "name": "python2"
  },
  "language_info": {
   "codemirror_mode": {
    "name": "ipython",
    "version": 2
   },
   "file_extension": ".py",
   "mimetype": "text/x-python",
   "name": "python",
   "nbconvert_exporter": "python",
   "pygments_lexer": "ipython2",
   "version": "2.7.6"
  }
 },
 "nbformat": 4,
 "nbformat_minor": 0
}
