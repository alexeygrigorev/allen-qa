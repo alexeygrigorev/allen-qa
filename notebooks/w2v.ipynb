{
 "cells": [
  {
   "cell_type": "code",
   "execution_count": 8,
   "metadata": {
    "collapsed": true
   },
   "outputs": [],
   "source": [
    "import pandas as pd\n",
    "import numpy as np\n",
    "\n",
    "from collections import Counter\n",
    "\n",
    "import matplotlib.pyplot as plt \n",
    "%matplotlib inline"
   ]
  },
  {
   "cell_type": "code",
   "execution_count": 102,
   "metadata": {
    "collapsed": true
   },
   "outputs": [],
   "source": [
    "features = pd.read_csv('/home/agrigorev/git-projects/allen-qa/features.txt', sep='\\t')\n"
   ]
  },
  {
   "cell_type": "code",
   "execution_count": 103,
   "metadata": {
    "collapsed": false,
    "scrolled": true
   },
   "outputs": [],
   "source": [
    "def string_to_vec(s):\n",
    "    return np.array(map(float, s.split(',')))\n",
    "\n",
    "features.question_vec = features.question_vec.apply(string_to_vec)\n",
    "features.answer_vec = features.answer_vec.apply(string_to_vec)"
   ]
  },
  {
   "cell_type": "code",
   "execution_count": 174,
   "metadata": {
    "collapsed": false
   },
   "outputs": [],
   "source": [
    "def apply_row(row):\n",
    "    q = row.question_vec.values\n",
    "    a = row.answer_vec.values\n",
    "    cos = row.question_answer_cos_sim\n",
    "    return np.concatenate([np.abs(q - a), [cos]])\n",
    "\n",
    "def get_X(df):\n",
    "    return np.array([apply_row(row) for _, row in df.iterrows()])\n",
    "\n",
    "def get_y(df):\n",
    "    return (df.correct == 'CORRECT').values"
   ]
  },
  {
   "cell_type": "code",
   "execution_count": 128,
   "metadata": {
    "collapsed": false
   },
   "outputs": [
    {
     "data": {
      "text/plain": [
       "Counter({'CORRECT': 2440, 'NOT_CORRECT': 7320})"
      ]
     },
     "execution_count": 128,
     "metadata": {},
     "output_type": "execute_result"
    }
   ],
   "source": [
    "Counter(features.correct)"
   ]
  },
  {
   "cell_type": "code",
   "execution_count": 121,
   "metadata": {
    "collapsed": true
   },
   "outputs": [],
   "source": [
    "from sklearn.cross_validation import KFold\n",
    "from sklearn.ensemble import RandomForestClassifier\n",
    "from sklearn.linear_model import LogisticRegression\n",
    "\n",
    "from sklearn.metrics import roc_auc_score"
   ]
  },
  {
   "cell_type": "code",
   "execution_count": 111,
   "metadata": {
    "collapsed": false
   },
   "outputs": [],
   "source": [
    "question_ids = features.question_id\n",
    "uniq_ids = np.unique(question_ids.values)\n"
   ]
  },
  {
   "cell_type": "code",
   "execution_count": 184,
   "metadata": {
    "collapsed": false
   },
   "outputs": [
    {
     "name": "stdout",
     "output_type": "stream",
     "text": [
      "781 2440 0.320081967213\n"
     ]
    }
   ],
   "source": [
    "correct = 0\n",
    "total = 0\n",
    "for id, group in features.groupby('question_id'):\n",
    "    scores = group.question_answer_cos_sim.values\n",
    "    corr = group.answer[group.correct == 'CORRECT'].iloc[0] == group.answer.iloc[scores.argmax()]\n",
    "    correct = correct + corr\n",
    "    total = total + 1\n",
    "\n",
    "print correct, total, 1.0 * correct / total"
   ]
  },
  {
   "cell_type": "code",
   "execution_count": 191,
   "metadata": {
    "collapsed": true
   },
   "outputs": [],
   "source": [
    "def predict_answer(model, group):\n",
    "    X_test = get_X(group)\n",
    "    y_scores = model.predict_proba(X_test)[:, 1]\n",
    "    return group.answer.iloc[np.argmax(y_scores)]"
   ]
  },
  {
   "cell_type": "code",
   "execution_count": 243,
   "metadata": {
    "collapsed": false
   },
   "outputs": [
    {
     "name": "stdout",
     "output_type": "stream",
     "text": [
      " 0.488715511063 0.47568417988 0.503882804802 0.520939711547 0.519937516797 0.493796470483 0.508675423273 0.466482464391 0.540978007704 0.492458344531\n"
     ]
    }
   ],
   "source": [
    "kf = KFold(n=len(uniq_ids), n_folds=10)\n",
    "\n",
    "models = []\n",
    "\n",
    "for train, test in kf:\n",
    "    train_ids = uniq_ids[train]\n",
    "    test_ids = uniq_ids[test]\n",
    "\n",
    "    X_train = get_X(features[question_ids.isin(train_ids)])\n",
    "    y_train = get_y(features[question_ids.isin(train_ids)])\n",
    "\n",
    "    lr = RandomForestClassifier(n_estimators=15)\n",
    "    \n",
    "    #LogisticRegression(C=0.01, penalty='l1')\n",
    "    lr.fit(X_train, y_train)\n",
    "\n",
    "    X_test = get_X(features[question_ids.isin(test_ids)])\n",
    "    y_test = get_y(features[question_ids.isin(test_ids)])\n",
    "    score = lr.predict_proba(X_test)[:, 1]\n",
    "    auc = roc_auc_score(y_test, score)\n",
    "    print auc\n",
    "\n",
    "    #acc = []\n",
    "    #for id, group in features[question_ids.isin(test_ids)].groupby('question_id'):\n",
    "    #    correct_answer = group.answer[group.correct == 'CORRECT'].iloc[0]\n",
    "    #    predicted_asnwer = predict_answer(lr, group)\n",
    "    #    acc.append(correct_answer == predicted_asnwer)         \n",
    "    # print np.mean(acc)\n",
    "    # models.append(lr)"
   ]
  },
  {
   "cell_type": "code",
   "execution_count": 212,
   "metadata": {
    "collapsed": true
   },
   "outputs": [],
   "source": [
    "def predict_ensemble(models, group):\n",
    "    answers = [predict_answer(m, group) for m in models]\n",
    "    ans, _ = Counter(answers).most_common(1)[0]\n",
    "    return ans"
   ]
  },
  {
   "cell_type": "code",
   "execution_count": 213,
   "metadata": {
    "collapsed": false
   },
   "outputs": [
    {
     "data": {
      "text/plain": [
       "'A'"
      ]
     },
     "execution_count": 213,
     "metadata": {},
     "output_type": "execute_result"
    }
   ],
   "source": [
    "predict_ensemble(models, group)"
   ]
  },
  {
   "cell_type": "code",
   "execution_count": 194,
   "metadata": {
    "collapsed": true
   },
   "outputs": [],
   "source": [
    "features_validation = pd.read_csv('/home/agrigorev/git-projects/allen-qa/validation_features.txt', sep='\\t')\n"
   ]
  },
  {
   "cell_type": "code",
   "execution_count": 235,
   "metadata": {
    "collapsed": false
   },
   "outputs": [
    {
     "name": "stdout",
     "output_type": "stream",
     "text": [
      "iteration 0\n",
      "iteration 500\n",
      "iteration 1000\n",
      "iteration 1500\n",
      "iteration 2000\n",
      "iteration 2500\n",
      "iteration 3000\n",
      "iteration 3500\n",
      "iteration 4000\n",
      "iteration 4500\n",
      "iteration 5000\n",
      "iteration 5500\n",
      "iteration 6000\n",
      "iteration 6500\n",
      "iteration 7000\n",
      "iteration 7500\n",
      "iteration 8000\n"
     ]
    }
   ],
   "source": [
    "result = []\n",
    "i = 0\n",
    "for id, group in features_validation.groupby('question_id'):\n",
    "    if i % 500 == 0:\n",
    "        print 'iteration %d' % i\n",
    "    good = group[~ group.question_answer_cos_sim.isnull()]\n",
    "    if not good.empty:\n",
    "        good.question_vec = good.question_vec.apply(string_to_vec)\n",
    "        good.answer_vec = good.answer_vec.apply(string_to_vec)\n",
    "        result.append((id, predict_ensemble(models, good)))\n",
    "    else:\n",
    "        result.append((id, 'A'))\n",
    "    \n",
    "    i = i + 1"
   ]
  },
  {
   "cell_type": "code",
   "execution_count": 239,
   "metadata": {
    "collapsed": false
   },
   "outputs": [],
   "source": [
    "res = pd.DataFrame(result, columns=['id', 'correctAnswer'])\n",
    "res.to_csv('/home/agrigorev/git-projects/allen-qa/validation_result.csv', index=0)"
   ]
  },
  {
   "cell_type": "code",
   "execution_count": null,
   "metadata": {
    "collapsed": true
   },
   "outputs": [],
   "source": []
  }
 ],
 "metadata": {
  "kernelspec": {
   "display_name": "Python 2",
   "language": "python",
   "name": "python2"
  },
  "language_info": {
   "codemirror_mode": {
    "name": "ipython",
    "version": 2
   },
   "file_extension": ".py",
   "mimetype": "text/x-python",
   "name": "python",
   "nbconvert_exporter": "python",
   "pygments_lexer": "ipython2",
   "version": "2.7.6"
  }
 },
 "nbformat": 4,
 "nbformat_minor": 0
}
