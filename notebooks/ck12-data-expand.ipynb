{
 "cells": [
  {
   "cell_type": "code",
   "execution_count": 1,
   "metadata": {
    "collapsed": true
   },
   "outputs": [],
   "source": [
    "import pandas as pd\n",
    "import numpy as np\n",
    "\n",
    "import codecs\n",
    "import json\n",
    "\n",
    "import matplotlib.pyplot as plt \n",
    "%matplotlib inline"
   ]
  },
  {
   "cell_type": "code",
   "execution_count": 2,
   "metadata": {
    "collapsed": true
   },
   "outputs": [],
   "source": [
    "def unwrap_lucene_features(name, row):\n",
    "    doc_scores = ['qScores', 'aScores', 'bothQAScores', 'bothQAScoresMustHave']\n",
    "    doc_ids = ['qDocs', 'aDocs', 'bothQADoc', 'bothQADocAMustHave']\n",
    "\n",
    "    d = row[name]\n",
    "\n",
    "    for scores, docs in zip(doc_scores, doc_ids):\n",
    "        d_scores = d[scores]\n",
    "        std = np.std(d_scores)\n",
    "        d[scores + '_mean'] = np.mean(d_scores)\n",
    "        d[scores + '_std'] = std\n",
    "        d[scores + '_median'] = np.median(d_scores)\n",
    "        d[scores + '_doc_scores'] = zip(d[docs], d_scores)\n",
    "\n",
    "        for i, score in enumerate(d_scores):\n",
    "            d['%s_doc_%d' % (scores, i + 1)] = score\n",
    "            d['%s_doc_%d_up' % (scores, i + 1)] = score + std\n",
    "            d['%s_doc_%d_down' % (scores, i + 1)] = score - std\n",
    "\n",
    "    blacklist = set(doc_scores + doc_ids)\n",
    "    tuples = [(name + '_' + n, f) for (n, f) in d.items() if n not in blacklist]\n",
    "\n",
    "    return dict(tuples)"
   ]
  },
  {
   "cell_type": "code",
   "execution_count": 3,
   "metadata": {
    "collapsed": false
   },
   "outputs": [],
   "source": [
    "lucene_features = ['ck12_ebook_ngrams']\n",
    "\n",
    "def transform(row):\n",
    "    for lucene_feature in lucene_features:\n",
    "        lfs = unwrap_lucene_features(lucene_feature, row['luceneFeatures'])\n",
    "        row.update(lfs)\n",
    "\n",
    "    del row['luceneFeatures']\n",
    "    del row['word2VecFeatures']\n",
    "    return row"
   ]
  },
  {
   "cell_type": "code",
   "execution_count": 4,
   "metadata": {
    "collapsed": true
   },
   "outputs": [],
   "source": [
    "dicts = []\n",
    "\n",
    "with codecs.open('/home/agrigorev/git-projects/allen-qa/lucene-features-7-concepts.json', 'r', 'utf-8') as f:\n",
    "    for line in f:\n",
    "        row = json.loads(line)\n",
    "        row = transform(row)\n",
    "        dicts.append(row)\n"
   ]
  },
  {
   "cell_type": "code",
   "execution_count": 5,
   "metadata": {
    "collapsed": true
   },
   "outputs": [],
   "source": [
    "questions = pd.DataFrame(dicts)\n",
    "del dicts"
   ]
  },
  {
   "cell_type": "code",
   "execution_count": 6,
   "metadata": {
    "collapsed": false
   },
   "outputs": [],
   "source": [
    "questions.sort(columns=['questionId', 'answerLetter'], inplace=1)"
   ]
  },
  {
   "cell_type": "code",
   "execution_count": 7,
   "metadata": {
    "collapsed": false
   },
   "outputs": [
    {
     "data": {
      "text/html": [
       "<div style=\"max-height:1000px;max-width:1500px;overflow:auto;\">\n",
       "<table border=\"1\" class=\"dataframe\">\n",
       "  <thead>\n",
       "    <tr style=\"text-align: right;\">\n",
       "      <th></th>\n",
       "      <th>answer</th>\n",
       "      <th>answerLetter</th>\n",
       "      <th>ck12_ebook_ngrams_aScores_doc_1</th>\n",
       "      <th>ck12_ebook_ngrams_aScores_doc_10</th>\n",
       "      <th>ck12_ebook_ngrams_aScores_doc_10_down</th>\n",
       "      <th>ck12_ebook_ngrams_aScores_doc_10_up</th>\n",
       "      <th>ck12_ebook_ngrams_aScores_doc_1_down</th>\n",
       "      <th>ck12_ebook_ngrams_aScores_doc_1_up</th>\n",
       "      <th>ck12_ebook_ngrams_aScores_doc_2</th>\n",
       "      <th>ck12_ebook_ngrams_aScores_doc_2_down</th>\n",
       "      <th>ck12_ebook_ngrams_aScores_doc_2_up</th>\n",
       "      <th>ck12_ebook_ngrams_aScores_doc_3</th>\n",
       "      <th>ck12_ebook_ngrams_aScores_doc_3_down</th>\n",
       "      <th>ck12_ebook_ngrams_aScores_doc_3_up</th>\n",
       "      <th>ck12_ebook_ngrams_aScores_doc_4</th>\n",
       "      <th>ck12_ebook_ngrams_aScores_doc_4_down</th>\n",
       "      <th>ck12_ebook_ngrams_aScores_doc_4_up</th>\n",
       "      <th>ck12_ebook_ngrams_aScores_doc_5</th>\n",
       "      <th>ck12_ebook_ngrams_aScores_doc_5_down</th>\n",
       "      <th>ck12_ebook_ngrams_aScores_doc_5_up</th>\n",
       "      <th></th>\n",
       "    </tr>\n",
       "  </thead>\n",
       "  <tbody>\n",
       "    <tr>\n",
       "      <th>78636</th>\n",
       "      <td>     [tissue level]</td>\n",
       "      <td> A</td>\n",
       "      <td> 2.914862</td>\n",
       "      <td> 1.310292</td>\n",
       "      <td> 0.766173</td>\n",
       "      <td> 1.854412</td>\n",
       "      <td> 2.370743</td>\n",
       "      <td>  3.458982</td>\n",
       "      <td> 2.702926</td>\n",
       "      <td> 2.158806</td>\n",
       "      <td>  3.247045</td>\n",
       "      <td> 2.551398</td>\n",
       "      <td> 2.007278</td>\n",
       "      <td>  3.095517</td>\n",
       "      <td> 2.163185</td>\n",
       "      <td> 1.619065</td>\n",
       "      <td>  2.707304</td>\n",
       "      <td> 1.971255</td>\n",
       "      <td> 1.427136</td>\n",
       "      <td> 2.515375</td>\n",
       "      <td>...</td>\n",
       "    </tr>\n",
       "    <tr>\n",
       "      <th>78641</th>\n",
       "      <td>      [organ level]</td>\n",
       "      <td> B</td>\n",
       "      <td> 6.497361</td>\n",
       "      <td> 2.429563</td>\n",
       "      <td> 1.112897</td>\n",
       "      <td> 3.746229</td>\n",
       "      <td> 5.180695</td>\n",
       "      <td>  7.814027</td>\n",
       "      <td> 5.158724</td>\n",
       "      <td> 3.842058</td>\n",
       "      <td>  6.475390</td>\n",
       "      <td> 4.827022</td>\n",
       "      <td> 3.510356</td>\n",
       "      <td>  6.143688</td>\n",
       "      <td> 4.741087</td>\n",
       "      <td> 3.424421</td>\n",
       "      <td>  6.057753</td>\n",
       "      <td> 3.181255</td>\n",
       "      <td> 1.864589</td>\n",
       "      <td> 4.497921</td>\n",
       "      <td>...</td>\n",
       "    </tr>\n",
       "    <tr>\n",
       "      <th>78649</th>\n",
       "      <td>     [system level]</td>\n",
       "      <td> C</td>\n",
       "      <td> 3.665062</td>\n",
       "      <td> 1.854151</td>\n",
       "      <td> 1.209421</td>\n",
       "      <td> 2.498880</td>\n",
       "      <td> 3.020332</td>\n",
       "      <td>  4.309792</td>\n",
       "      <td> 3.563983</td>\n",
       "      <td> 2.919254</td>\n",
       "      <td>  4.208713</td>\n",
       "      <td> 3.372388</td>\n",
       "      <td> 2.727658</td>\n",
       "      <td>  4.017117</td>\n",
       "      <td> 3.345207</td>\n",
       "      <td> 2.700478</td>\n",
       "      <td>  3.989937</td>\n",
       "      <td> 3.312835</td>\n",
       "      <td> 2.668105</td>\n",
       "      <td> 3.957565</td>\n",
       "      <td>...</td>\n",
       "    </tr>\n",
       "    <tr>\n",
       "      <th>78654</th>\n",
       "      <td>   [cellular level]</td>\n",
       "      <td> D</td>\n",
       "      <td> 9.657662</td>\n",
       "      <td> 3.335558</td>\n",
       "      <td> 0.621736</td>\n",
       "      <td> 6.049379</td>\n",
       "      <td> 6.943841</td>\n",
       "      <td> 12.371484</td>\n",
       "      <td> 9.657662</td>\n",
       "      <td> 6.943841</td>\n",
       "      <td> 12.371484</td>\n",
       "      <td> 9.599337</td>\n",
       "      <td> 6.885515</td>\n",
       "      <td> 12.313158</td>\n",
       "      <td> 8.442158</td>\n",
       "      <td> 5.728336</td>\n",
       "      <td> 11.155979</td>\n",
       "      <td> 6.503883</td>\n",
       "      <td> 3.790062</td>\n",
       "      <td> 9.217705</td>\n",
       "      <td>...</td>\n",
       "    </tr>\n",
       "    <tr>\n",
       "      <th>78657</th>\n",
       "      <td> [smell, air, odor]</td>\n",
       "      <td> A</td>\n",
       "      <td> 4.996667</td>\n",
       "      <td> 1.335892</td>\n",
       "      <td> 0.049395</td>\n",
       "      <td> 2.622389</td>\n",
       "      <td> 3.710170</td>\n",
       "      <td>  6.283165</td>\n",
       "      <td> 4.859098</td>\n",
       "      <td> 3.572601</td>\n",
       "      <td>  6.145595</td>\n",
       "      <td> 3.680152</td>\n",
       "      <td> 2.393655</td>\n",
       "      <td>  4.966649</td>\n",
       "      <td> 2.218822</td>\n",
       "      <td> 0.932325</td>\n",
       "      <td>  3.505319</td>\n",
       "      <td> 2.010784</td>\n",
       "      <td> 0.724287</td>\n",
       "      <td> 3.297281</td>\n",
       "      <td>...</td>\n",
       "    </tr>\n",
       "  </tbody>\n",
       "</table>\n",
       "<p>5 rows × 149 columns</p>\n",
       "</div>"
      ],
      "text/plain": [
       "                   answer answerLetter  ck12_ebook_ngrams_aScores_doc_1  \\\n",
       "78636      [tissue level]            A                         2.914862   \n",
       "78641       [organ level]            B                         6.497361   \n",
       "78649      [system level]            C                         3.665062   \n",
       "78654    [cellular level]            D                         9.657662   \n",
       "78657  [smell, air, odor]            A                         4.996667   \n",
       "\n",
       "       ck12_ebook_ngrams_aScores_doc_10  \\\n",
       "78636                          1.310292   \n",
       "78641                          2.429563   \n",
       "78649                          1.854151   \n",
       "78654                          3.335558   \n",
       "78657                          1.335892   \n",
       "\n",
       "       ck12_ebook_ngrams_aScores_doc_10_down  \\\n",
       "78636                               0.766173   \n",
       "78641                               1.112897   \n",
       "78649                               1.209421   \n",
       "78654                               0.621736   \n",
       "78657                               0.049395   \n",
       "\n",
       "       ck12_ebook_ngrams_aScores_doc_10_up  \\\n",
       "78636                             1.854412   \n",
       "78641                             3.746229   \n",
       "78649                             2.498880   \n",
       "78654                             6.049379   \n",
       "78657                             2.622389   \n",
       "\n",
       "       ck12_ebook_ngrams_aScores_doc_1_down  \\\n",
       "78636                              2.370743   \n",
       "78641                              5.180695   \n",
       "78649                              3.020332   \n",
       "78654                              6.943841   \n",
       "78657                              3.710170   \n",
       "\n",
       "       ck12_ebook_ngrams_aScores_doc_1_up  ck12_ebook_ngrams_aScores_doc_2  \\\n",
       "78636                            3.458982                         2.702926   \n",
       "78641                            7.814027                         5.158724   \n",
       "78649                            4.309792                         3.563983   \n",
       "78654                           12.371484                         9.657662   \n",
       "78657                            6.283165                         4.859098   \n",
       "\n",
       "       ck12_ebook_ngrams_aScores_doc_2_down  \\\n",
       "78636                              2.158806   \n",
       "78641                              3.842058   \n",
       "78649                              2.919254   \n",
       "78654                              6.943841   \n",
       "78657                              3.572601   \n",
       "\n",
       "       ck12_ebook_ngrams_aScores_doc_2_up  ck12_ebook_ngrams_aScores_doc_3  \\\n",
       "78636                            3.247045                         2.551398   \n",
       "78641                            6.475390                         4.827022   \n",
       "78649                            4.208713                         3.372388   \n",
       "78654                           12.371484                         9.599337   \n",
       "78657                            6.145595                         3.680152   \n",
       "\n",
       "       ck12_ebook_ngrams_aScores_doc_3_down  \\\n",
       "78636                              2.007278   \n",
       "78641                              3.510356   \n",
       "78649                              2.727658   \n",
       "78654                              6.885515   \n",
       "78657                              2.393655   \n",
       "\n",
       "       ck12_ebook_ngrams_aScores_doc_3_up  ck12_ebook_ngrams_aScores_doc_4  \\\n",
       "78636                            3.095517                         2.163185   \n",
       "78641                            6.143688                         4.741087   \n",
       "78649                            4.017117                         3.345207   \n",
       "78654                           12.313158                         8.442158   \n",
       "78657                            4.966649                         2.218822   \n",
       "\n",
       "       ck12_ebook_ngrams_aScores_doc_4_down  \\\n",
       "78636                              1.619065   \n",
       "78641                              3.424421   \n",
       "78649                              2.700478   \n",
       "78654                              5.728336   \n",
       "78657                              0.932325   \n",
       "\n",
       "       ck12_ebook_ngrams_aScores_doc_4_up  ck12_ebook_ngrams_aScores_doc_5  \\\n",
       "78636                            2.707304                         1.971255   \n",
       "78641                            6.057753                         3.181255   \n",
       "78649                            3.989937                         3.312835   \n",
       "78654                           11.155979                         6.503883   \n",
       "78657                            3.505319                         2.010784   \n",
       "\n",
       "       ck12_ebook_ngrams_aScores_doc_5_down  \\\n",
       "78636                              1.427136   \n",
       "78641                              1.864589   \n",
       "78649                              2.668105   \n",
       "78654                              3.790062   \n",
       "78657                              0.724287   \n",
       "\n",
       "       ck12_ebook_ngrams_aScores_doc_5_up      \n",
       "78636                            2.515375 ...  \n",
       "78641                            4.497921 ...  \n",
       "78649                            3.957565 ...  \n",
       "78654                            9.217705 ...  \n",
       "78657                            3.297281 ...  \n",
       "\n",
       "[5 rows x 149 columns]"
      ]
     },
     "execution_count": 7,
     "metadata": {},
     "output_type": "execute_result"
    }
   ],
   "source": [
    "questions.head()"
   ]
  },
  {
   "cell_type": "markdown",
   "metadata": {},
   "source": [
    "### Let's find what numeric features are most accurate"
   ]
  },
  {
   "cell_type": "code",
   "execution_count": 8,
   "metadata": {
    "collapsed": true
   },
   "outputs": [],
   "source": [
    "train = questions[questions.source == 'TRAIN']"
   ]
  },
  {
   "cell_type": "code",
   "execution_count": 9,
   "metadata": {
    "collapsed": false
   },
   "outputs": [],
   "source": [
    "num = train._get_numeric_data()\n",
    "numeric_features = list(num.columns)"
   ]
  },
  {
   "cell_type": "code",
   "execution_count": 10,
   "metadata": {
    "collapsed": false
   },
   "outputs": [],
   "source": [
    "results = []\n",
    "\n",
    "for id, group in train.groupby('questionId'):\n",
    "    row = {}\n",
    "    row['correct'] = (group.label == 'true').values.argmax()\n",
    "\n",
    "    for f in numeric_features:\n",
    "        row[f] = group[f].values.argmax()\n",
    "    \n",
    "    results.append(row)\n",
    "\n",
    "results = pd.DataFrame(results)"
   ]
  },
  {
   "cell_type": "code",
   "execution_count": 11,
   "metadata": {
    "collapsed": false,
    "scrolled": true
   },
   "outputs": [
    {
     "data": {
      "text/html": [
       "<div style=\"max-height:1000px;max-width:1500px;overflow:auto;\">\n",
       "<table border=\"1\" class=\"dataframe\">\n",
       "  <thead>\n",
       "    <tr style=\"text-align: right;\">\n",
       "      <th></th>\n",
       "      <th>feature</th>\n",
       "      <th>accuracy</th>\n",
       "    </tr>\n",
       "  </thead>\n",
       "  <tbody>\n",
       "    <tr>\n",
       "      <th>64 </th>\n",
       "      <td>   ck12_ebook_ngrams_bothQAScoresMustHave_doc_9_up</td>\n",
       "      <td> 0.3844</td>\n",
       "    </tr>\n",
       "    <tr>\n",
       "      <th>49 </th>\n",
       "      <td>   ck12_ebook_ngrams_bothQAScoresMustHave_doc_4_up</td>\n",
       "      <td> 0.3832</td>\n",
       "    </tr>\n",
       "    <tr>\n",
       "      <th>61 </th>\n",
       "      <td>   ck12_ebook_ngrams_bothQAScoresMustHave_doc_8_up</td>\n",
       "      <td> 0.3832</td>\n",
       "    </tr>\n",
       "    <tr>\n",
       "      <th>38 </th>\n",
       "      <td>  ck12_ebook_ngrams_bothQAScoresMustHave_doc_10_up</td>\n",
       "      <td> 0.3800</td>\n",
       "    </tr>\n",
       "    <tr>\n",
       "      <th>39 </th>\n",
       "      <td> ck12_ebook_ngrams_bothQAScoresMustHave_doc_1_down</td>\n",
       "      <td> 0.3800</td>\n",
       "    </tr>\n",
       "    <tr>\n",
       "      <th>58 </th>\n",
       "      <td>   ck12_ebook_ngrams_bothQAScoresMustHave_doc_7_up</td>\n",
       "      <td> 0.3796</td>\n",
       "    </tr>\n",
       "    <tr>\n",
       "      <th>52 </th>\n",
       "      <td>   ck12_ebook_ngrams_bothQAScoresMustHave_doc_5_up</td>\n",
       "      <td> 0.3784</td>\n",
       "    </tr>\n",
       "    <tr>\n",
       "      <th>55 </th>\n",
       "      <td>   ck12_ebook_ngrams_bothQAScoresMustHave_doc_6_up</td>\n",
       "      <td> 0.3776</td>\n",
       "    </tr>\n",
       "    <tr>\n",
       "      <th>35 </th>\n",
       "      <td>      ck12_ebook_ngrams_bothQAScoresMustHave_doc_1</td>\n",
       "      <td> 0.3772</td>\n",
       "    </tr>\n",
       "    <tr>\n",
       "      <th>43 </th>\n",
       "      <td>   ck12_ebook_ngrams_bothQAScoresMustHave_doc_2_up</td>\n",
       "      <td> 0.3752</td>\n",
       "    </tr>\n",
       "    <tr>\n",
       "      <th>65 </th>\n",
       "      <td>       ck12_ebook_ngrams_bothQAScoresMustHave_mean</td>\n",
       "      <td> 0.3740</td>\n",
       "    </tr>\n",
       "    <tr>\n",
       "      <th>46 </th>\n",
       "      <td>   ck12_ebook_ngrams_bothQAScoresMustHave_doc_3_up</td>\n",
       "      <td> 0.3736</td>\n",
       "    </tr>\n",
       "    <tr>\n",
       "      <th>41 </th>\n",
       "      <td>      ck12_ebook_ngrams_bothQAScoresMustHave_doc_2</td>\n",
       "      <td> 0.3732</td>\n",
       "    </tr>\n",
       "    <tr>\n",
       "      <th>40 </th>\n",
       "      <td>   ck12_ebook_ngrams_bothQAScoresMustHave_doc_1_up</td>\n",
       "      <td> 0.3732</td>\n",
       "    </tr>\n",
       "    <tr>\n",
       "      <th>44 </th>\n",
       "      <td>      ck12_ebook_ngrams_bothQAScoresMustHave_doc_3</td>\n",
       "      <td> 0.3616</td>\n",
       "    </tr>\n",
       "    <tr>\n",
       "      <th>42 </th>\n",
       "      <td> ck12_ebook_ngrams_bothQAScoresMustHave_doc_2_down</td>\n",
       "      <td> 0.3512</td>\n",
       "    </tr>\n",
       "    <tr>\n",
       "      <th>67 </th>\n",
       "      <td>        ck12_ebook_ngrams_bothQAScoresMustHave_std</td>\n",
       "      <td> 0.3480</td>\n",
       "    </tr>\n",
       "    <tr>\n",
       "      <th>47 </th>\n",
       "      <td>      ck12_ebook_ngrams_bothQAScoresMustHave_doc_4</td>\n",
       "      <td> 0.3456</td>\n",
       "    </tr>\n",
       "    <tr>\n",
       "      <th>98 </th>\n",
       "      <td>               ck12_ebook_ngrams_bothQAScores_mean</td>\n",
       "      <td> 0.3356</td>\n",
       "    </tr>\n",
       "    <tr>\n",
       "      <th>53 </th>\n",
       "      <td>      ck12_ebook_ngrams_bothQAScoresMustHave_doc_6</td>\n",
       "      <td> 0.3332</td>\n",
       "    </tr>\n",
       "    <tr>\n",
       "      <th>50 </th>\n",
       "      <td>      ck12_ebook_ngrams_bothQAScoresMustHave_doc_5</td>\n",
       "      <td> 0.3320</td>\n",
       "    </tr>\n",
       "    <tr>\n",
       "      <th>56 </th>\n",
       "      <td>      ck12_ebook_ngrams_bothQAScoresMustHave_doc_7</td>\n",
       "      <td> 0.3320</td>\n",
       "    </tr>\n",
       "    <tr>\n",
       "      <th>66 </th>\n",
       "      <td>     ck12_ebook_ngrams_bothQAScoresMustHave_median</td>\n",
       "      <td> 0.3308</td>\n",
       "    </tr>\n",
       "    <tr>\n",
       "      <th>59 </th>\n",
       "      <td>      ck12_ebook_ngrams_bothQAScoresMustHave_doc_8</td>\n",
       "      <td> 0.3292</td>\n",
       "    </tr>\n",
       "    <tr>\n",
       "      <th>62 </th>\n",
       "      <td>      ck12_ebook_ngrams_bothQAScoresMustHave_doc_9</td>\n",
       "      <td> 0.3276</td>\n",
       "    </tr>\n",
       "    <tr>\n",
       "      <th>83 </th>\n",
       "      <td>              ck12_ebook_ngrams_bothQAScores_doc_5</td>\n",
       "      <td> 0.3236</td>\n",
       "    </tr>\n",
       "    <tr>\n",
       "      <th>99 </th>\n",
       "      <td>             ck12_ebook_ngrams_bothQAScores_median</td>\n",
       "      <td> 0.3232</td>\n",
       "    </tr>\n",
       "    <tr>\n",
       "      <th>69 </th>\n",
       "      <td>             ck12_ebook_ngrams_bothQAScores_doc_10</td>\n",
       "      <td> 0.3224</td>\n",
       "    </tr>\n",
       "    <tr>\n",
       "      <th>97 </th>\n",
       "      <td>           ck12_ebook_ngrams_bothQAScores_doc_9_up</td>\n",
       "      <td> 0.3224</td>\n",
       "    </tr>\n",
       "    <tr>\n",
       "      <th>88 </th>\n",
       "      <td>           ck12_ebook_ngrams_bothQAScores_doc_6_up</td>\n",
       "      <td> 0.3212</td>\n",
       "    </tr>\n",
       "    <tr>\n",
       "      <th>71 </th>\n",
       "      <td>          ck12_ebook_ngrams_bothQAScores_doc_10_up</td>\n",
       "      <td> 0.3196</td>\n",
       "    </tr>\n",
       "    <tr>\n",
       "      <th>77 </th>\n",
       "      <td>              ck12_ebook_ngrams_bothQAScores_doc_3</td>\n",
       "      <td> 0.3196</td>\n",
       "    </tr>\n",
       "    <tr>\n",
       "      <th>75 </th>\n",
       "      <td>         ck12_ebook_ngrams_bothQAScores_doc_2_down</td>\n",
       "      <td> 0.3188</td>\n",
       "    </tr>\n",
       "    <tr>\n",
       "      <th>79 </th>\n",
       "      <td>           ck12_ebook_ngrams_bothQAScores_doc_3_up</td>\n",
       "      <td> 0.3188</td>\n",
       "    </tr>\n",
       "    <tr>\n",
       "      <th>85 </th>\n",
       "      <td>           ck12_ebook_ngrams_bothQAScores_doc_5_up</td>\n",
       "      <td> 0.3180</td>\n",
       "    </tr>\n",
       "    <tr>\n",
       "      <th>36 </th>\n",
       "      <td>     ck12_ebook_ngrams_bothQAScoresMustHave_doc_10</td>\n",
       "      <td> 0.3176</td>\n",
       "    </tr>\n",
       "    <tr>\n",
       "      <th>82 </th>\n",
       "      <td>           ck12_ebook_ngrams_bothQAScores_doc_4_up</td>\n",
       "      <td> 0.3176</td>\n",
       "    </tr>\n",
       "    <tr>\n",
       "      <th>94 </th>\n",
       "      <td>           ck12_ebook_ngrams_bothQAScores_doc_8_up</td>\n",
       "      <td> 0.3172</td>\n",
       "    </tr>\n",
       "    <tr>\n",
       "      <th>95 </th>\n",
       "      <td>              ck12_ebook_ngrams_bothQAScores_doc_9</td>\n",
       "      <td> 0.3168</td>\n",
       "    </tr>\n",
       "    <tr>\n",
       "      <th>80 </th>\n",
       "      <td>              ck12_ebook_ngrams_bothQAScores_doc_4</td>\n",
       "      <td> 0.3160</td>\n",
       "    </tr>\n",
       "    <tr>\n",
       "      <th>45 </th>\n",
       "      <td> ck12_ebook_ngrams_bothQAScoresMustHave_doc_3_down</td>\n",
       "      <td> 0.3156</td>\n",
       "    </tr>\n",
       "    <tr>\n",
       "      <th>72 </th>\n",
       "      <td>         ck12_ebook_ngrams_bothQAScores_doc_1_down</td>\n",
       "      <td> 0.3156</td>\n",
       "    </tr>\n",
       "    <tr>\n",
       "      <th>91 </th>\n",
       "      <td>           ck12_ebook_ngrams_bothQAScores_doc_7_up</td>\n",
       "      <td> 0.3144</td>\n",
       "    </tr>\n",
       "    <tr>\n",
       "      <th>86 </th>\n",
       "      <td>              ck12_ebook_ngrams_bothQAScores_doc_6</td>\n",
       "      <td> 0.3132</td>\n",
       "    </tr>\n",
       "    <tr>\n",
       "      <th>68 </th>\n",
       "      <td>              ck12_ebook_ngrams_bothQAScores_doc_1</td>\n",
       "      <td> 0.3120</td>\n",
       "    </tr>\n",
       "    <tr>\n",
       "      <th>74 </th>\n",
       "      <td>              ck12_ebook_ngrams_bothQAScores_doc_2</td>\n",
       "      <td> 0.3120</td>\n",
       "    </tr>\n",
       "    <tr>\n",
       "      <th>48 </th>\n",
       "      <td> ck12_ebook_ngrams_bothQAScoresMustHave_doc_4_down</td>\n",
       "      <td> 0.3080</td>\n",
       "    </tr>\n",
       "    <tr>\n",
       "      <th>73 </th>\n",
       "      <td>           ck12_ebook_ngrams_bothQAScores_doc_1_up</td>\n",
       "      <td> 0.3076</td>\n",
       "    </tr>\n",
       "    <tr>\n",
       "      <th>76 </th>\n",
       "      <td>           ck12_ebook_ngrams_bothQAScores_doc_2_up</td>\n",
       "      <td> 0.3068</td>\n",
       "    </tr>\n",
       "    <tr>\n",
       "      <th>89 </th>\n",
       "      <td>              ck12_ebook_ngrams_bothQAScores_doc_7</td>\n",
       "      <td> 0.3056</td>\n",
       "    </tr>\n",
       "    <tr>\n",
       "      <th>92 </th>\n",
       "      <td>              ck12_ebook_ngrams_bothQAScores_doc_8</td>\n",
       "      <td> 0.3016</td>\n",
       "    </tr>\n",
       "    <tr>\n",
       "      <th>100</th>\n",
       "      <td>                ck12_ebook_ngrams_bothQAScores_std</td>\n",
       "      <td> 0.2996</td>\n",
       "    </tr>\n",
       "    <tr>\n",
       "      <th>81 </th>\n",
       "      <td>         ck12_ebook_ngrams_bothQAScores_doc_4_down</td>\n",
       "      <td> 0.2996</td>\n",
       "    </tr>\n",
       "    <tr>\n",
       "      <th>78 </th>\n",
       "      <td>         ck12_ebook_ngrams_bothQAScores_doc_3_down</td>\n",
       "      <td> 0.2948</td>\n",
       "    </tr>\n",
       "    <tr>\n",
       "      <th>84 </th>\n",
       "      <td>         ck12_ebook_ngrams_bothQAScores_doc_5_down</td>\n",
       "      <td> 0.2924</td>\n",
       "    </tr>\n",
       "    <tr>\n",
       "      <th>51 </th>\n",
       "      <td> ck12_ebook_ngrams_bothQAScoresMustHave_doc_5_down</td>\n",
       "      <td> 0.2912</td>\n",
       "    </tr>\n",
       "    <tr>\n",
       "      <th>34 </th>\n",
       "      <td>          ck12_ebook_ngrams_bothQADocCountMustHave</td>\n",
       "      <td> 0.2864</td>\n",
       "    </tr>\n",
       "    <tr>\n",
       "      <th>87 </th>\n",
       "      <td>         ck12_ebook_ngrams_bothQAScores_doc_6_down</td>\n",
       "      <td> 0.2828</td>\n",
       "    </tr>\n",
       "    <tr>\n",
       "      <th>29 </th>\n",
       "      <td>                ck12_ebook_ngrams_aScores_doc_9_up</td>\n",
       "      <td> 0.2780</td>\n",
       "    </tr>\n",
       "    <tr>\n",
       "      <th>17 </th>\n",
       "      <td>                ck12_ebook_ngrams_aScores_doc_5_up</td>\n",
       "      <td> 0.2780</td>\n",
       "    </tr>\n",
       "    <tr>\n",
       "      <th></th>\n",
       "      <td>...</td>\n",
       "      <td>...</td>\n",
       "    </tr>\n",
       "  </tbody>\n",
       "</table>\n",
       "<p>134 rows × 2 columns</p>\n",
       "</div>"
      ],
      "text/plain": [
       "                                               feature  accuracy\n",
       "64     ck12_ebook_ngrams_bothQAScoresMustHave_doc_9_up    0.3844\n",
       "49     ck12_ebook_ngrams_bothQAScoresMustHave_doc_4_up    0.3832\n",
       "61     ck12_ebook_ngrams_bothQAScoresMustHave_doc_8_up    0.3832\n",
       "38    ck12_ebook_ngrams_bothQAScoresMustHave_doc_10_up    0.3800\n",
       "39   ck12_ebook_ngrams_bothQAScoresMustHave_doc_1_down    0.3800\n",
       "58     ck12_ebook_ngrams_bothQAScoresMustHave_doc_7_up    0.3796\n",
       "52     ck12_ebook_ngrams_bothQAScoresMustHave_doc_5_up    0.3784\n",
       "55     ck12_ebook_ngrams_bothQAScoresMustHave_doc_6_up    0.3776\n",
       "35        ck12_ebook_ngrams_bothQAScoresMustHave_doc_1    0.3772\n",
       "43     ck12_ebook_ngrams_bothQAScoresMustHave_doc_2_up    0.3752\n",
       "65         ck12_ebook_ngrams_bothQAScoresMustHave_mean    0.3740\n",
       "46     ck12_ebook_ngrams_bothQAScoresMustHave_doc_3_up    0.3736\n",
       "41        ck12_ebook_ngrams_bothQAScoresMustHave_doc_2    0.3732\n",
       "40     ck12_ebook_ngrams_bothQAScoresMustHave_doc_1_up    0.3732\n",
       "44        ck12_ebook_ngrams_bothQAScoresMustHave_doc_3    0.3616\n",
       "42   ck12_ebook_ngrams_bothQAScoresMustHave_doc_2_down    0.3512\n",
       "67          ck12_ebook_ngrams_bothQAScoresMustHave_std    0.3480\n",
       "47        ck12_ebook_ngrams_bothQAScoresMustHave_doc_4    0.3456\n",
       "98                 ck12_ebook_ngrams_bothQAScores_mean    0.3356\n",
       "53        ck12_ebook_ngrams_bothQAScoresMustHave_doc_6    0.3332\n",
       "50        ck12_ebook_ngrams_bothQAScoresMustHave_doc_5    0.3320\n",
       "56        ck12_ebook_ngrams_bothQAScoresMustHave_doc_7    0.3320\n",
       "66       ck12_ebook_ngrams_bothQAScoresMustHave_median    0.3308\n",
       "59        ck12_ebook_ngrams_bothQAScoresMustHave_doc_8    0.3292\n",
       "62        ck12_ebook_ngrams_bothQAScoresMustHave_doc_9    0.3276\n",
       "83                ck12_ebook_ngrams_bothQAScores_doc_5    0.3236\n",
       "99               ck12_ebook_ngrams_bothQAScores_median    0.3232\n",
       "69               ck12_ebook_ngrams_bothQAScores_doc_10    0.3224\n",
       "97             ck12_ebook_ngrams_bothQAScores_doc_9_up    0.3224\n",
       "88             ck12_ebook_ngrams_bothQAScores_doc_6_up    0.3212\n",
       "71            ck12_ebook_ngrams_bothQAScores_doc_10_up    0.3196\n",
       "77                ck12_ebook_ngrams_bothQAScores_doc_3    0.3196\n",
       "75           ck12_ebook_ngrams_bothQAScores_doc_2_down    0.3188\n",
       "79             ck12_ebook_ngrams_bothQAScores_doc_3_up    0.3188\n",
       "85             ck12_ebook_ngrams_bothQAScores_doc_5_up    0.3180\n",
       "36       ck12_ebook_ngrams_bothQAScoresMustHave_doc_10    0.3176\n",
       "82             ck12_ebook_ngrams_bothQAScores_doc_4_up    0.3176\n",
       "94             ck12_ebook_ngrams_bothQAScores_doc_8_up    0.3172\n",
       "95                ck12_ebook_ngrams_bothQAScores_doc_9    0.3168\n",
       "80                ck12_ebook_ngrams_bothQAScores_doc_4    0.3160\n",
       "45   ck12_ebook_ngrams_bothQAScoresMustHave_doc_3_down    0.3156\n",
       "72           ck12_ebook_ngrams_bothQAScores_doc_1_down    0.3156\n",
       "91             ck12_ebook_ngrams_bothQAScores_doc_7_up    0.3144\n",
       "86                ck12_ebook_ngrams_bothQAScores_doc_6    0.3132\n",
       "68                ck12_ebook_ngrams_bothQAScores_doc_1    0.3120\n",
       "74                ck12_ebook_ngrams_bothQAScores_doc_2    0.3120\n",
       "48   ck12_ebook_ngrams_bothQAScoresMustHave_doc_4_down    0.3080\n",
       "73             ck12_ebook_ngrams_bothQAScores_doc_1_up    0.3076\n",
       "76             ck12_ebook_ngrams_bothQAScores_doc_2_up    0.3068\n",
       "89                ck12_ebook_ngrams_bothQAScores_doc_7    0.3056\n",
       "92                ck12_ebook_ngrams_bothQAScores_doc_8    0.3016\n",
       "100                 ck12_ebook_ngrams_bothQAScores_std    0.2996\n",
       "81           ck12_ebook_ngrams_bothQAScores_doc_4_down    0.2996\n",
       "78           ck12_ebook_ngrams_bothQAScores_doc_3_down    0.2948\n",
       "84           ck12_ebook_ngrams_bothQAScores_doc_5_down    0.2924\n",
       "51   ck12_ebook_ngrams_bothQAScoresMustHave_doc_5_down    0.2912\n",
       "34            ck12_ebook_ngrams_bothQADocCountMustHave    0.2864\n",
       "87           ck12_ebook_ngrams_bothQAScores_doc_6_down    0.2828\n",
       "29                  ck12_ebook_ngrams_aScores_doc_9_up    0.2780\n",
       "17                  ck12_ebook_ngrams_aScores_doc_5_up    0.2780\n",
       "                                                   ...       ...\n",
       "\n",
       "[134 rows x 2 columns]"
      ]
     },
     "execution_count": 11,
     "metadata": {},
     "output_type": "execute_result"
    }
   ],
   "source": [
    "bf = []\n",
    "for f in numeric_features:\n",
    "    accucary = (results[f] == results.correct).mean()\n",
    "    bf.append((f, accucary)) \n",
    "    \n",
    "bf = pd.DataFrame(bf, columns=['feature', 'accuracy'])\n",
    "bf.sort('accuracy', ascending=0)"
   ]
  },
  {
   "cell_type": "code",
   "execution_count": 13,
   "metadata": {
    "collapsed": false
   },
   "outputs": [
    {
     "data": {
      "text/plain": [
       "72"
      ]
     },
     "execution_count": 13,
     "metadata": {},
     "output_type": "execute_result"
    }
   ],
   "source": [
    "best_features = bf[bf.accuracy >= .30]\n",
    "len(best_features)"
   ]
  },
  {
   "cell_type": "code",
   "execution_count": 14,
   "metadata": {
    "collapsed": false
   },
   "outputs": [],
   "source": [
    "boolean_features = pd.DataFrame(dict(questionId=questions.questionId, \n",
    "                                     answerLetter=questions.answerLetter, \n",
    "                                     source=questions.source, \n",
    "                                     label=questions.label))"
   ]
  },
  {
   "cell_type": "code",
   "execution_count": 17,
   "metadata": {
    "collapsed": true
   },
   "outputs": [],
   "source": [
    "def chunks(l, n):\n",
    "    for i in xrange(0, len(l), n):\n",
    "        yield l[i:i+n]"
   ]
  },
  {
   "cell_type": "code",
   "execution_count": 18,
   "metadata": {
    "collapsed": true
   },
   "outputs": [],
   "source": [
    "def to_boolean(series):\n",
    "    series = np.array(series)\n",
    "\n",
    "    res = np.zeros_like(series, dtype=int)    \n",
    "    for i, chunk in enumerate(chunks(series, 4)):\n",
    "        max = np.max(chunk)\n",
    "        max_ids, = np.where(chunk == max)\n",
    "        if len(max_ids) == 4:\n",
    "            continue\n",
    "        for id in max_ids:\n",
    "            res[4 * i + id] = 1\n",
    "    return res"
   ]
  },
  {
   "cell_type": "code",
   "execution_count": 19,
   "metadata": {
    "collapsed": false
   },
   "outputs": [],
   "source": [
    "for f in best_features.feature:\n",
    "    boolean_features[f + 'max'] = to_boolean(  questions[f])\n",
    "    boolean_features[f + 'min'] = to_boolean(- questions[f])"
   ]
  },
  {
   "cell_type": "code",
   "execution_count": 20,
   "metadata": {
    "collapsed": false
   },
   "outputs": [],
   "source": [
    "total = best_features.accuracy.sum() "
   ]
  },
  {
   "cell_type": "code",
   "execution_count": 21,
   "metadata": {
    "collapsed": false
   },
   "outputs": [],
   "source": [
    "feature_weights = dict((f, a / total) for (f, a) in zip(bf.feature, bf.accuracy) if a >= 0.35)\n",
    "features, weights = zip(*feature_weights.items())\n",
    "features = list(features)\n",
    "weights = list(weights)"
   ]
  },
  {
   "cell_type": "code",
   "execution_count": 22,
   "metadata": {
    "collapsed": true
   },
   "outputs": [],
   "source": [
    "all_features = [f + 'max' for f in features] + [f + 'min' for f in features]"
   ]
  },
  {
   "cell_type": "markdown",
   "metadata": {},
   "source": [
    "## Training"
   ]
  },
  {
   "cell_type": "code",
   "execution_count": 23,
   "metadata": {
    "collapsed": true
   },
   "outputs": [],
   "source": [
    "from sklearn import cross_validation\n",
    "from sklearn.ensemble import RandomForestClassifier\n",
    "from sklearn.linear_model import LogisticRegression, LogisticRegressionCV\n",
    "from sklearn.feature_extraction.text import TfidfVectorizer\n",
    "from sklearn.metrics import roc_auc_score\n",
    "from scipy import sparse\n",
    "from collections import Counter"
   ]
  },
  {
   "cell_type": "code",
   "execution_count": 199,
   "metadata": {
    "collapsed": true
   },
   "outputs": [],
   "source": [
    "from sklearn.neighbors import KNeighborsClassifier\n",
    "from sklearn.svm import SVC, LinearSVC"
   ]
  },
  {
   "cell_type": "code",
   "execution_count": 233,
   "metadata": {
    "collapsed": true
   },
   "outputs": [],
   "source": [
    "from sklearn.decomposition import randomized_svd\n",
    "from sklearn.decomposition import NMF\n",
    "from sklearn.decomposition import TruncatedSVD\n",
    "from sklearn.random_projection import GaussianRandomProjection"
   ]
  },
  {
   "cell_type": "code",
   "execution_count": 443,
   "metadata": {
    "collapsed": true
   },
   "outputs": [],
   "source": [
    "train = boolean_features[boolean_features.source == 'TRAIN']"
   ]
  },
  {
   "cell_type": "code",
   "execution_count": 444,
   "metadata": {
    "collapsed": false
   },
   "outputs": [],
   "source": [
    "y = (train.label == 'true').astype(int).values"
   ]
  },
  {
   "cell_type": "code",
   "execution_count": 31,
   "metadata": {
    "collapsed": false
   },
   "outputs": [
    {
     "data": {
      "text/plain": [
       "0.4148"
      ]
     },
     "execution_count": 31,
     "metadata": {},
     "output_type": "execute_result"
    }
   ],
   "source": [
    "def calc_accuracy(y, y_score):\n",
    "    questions = chunks(zip(y, y_score),  4)\n",
    "\n",
    "    total = 0\n",
    "    correct = 0\n",
    "    for chunk in questions:\n",
    "        y_chunk, y_score_chunk = zip(*chunk)\n",
    "        correct = correct + (np.argmax(y_chunk) == np.argmax(y_score_chunk))\n",
    "        total = total + 1\n",
    "    \n",
    "    return 1.0 * correct / total\n",
    "\n",
    "calc_accuracy(y, train.ck12_ebook_ngrams_bothQAScores_doc_8_upmax.values)"
   ]
  },
  {
   "cell_type": "code",
   "execution_count": 32,
   "metadata": {
    "collapsed": true
   },
   "outputs": [],
   "source": [
    "def train_test_split(X, y, n_iter=5, test_size=0.25):\n",
    "    if sparse.issparse(X):\n",
    "        X = X.tocsr()\n",
    "    n = len(y) / 4\n",
    "\n",
    "    split = cross_validation.ShuffleSplit(n=n, n_iter=n_iter, test_size=test_size)\n",
    "\n",
    "    for train, test in split:\n",
    "        train_idx = np.repeat(train, 4) * 4 + np.arange(len(train) * 4) % 4\n",
    "        test_idx  = np.repeat(test, 4) * 4  + np.arange(len(test) * 4) % 4\n",
    "        \n",
    "        yield (X[train_idx], y[train_idx], X[test_idx], y[test_idx])"
   ]
  },
  {
   "cell_type": "code",
   "execution_count": 34,
   "metadata": {
    "collapsed": true
   },
   "outputs": [],
   "source": [
    "X_0 = train[all_features].values"
   ]
  },
  {
   "cell_type": "code",
   "execution_count": 486,
   "metadata": {
    "collapsed": false
   },
   "outputs": [
    {
     "name": "stdout",
     "output_type": "stream",
     "text": [
      "0.432 ± 0.027\n"
     ]
    }
   ],
   "source": [
    "accs = []\n",
    "for X_train, y_train, X_test, y_test in train_test_split(X_0, y, n_iter=10, test_size=0.1):\n",
    "    clf = LogisticRegressionCV()\n",
    "    clf.fit(X_train, y_train)\n",
    "\n",
    "    y_score = clf.predict_proba(X_test)[:, 1]\n",
    "    acc = calc_accuracy(y_test, y_score)\n",
    "    accs.append(acc)\n",
    "    \n",
    "mean_acc = np.mean(accs)\n",
    "print '%0.3f ± %0.3f' % (mean_acc, np.std(accs))"
   ]
  },
  {
   "cell_type": "code",
   "execution_count": 485,
   "metadata": {
    "collapsed": false,
    "scrolled": true
   },
   "outputs": [
    {
     "name": "stdout",
     "output_type": "stream",
     "text": [
      "0.410 ± 0.020\n"
     ]
    }
   ],
   "source": [
    "accs = []\n",
    "\n",
    "for X_train, y_train, X_test, y_test in train_test_split(X_0, y, n_iter=10, test_size=0.1):\n",
    "    clf = SVC()\n",
    "    clf.fit(X_train, y_train)\n",
    "\n",
    "    #y_score = clf.predict_proba(X_val)[:, 1]\n",
    "    y_score = clf.decision_function(X_test)\n",
    "    acc = calc_accuracy(y_test, y_score)\n",
    "    accs.append(acc)\n",
    "    # print acc, roc_auc_score(y_test, y_score)\n",
    "mean_acc = np.mean(accs)\n",
    "print '%0.3f ± %0.3f' % (mean_acc, np.std(accs))"
   ]
  },
  {
   "cell_type": "code",
   "execution_count": 484,
   "metadata": {
    "collapsed": false,
    "scrolled": true
   },
   "outputs": [
    {
     "name": "stdout",
     "output_type": "stream",
     "text": [
      "0.425 ± 0.025\n"
     ]
    }
   ],
   "source": [
    "accs = []\n",
    "\n",
    "for X_train, y_train, X_test, y_test in train_test_split(X_0, y, n_iter=10, test_size=0.1):\n",
    "    clf = LinearSVC()\n",
    "    clf.fit(X_train, y_train)\n",
    "\n",
    "    #y_score = clf.predict_proba(X_val)[:, 1]\n",
    "    y_score = clf.decision_function(X_test)\n",
    "    acc = calc_accuracy(y_test, y_score)\n",
    "    accs.append(acc)\n",
    "    # print acc, roc_auc_score(y_test, y_score)\n",
    "mean_acc = np.mean(accs)\n",
    "print '%0.3f ± %0.3f' % (mean_acc, np.std(accs))"
   ]
  },
  {
   "cell_type": "code",
   "execution_count": 483,
   "metadata": {
    "collapsed": false
   },
   "outputs": [
    {
     "name": "stdout",
     "output_type": "stream",
     "text": [
      "0.296 ± 0.019\n"
     ]
    }
   ],
   "source": [
    "accs = []\n",
    "\n",
    "for X_train, y_train, X_test, y_test in train_test_split(X_0, y, n_iter=10, test_size=0.1):\n",
    "    clf = KNeighborsClassifier(n_neighbors=1)\n",
    "    clf.fit(X_train, y_train)\n",
    "\n",
    "    y_score = clf.predict_proba(X_test)[:, 1]\n",
    "    acc = calc_accuracy(y_test, y_score)\n",
    "    accs.append(acc)\n",
    "    # print acc, roc_auc_score(y_test, y_score)\n",
    "mean_acc = np.mean(accs)\n",
    "print '%0.3f ± %0.3f' % (mean_acc, np.std(accs))"
   ]
  },
  {
   "cell_type": "code",
   "execution_count": 560,
   "metadata": {
    "collapsed": false,
    "scrolled": true
   },
   "outputs": [
    {
     "name": "stdout",
     "output_type": "stream",
     "text": [
      "0.432 0.685416\n",
      "0.464 0.705813333333\n",
      "0.408 0.675448\n",
      "0.396 0.640090666667\n",
      "0.388 0.626786666667\n",
      "0.424 0.662522666667\n",
      "0.42 0.648997333333\n",
      "0.456 0.66088\n",
      "0.416 0.656373333333\n",
      "0.404 0.650514666667\n",
      "0.452 0.665456\n",
      "0.416 0.642570666667\n",
      "0.376 0.645424\n",
      "0.416 0.659754666667\n",
      "0.376 0.628898666667\n",
      "0.412 0.670242666667\n",
      "0.416 0.64864\n",
      "0.448 0.655746666667\n",
      "0.4 0.642216\n",
      "0.42 0.661090666667\n",
      "0.4 0.638936\n",
      "0.444 0.670853333333\n",
      "0.436 0.652432\n",
      "0.42 0.636624\n",
      "0.416 0.644317333333\n",
      "0.36 0.615370666667\n",
      "0.396 0.654104\n",
      "0.464 0.679501333333\n",
      "0.456 0.686512\n",
      "0.404 0.638338666667\n",
      "0.388 0.623693333333\n",
      "0.376 0.610042666667\n",
      "0.38 0.642005333333\n",
      "0.408 0.656738666667\n",
      "0.428 0.675621333333\n",
      "0.416 0.654554666667\n",
      "0.416 0.659608\n",
      "0.408 0.65116\n",
      "0.508 0.705845333333\n",
      "0.46 0.680274666667\n",
      "0.392 0.65644\n",
      "0.484 0.684224\n",
      "0.412 0.620058666667\n",
      "0.408 0.674336\n",
      "0.436 0.645632\n",
      "0.464 0.678093333333\n",
      "0.416 0.672762666667\n",
      "0.396 0.638090666667\n",
      "0.424 0.662008\n",
      "0.424 0.645688\n",
      "0.420 ± 0.029\n"
     ]
    }
   ],
   "source": [
    "accs = []\n",
    "for X_train, y_train, X_test, y_test in train_test_split(X_0, y, n_iter=50, test_size=0.1):\n",
    "    nmf = NMF(n_components=2, init='random')\n",
    "    X_train_red = nmf.fit_transform(X_train)\n",
    "\n",
    "    clf = LogisticRegressionCV()\n",
    "    clf.fit(X_train_red, y_train)\n",
    "\n",
    "    X_test_red = nmf.transform(X_test)\n",
    "    y_score = clf.predict_proba(X_test_red)[:, 1]\n",
    "    acc = calc_accuracy(y_test, y_score)\n",
    "    accs.append(acc)\n",
    "    print acc, roc_auc_score(y_test, y_score)\n",
    "    \n",
    "mean_acc = np.mean(accs)\n",
    "print '%0.3f ± %0.3f' % (mean_acc, np.std(accs))"
   ]
  },
  {
   "cell_type": "code",
   "execution_count": 578,
   "metadata": {
    "collapsed": true
   },
   "outputs": [],
   "source": [
    "nmf = NMF(n_components=2, init='random')\n",
    "X_0_red = nmf.fit_transform(X_0)"
   ]
  },
  {
   "cell_type": "code",
   "execution_count": 580,
   "metadata": {
    "collapsed": false
   },
   "outputs": [
    {
     "data": {
      "text/plain": [
       "0.4216"
      ]
     },
     "execution_count": 580,
     "metadata": {},
     "output_type": "execute_result"
    }
   ],
   "source": [
    "calc_accuracy(y, X_0_red[:, 1])"
   ]
  },
  {
   "cell_type": "code",
   "execution_count": 481,
   "metadata": {
    "collapsed": false
   },
   "outputs": [
    {
     "name": "stdout",
     "output_type": "stream",
     "text": [
      "0.422 ± 0.038\n"
     ]
    }
   ],
   "source": [
    "accs = []\n",
    "for X_train, y_train, X_test, y_test in train_test_split(X_0, y, n_iter=10, test_size=0.1):\n",
    "    nmf = TruncatedSVD(n_components=10)\n",
    "    X_train_red = nmf.fit_transform(X_train)\n",
    "\n",
    "    clf = LogisticRegressionCV()\n",
    "    clf.fit(X_train_red, y_train)\n",
    "\n",
    "    X_test_red = nmf.transform(X_test)\n",
    "    y_score = clf.predict_proba(X_test_red)[:, 1]\n",
    "    acc = calc_accuracy(y_test, y_score)\n",
    "    accs.append(acc)\n",
    "    \n",
    "mean_acc = np.mean(accs)\n",
    "print '%0.3f ± %0.3f' % (mean_acc, np.std(accs))"
   ]
  },
  {
   "cell_type": "code",
   "execution_count": 240,
   "metadata": {
    "collapsed": true
   },
   "outputs": [],
   "source": [
    "from sklearn.ensemble import GradientBoostingClassifier\n",
    "from sklearn.ensemble import ExtraTreesClassifier"
   ]
  },
  {
   "cell_type": "code",
   "execution_count": 480,
   "metadata": {
    "collapsed": false
   },
   "outputs": [
    {
     "name": "stdout",
     "output_type": "stream",
     "text": [
      "0.418 ± 0.037\n"
     ]
    }
   ],
   "source": [
    "accs = []\n",
    "for X_train, y_train, X_test, y_test in train_test_split(X_0, y, n_iter=10, test_size=0.1):\n",
    "    clf = GradientBoostingClassifier()\n",
    "    clf.fit(X_train, y_train)\n",
    "\n",
    "    y_score = clf.predict_proba(X_test)[:, 1]\n",
    "    acc = calc_accuracy(y_test, y_score)\n",
    "    accs.append(acc)\n",
    "    \n",
    "mean_acc = np.mean(accs)\n",
    "print '%0.3f ± %0.3f' % (mean_acc, np.std(accs))"
   ]
  },
  {
   "cell_type": "code",
   "execution_count": 479,
   "metadata": {
    "collapsed": false
   },
   "outputs": [
    {
     "name": "stdout",
     "output_type": "stream",
     "text": [
      "0.365 ± 0.015\n"
     ]
    }
   ],
   "source": [
    "accs = []\n",
    "for X_train, y_train, X_test, y_test in train_test_split(X_0, y, n_iter=10, test_size=0.1):\n",
    "    clf = ExtraTreesClassifier(n_estimators=100)\n",
    "    clf.fit(X_train, y_train)\n",
    "\n",
    "    y_score = clf.predict_proba(X_test)[:, 1]\n",
    "    acc = calc_accuracy(y_test, y_score)\n",
    "    accs.append(acc)\n",
    "    \n",
    "mean_acc = np.mean(accs)\n",
    "print '%0.3f ± %0.3f' % (mean_acc, np.std(accs))"
   ]
  },
  {
   "cell_type": "code",
   "execution_count": 263,
   "metadata": {
    "collapsed": true
   },
   "outputs": [],
   "source": [
    "from sklearn.preprocessing import minmax_scale"
   ]
  },
  {
   "cell_type": "code",
   "execution_count": 272,
   "metadata": {
    "collapsed": false
   },
   "outputs": [],
   "source": [
    "ensembles = []\n",
    "\n",
    "idx_features = np.arange(len(all_features))\n",
    "\n",
    "for _ in range(100):\n",
    "    ensembles.append(np.random.choice(idx_features, size=5, replace=0))"
   ]
  },
  {
   "cell_type": "code",
   "execution_count": 478,
   "metadata": {
    "collapsed": false,
    "scrolled": true
   },
   "outputs": [
    {
     "name": "stdout",
     "output_type": "stream",
     "text": [
      "iteration, acc = 0.444\n",
      "iteration, acc = 0.404\n",
      "iteration, acc = 0.376\n",
      "iteration, acc = 0.388\n",
      "iteration, acc = 0.376\n",
      "iteration, acc = 0.388\n",
      "iteration, acc = 0.412\n",
      "iteration, acc = 0.436\n",
      "iteration, acc = 0.428\n",
      "iteration, acc = 0.400\n",
      "0.405 ± 0.023\n"
     ]
    }
   ],
   "source": [
    "accs = []\n",
    "for X_train, y_train, X_test, y_test in train_test_split(X_0, y, n_iter=10, test_size=0.1):\n",
    "    y_score = np.zeros_like(y_test)\n",
    "\n",
    "    for en in ensembles:\n",
    "        clf = LogisticRegression()\n",
    "        clf.fit(X_train[:, en], y_train)\n",
    "\n",
    "        y_score = y_score + minmax_scale(clf.predict_proba(X_test[:, en])[:, 1])\n",
    "\n",
    "    acc = calc_accuracy(y_test, y_score)\n",
    "    accs.append(acc)\n",
    "    print 'iteration, acc = %0.3f' % acc\n",
    "    \n",
    "mean_acc = np.mean(accs)\n",
    "print '%0.3f ± %0.3f' % (mean_acc, np.std(accs))"
   ]
  },
  {
   "cell_type": "markdown",
   "metadata": {},
   "source": [
    "### Feature Importances"
   ]
  },
  {
   "cell_type": "code",
   "execution_count": 274,
   "metadata": {
    "collapsed": false
   },
   "outputs": [
    {
     "data": {
      "text/plain": [
       "RandomForestClassifier(bootstrap=True, class_weight=None, criterion='gini',\n",
       "            max_depth=None, max_features='auto', max_leaf_nodes=None,\n",
       "            min_samples_leaf=1, min_samples_split=2,\n",
       "            min_weight_fraction_leaf=0.0, n_estimators=1000, n_jobs=1,\n",
       "            oob_score=False, random_state=None, verbose=0,\n",
       "            warm_start=False)"
      ]
     },
     "execution_count": 274,
     "metadata": {},
     "output_type": "execute_result"
    }
   ],
   "source": [
    "X_imp = train[all_features]\n",
    "\n",
    "clf = RandomForestClassifier(n_estimators=1000)\n",
    "clf.fit(X_imp.values, y)"
   ]
  },
  {
   "cell_type": "code",
   "execution_count": 275,
   "metadata": {
    "collapsed": true
   },
   "outputs": [],
   "source": [
    "importances = clf.feature_importances_\n",
    "indices = np.argsort(importances)\n",
    "\n",
    "names = X_imp.iloc[0].keys()"
   ]
  },
  {
   "cell_type": "markdown",
   "metadata": {},
   "source": [
    "Most important features:"
   ]
  },
  {
   "cell_type": "code",
   "execution_count": 285,
   "metadata": {
    "collapsed": false
   },
   "outputs": [
    {
     "data": {
      "text/plain": [
       "array(['ck12_ebook_ngrams_bothQAScores_doc_7max',\n",
       "       'ck12_ebook_ngrams_bothQAScoresMustHave_doc_3min',\n",
       "       'ck12_ebook_ngrams_bothQAScores_doc_4max',\n",
       "       'ck12_ebook_ngrams_bothQAScores_doc_8max',\n",
       "       'ck12_ebook_ngrams_bothQAScores_doc_4_upmax',\n",
       "       'ck12_ebook_ngrams_bothQAScoresMustHave_doc_2_downmin',\n",
       "       'ck12_ebook_ngrams_bothQAScores_doc_2_upmax',\n",
       "       'ck12_ebook_ngrams_bothQAScores_doc_9max',\n",
       "       'ck12_ebook_ngrams_bothQAScores_doc_3max',\n",
       "       'ck12_ebook_ngrams_bothQAScores_doc_2_downmax',\n",
       "       'ck12_ebook_ngrams_bothQAScores_doc_2_downmin'], dtype=object)"
      ]
     },
     "execution_count": 285,
     "metadata": {},
     "output_type": "execute_result"
    }
   ],
   "source": [
    "most_important = names[indices].values[-11:]\n",
    "most_important"
   ]
  },
  {
   "cell_type": "code",
   "execution_count": 278,
   "metadata": {
    "collapsed": false,
    "scrolled": true
   },
   "outputs": [
    {
     "data": {
      "image/png": "[encoded data removed]",
      "text/plain": [
       "<matplotlib.figure.Figure at 0x7fa79a67a6d0>"
      ]
     },
     "metadata": {},
     "output_type": "display_data"
    }
   ],
   "source": [
    "no_features = len(names)\n",
    "\n",
    "plt.figure(figsize=(5, 20))\n",
    "plt.title(\"Feature importances\")\n",
    "plt.barh(range(no_features), importances[indices], color=\"r\", align=\"center\")\n",
    "\n",
    "plt.yticks(range(no_features), names[indices])\n",
    "plt.ylim([-1, no_features])\n",
    "\n",
    "plt.show()"
   ]
  },
  {
   "cell_type": "code",
   "execution_count": 290,
   "metadata": {
    "collapsed": true
   },
   "outputs": [],
   "source": [
    "X_1 = train[most_important].values"
   ]
  },
  {
   "cell_type": "code",
   "execution_count": 429,
   "metadata": {
    "collapsed": false
   },
   "outputs": [
    {
     "data": {
      "text/plain": [
       "array(['ck12_ebook_ngrams_bothQAScores_doc_7max',\n",
       "       'ck12_ebook_ngrams_bothQAScoresMustHave_doc_3min',\n",
       "       'ck12_ebook_ngrams_bothQAScores_doc_4max',\n",
       "       'ck12_ebook_ngrams_bothQAScores_doc_8max',\n",
       "       'ck12_ebook_ngrams_bothQAScores_doc_4_upmax',\n",
       "       'ck12_ebook_ngrams_bothQAScoresMustHave_doc_2_downmin',\n",
       "       'ck12_ebook_ngrams_bothQAScores_doc_2_upmax',\n",
       "       'ck12_ebook_ngrams_bothQAScores_doc_9max',\n",
       "       'ck12_ebook_ngrams_bothQAScores_doc_3max',\n",
       "       'ck12_ebook_ngrams_bothQAScores_doc_2_downmax',\n",
       "       'ck12_ebook_ngrams_bothQAScores_doc_2_downmin'], dtype=object)"
      ]
     },
     "execution_count": 429,
     "metadata": {},
     "output_type": "execute_result"
    }
   ],
   "source": [
    "most_important"
   ]
  },
  {
   "cell_type": "code",
   "execution_count": 477,
   "metadata": {
    "collapsed": false
   },
   "outputs": [
    {
     "name": "stdout",
     "output_type": "stream",
     "text": [
      "iteration, acc = 0.448\n",
      "iteration, acc = 0.372\n",
      "iteration, acc = 0.364\n",
      "iteration, acc = 0.416\n",
      "iteration, acc = 0.392\n",
      "iteration, acc = 0.444\n",
      "iteration, acc = 0.388\n",
      "iteration, acc = 0.396\n",
      "iteration, acc = 0.424\n",
      "iteration, acc = 0.376\n",
      "0.402 ± 0.028\n"
     ]
    }
   ],
   "source": [
    "accs = []\n",
    "for X_train, y_train, X_test, y_test in train_test_split(X_1, y, n_iter=10, test_size=0.1):\n",
    "    clf = LogisticRegressionCV()\n",
    "    clf.fit(X_train, y_train)\n",
    "\n",
    "    y_score = clf.predict_proba(X_test)[:, 1]\n",
    "    acc = calc_accuracy(y_test, y_score)\n",
    "    accs.append(acc)\n",
    "    print 'iteration, acc = %0.3f' % acc\n",
    "    \n",
    "mean_acc = np.mean(accs)\n",
    "print '%0.3f ± %0.3f' % (mean_acc, np.std(accs))"
   ]
  },
  {
   "cell_type": "markdown",
   "metadata": {},
   "source": [
    "## Similarity b/w q and a"
   ]
  },
  {
   "cell_type": "code",
   "execution_count": 297,
   "metadata": {
    "collapsed": true
   },
   "outputs": [],
   "source": [
    "def identity_analyzer(x):\n",
    "    return x"
   ]
  },
  {
   "cell_type": "code",
   "execution_count": 359,
   "metadata": {
    "collapsed": true
   },
   "outputs": [],
   "source": [
    "questions_train = questions[questions.source == 'TRAIN']"
   ]
  },
  {
   "cell_type": "code",
   "execution_count": 360,
   "metadata": {
    "collapsed": false
   },
   "outputs": [],
   "source": [
    "all_text = list(questions_train.question.iloc[::4]) + list(questions_train.answer)"
   ]
  },
  {
   "cell_type": "code",
   "execution_count": 361,
   "metadata": {
    "collapsed": false
   },
   "outputs": [
    {
     "data": {
      "text/plain": [
       "TfidfVectorizer(analyzer=<function identity_analyzer at 0x7fa7915e6c08>,\n",
       "        binary=False, decode_error=u'strict', dtype=<type 'numpy.int64'>,\n",
       "        encoding=u'utf-8', input=u'content', lowercase=True, max_df=1.0,\n",
       "        max_features=None, min_df=1, ngram_range=(1, 1), norm=u'l2',\n",
       "        preprocessor=None, smooth_idf=True, stop_words=None,\n",
       "        strip_accents=None, sublinear_tf=False,\n",
       "        token_pattern=u'(?u)\\\\b\\\\w\\\\w+\\\\b', tokenizer=None, use_idf=True,\n",
       "        vocabulary=None)"
      ]
     },
     "execution_count": 361,
     "metadata": {},
     "output_type": "execute_result"
    }
   ],
   "source": [
    "qa_tfidf = TfidfVectorizer(analyzer=identity_analyzer, min_df=1)\n",
    "qa_tfidf.fit(all_text)"
   ]
  },
  {
   "cell_type": "code",
   "execution_count": 362,
   "metadata": {
    "collapsed": false
   },
   "outputs": [],
   "source": [
    "text_all = sparse.vstack([qa_tfidf.transform(questions_train.question[::4]), \n",
    "                          qa_tfidf.transform(questions_train.answer)])"
   ]
  },
  {
   "cell_type": "code",
   "execution_count": 363,
   "metadata": {
    "collapsed": false
   },
   "outputs": [
    {
     "data": {
      "text/plain": [
       "TruncatedSVD(algorithm='randomized', n_components=150, n_iter=5,\n",
       "       random_state=None, tol=0.0)"
      ]
     },
     "execution_count": 363,
     "metadata": {},
     "output_type": "execute_result"
    }
   ],
   "source": [
    "svd = TruncatedSVD(n_components=150)\n",
    "svd.fit(text_all)"
   ]
  },
  {
   "cell_type": "code",
   "execution_count": 364,
   "metadata": {
    "collapsed": false
   },
   "outputs": [],
   "source": [
    "question_vecs = svd.transform(qa_tfidf.transform(questions_train.question))\n",
    "answer_vecs = svd.transform(qa_tfidf.transform(questions_train.answer))"
   ]
  },
  {
   "cell_type": "code",
   "execution_count": 365,
   "metadata": {
    "collapsed": false
   },
   "outputs": [],
   "source": [
    "svd_sim = []\n",
    "for q, a in zip(question_vecs, answer_vecs):\n",
    "    svd_sim.append(q.dot(a))"
   ]
  },
  {
   "cell_type": "code",
   "execution_count": 368,
   "metadata": {
    "collapsed": false
   },
   "outputs": [],
   "source": [
    "svd_sim = np.array(svd_sim)"
   ]
  },
  {
   "cell_type": "code",
   "execution_count": 370,
   "metadata": {
    "collapsed": false
   },
   "outputs": [
    {
     "data": {
      "text/plain": [
       "0.2988"
      ]
     },
     "execution_count": 370,
     "metadata": {},
     "output_type": "execute_result"
    }
   ],
   "source": [
    "calc_accuracy(y, svd_sim)"
   ]
  },
  {
   "cell_type": "code",
   "execution_count": 371,
   "metadata": {
    "collapsed": true
   },
   "outputs": [],
   "source": [
    "all_text = list(questions_train.ngramsQuestion.iloc[::4]) + list(questions_train.ngramsAnswer)"
   ]
  },
  {
   "cell_type": "code",
   "execution_count": 372,
   "metadata": {
    "collapsed": false
   },
   "outputs": [
    {
     "data": {
      "text/plain": [
       "TfidfVectorizer(analyzer=<function identity_analyzer at 0x7fa7915e6c08>,\n",
       "        binary=False, decode_error=u'strict', dtype=<type 'numpy.int64'>,\n",
       "        encoding=u'utf-8', input=u'content', lowercase=True, max_df=1.0,\n",
       "        max_features=None, min_df=1, ngram_range=(1, 1), norm=u'l2',\n",
       "        preprocessor=None, smooth_idf=True, stop_words=None,\n",
       "        strip_accents=None, sublinear_tf=False,\n",
       "        token_pattern=u'(?u)\\\\b\\\\w\\\\w+\\\\b', tokenizer=None, use_idf=True,\n",
       "        vocabulary=None)"
      ]
     },
     "execution_count": 372,
     "metadata": {},
     "output_type": "execute_result"
    }
   ],
   "source": [
    "qa_tfidf = TfidfVectorizer(analyzer=identity_analyzer, min_df=1)\n",
    "qa_tfidf.fit(all_text)"
   ]
  },
  {
   "cell_type": "code",
   "execution_count": 373,
   "metadata": {
    "collapsed": true
   },
   "outputs": [],
   "source": [
    "text_all = sparse.vstack([qa_tfidf.transform(questions_train.ngramsQuestion[::4]), \n",
    "                          qa_tfidf.transform(questions_train.ngramsAnswer)])"
   ]
  },
  {
   "cell_type": "code",
   "execution_count": 374,
   "metadata": {
    "collapsed": false
   },
   "outputs": [
    {
     "data": {
      "text/plain": [
       "TruncatedSVD(algorithm='randomized', n_components=150, n_iter=5,\n",
       "       random_state=None, tol=0.0)"
      ]
     },
     "execution_count": 374,
     "metadata": {},
     "output_type": "execute_result"
    }
   ],
   "source": [
    "svd = TruncatedSVD(n_components=150)\n",
    "svd.fit(text_all)"
   ]
  },
  {
   "cell_type": "code",
   "execution_count": 375,
   "metadata": {
    "collapsed": true
   },
   "outputs": [],
   "source": [
    "question_vecs = svd.transform(qa_tfidf.transform(questions_train.question))\n",
    "answer_vecs = svd.transform(qa_tfidf.transform(questions_train.answer))"
   ]
  },
  {
   "cell_type": "code",
   "execution_count": 377,
   "metadata": {
    "collapsed": true
   },
   "outputs": [],
   "source": [
    "svd_sim_ngram = []\n",
    "for q, a in zip(question_vecs, answer_vecs):\n",
    "    svd_sim_ngram.append(q.dot(a))"
   ]
  },
  {
   "cell_type": "code",
   "execution_count": 379,
   "metadata": {
    "collapsed": false
   },
   "outputs": [],
   "source": [
    "svd_sim_ngram = np.array(svd_sim_ngram)"
   ]
  },
  {
   "cell_type": "code",
   "execution_count": 381,
   "metadata": {
    "collapsed": false,
    "scrolled": true
   },
   "outputs": [
    {
     "data": {
      "text/plain": [
       "0.3044"
      ]
     },
     "execution_count": 381,
     "metadata": {},
     "output_type": "execute_result"
    }
   ],
   "source": [
    "calc_accuracy(y, svd_sim_ngram)"
   ]
  },
  {
   "cell_type": "markdown",
   "metadata": {},
   "source": [
    "### LSA on q/a docs"
   ]
  },
  {
   "cell_type": "code",
   "execution_count": 507,
   "metadata": {
    "collapsed": true
   },
   "outputs": [],
   "source": [
    "from sklearn.feature_extraction import DictVectorizer"
   ]
  },
  {
   "cell_type": "code",
   "execution_count": 508,
   "metadata": {
    "collapsed": false
   },
   "outputs": [],
   "source": [
    "all_docs_train = \\\n",
    "    list(questions_train.ck12_ebook_ngrams_qScores_doc_scores[::4].apply(dict)) + \\\n",
    "    list(questions_train.ck12_ebook_ngrams_aScores_doc_scores.apply(dict))"
   ]
  },
  {
   "cell_type": "code",
   "execution_count": 509,
   "metadata": {
    "collapsed": false
   },
   "outputs": [
    {
     "data": {
      "text/plain": [
       "DictVectorizer(dtype=<type 'numpy.float64'>, separator='=', sort=True,\n",
       "        sparse=True)"
      ]
     },
     "execution_count": 509,
     "metadata": {},
     "output_type": "execute_result"
    }
   ],
   "source": [
    "dv = DictVectorizer()\n",
    "dv.fit(all_docs_train)"
   ]
  },
  {
   "cell_type": "code",
   "execution_count": 510,
   "metadata": {
    "collapsed": true
   },
   "outputs": [],
   "source": [
    "q_vec = dv.transform(list(questions.ck12_ebook_ngrams_qScores_doc_scores.apply(dict)))\n",
    "a_vec = dv.transform(list(questions.ck12_ebook_ngrams_aScores_doc_scores.apply(dict)))\n"
   ]
  },
  {
   "cell_type": "code",
   "execution_count": 511,
   "metadata": {
    "collapsed": false
   },
   "outputs": [],
   "source": [
    "sim_vec = []\n",
    "for q, a in zip(q_vec, a_vec):\n",
    "    qa = (q * a.T)\n",
    "    if qa:\n",
    "        sim_vec.append(qa.data[0])\n",
    "    else:\n",
    "        sim_vec.append(0.0)\n",
    "\n",
    "sim_vec = np.array(sim_vec)"
   ]
  },
  {
   "cell_type": "code",
   "execution_count": 512,
   "metadata": {
    "collapsed": true
   },
   "outputs": [],
   "source": [
    "questions['ck12_qa_doc_sim'] = sim_vec"
   ]
  },
  {
   "cell_type": "code",
   "execution_count": 513,
   "metadata": {
    "collapsed": false
   },
   "outputs": [
    {
     "data": {
      "text/plain": [
       "0.41"
      ]
     },
     "execution_count": 513,
     "metadata": {},
     "output_type": "execute_result"
    }
   ],
   "source": [
    "calc_accuracy(y, sim_vec[questions.source.values == 'TRAIN'])"
   ]
  },
  {
   "cell_type": "code",
   "execution_count": 514,
   "metadata": {
    "collapsed": false
   },
   "outputs": [],
   "source": [
    "q_vec_train = dv.transform(list(questions_train.ck12_ebook_ngrams_qScores_doc_scores.iloc[::4].apply(dict)))\n",
    "a_vec_train = dv.transform(list(questions_train.ck12_ebook_ngrams_aScores_doc_scores.apply(dict)))\n",
    "\n",
    "all_docs = sparse.vstack([q_vec_train, a_vec_train])"
   ]
  },
  {
   "cell_type": "code",
   "execution_count": 515,
   "metadata": {
    "collapsed": false
   },
   "outputs": [
    {
     "data": {
      "text/plain": [
       "TruncatedSVD(algorithm='randomized', n_components=300, n_iter=5,\n",
       "       random_state=None, tol=0.0)"
      ]
     },
     "execution_count": 515,
     "metadata": {},
     "output_type": "execute_result"
    }
   ],
   "source": [
    "svd_doc = TruncatedSVD(n_components=300)\n",
    "svd_doc.fit(all_docs)"
   ]
  },
  {
   "cell_type": "code",
   "execution_count": 516,
   "metadata": {
    "collapsed": true
   },
   "outputs": [],
   "source": [
    "q_vec_svd = svd_doc.transform(q_vec)\n",
    "a_vec_svd = svd_doc.transform(a_vec)"
   ]
  },
  {
   "cell_type": "code",
   "execution_count": 517,
   "metadata": {
    "collapsed": true
   },
   "outputs": [],
   "source": [
    "doc_sim_svd = []\n",
    "for q, a in zip(q_vec_svd, a_vec_svd):\n",
    "    doc_sim_svd.append(q.dot(a))\n",
    "\n",
    "doc_sim_svd =  np.array(doc_sim_svd)"
   ]
  },
  {
   "cell_type": "code",
   "execution_count": 522,
   "metadata": {
    "collapsed": true
   },
   "outputs": [],
   "source": [
    "questions['ck12_qa_doc_sim_svd'] = doc_sim_svd"
   ]
  },
  {
   "cell_type": "code",
   "execution_count": 523,
   "metadata": {
    "collapsed": false,
    "scrolled": true
   },
   "outputs": [
    {
     "data": {
      "text/plain": [
       "0.4104"
      ]
     },
     "execution_count": 523,
     "metadata": {},
     "output_type": "execute_result"
    }
   ],
   "source": [
    "calc_accuracy(y, doc_sim_svd[questions.source.values == 'TRAIN'])"
   ]
  },
  {
   "cell_type": "code",
   "execution_count": 526,
   "metadata": {
    "collapsed": false
   },
   "outputs": [],
   "source": [
    "boolean_features['ck12_qa_doc_sim_svd_max'] = to_boolean(doc_sim_svd)\n",
    "boolean_features['ck12_qa_doc_sim_max'] = to_boolean(sim_vec)"
   ]
  },
  {
   "cell_type": "code",
   "execution_count": 527,
   "metadata": {
    "collapsed": true
   },
   "outputs": [],
   "source": [
    "docsim = boolean_features[['ck12_qa_doc_sim_svd_max', 'ck12_qa_doc_sim_max']]\n",
    "train_docsim = docsim[boolean_features.source == 'TRAIN']"
   ]
  },
  {
   "cell_type": "code",
   "execution_count": 529,
   "metadata": {
    "collapsed": false
   },
   "outputs": [
    {
     "data": {
      "text/plain": [
       "((10000, 2), (10000, 11))"
      ]
     },
     "execution_count": 529,
     "metadata": {},
     "output_type": "execute_result"
    }
   ],
   "source": [
    "train_docsim.shape, train[most_important].values.shape"
   ]
  },
  {
   "cell_type": "markdown",
   "metadata": {},
   "source": [
    "Let's try to build a model with it"
   ]
  },
  {
   "cell_type": "code",
   "execution_count": 530,
   "metadata": {
    "collapsed": false
   },
   "outputs": [],
   "source": [
    "X_2 = np.hstack([train[most_important].values, train_docsim.values])"
   ]
  },
  {
   "cell_type": "code",
   "execution_count": 531,
   "metadata": {
    "collapsed": false
   },
   "outputs": [
    {
     "name": "stdout",
     "output_type": "stream",
     "text": [
      "iteration, acc = 0.444\n",
      "iteration, acc = 0.416\n",
      "iteration, acc = 0.404\n",
      "iteration, acc = 0.452\n",
      "iteration, acc = 0.452\n",
      "iteration, acc = 0.388\n",
      "iteration, acc = 0.444\n",
      "iteration, acc = 0.452\n",
      "iteration, acc = 0.428\n",
      "iteration, acc = 0.408\n",
      "0.429 ± 0.022\n"
     ]
    }
   ],
   "source": [
    "accs = []\n",
    "for X_train, y_train, X_test, y_test in train_test_split(X_2, y, n_iter=10, test_size=0.1):\n",
    "    clf = LogisticRegressionCV()\n",
    "    clf.fit(X_train, y_train)\n",
    "\n",
    "    y_score = clf.predict_proba(X_test)[:, 1]\n",
    "    acc = calc_accuracy(y_test, y_score)\n",
    "    accs.append(acc)\n",
    "    print 'iteration, acc = %0.3f' % acc\n",
    "    \n",
    "mean_acc = np.mean(accs)\n",
    "print '%0.3f ± %0.3f' % (mean_acc, np.std(accs))"
   ]
  },
  {
   "cell_type": "code",
   "execution_count": 591,
   "metadata": {
    "collapsed": true
   },
   "outputs": [],
   "source": [
    "nmf = NMF(n_components=2, init='random')\n",
    "X_0_red = nmf.fit_transform(X_0)\n"
   ]
  },
  {
   "cell_type": "code",
   "execution_count": 592,
   "metadata": {
    "collapsed": true
   },
   "outputs": [],
   "source": [
    "X_2 = np.hstack([X_0_red, train_docsim.values])"
   ]
  },
  {
   "cell_type": "code",
   "execution_count": 593,
   "metadata": {
    "collapsed": false
   },
   "outputs": [
    {
     "name": "stdout",
     "output_type": "stream",
     "text": [
      "0.433 ± 0.028\n"
     ]
    }
   ],
   "source": [
    "accs = []\n",
    "for X_train, y_train, X_test, y_test in train_test_split(X_2, y, n_iter=50, test_size=0.1):\n",
    "    clf = LogisticRegressionCV()\n",
    "    clf.fit(X_train, y_train)\n",
    "\n",
    "    y_score = clf.predict_proba(X_test)[:, 1]\n",
    "    acc = calc_accuracy(y_test, y_score)\n",
    "    accs.append(acc)\n",
    "    # print 'iteration, acc = %0.3f' % acc\n",
    "    \n",
    "mean_acc = np.mean(accs)\n",
    "print '%0.3f ± %0.3f' % (mean_acc, np.std(accs))"
   ]
  },
  {
   "cell_type": "code",
   "execution_count": 595,
   "metadata": {
    "collapsed": false
   },
   "outputs": [
    {
     "data": {
      "text/plain": [
       "array([ 0.83828337,  0.07775487])"
      ]
     },
     "execution_count": 595,
     "metadata": {},
     "output_type": "execute_result"
    }
   ],
   "source": [
    "X_0_red[5]"
   ]
  },
  {
   "cell_type": "markdown",
   "metadata": {},
   "source": [
    "Let's save the features"
   ]
  },
  {
   "cell_type": "code",
   "execution_count": 594,
   "metadata": {
    "collapsed": true
   },
   "outputs": [],
   "source": [
    "nmf = NMF(n_components=2, init='random')\n",
    "X_0_red = nmf.fit_transform(X_0)"
   ]
  },
  {
   "cell_type": "code",
   "execution_count": 605,
   "metadata": {
    "collapsed": false
   },
   "outputs": [],
   "source": [
    "nmf_all = nmf.transform(boolean_features[all_features].values)"
   ]
  },
  {
   "cell_type": "code",
   "execution_count": 610,
   "metadata": {
    "collapsed": false
   },
   "outputs": [],
   "source": [
    "X_ck12 = np.hstack([X_0_red, train_docsim.ck12_qa_doc_sim_svd_max.values.reshape(-1, 1)])"
   ]
  },
  {
   "cell_type": "code",
   "execution_count": 611,
   "metadata": {
    "collapsed": false
   },
   "outputs": [
    {
     "name": "stdout",
     "output_type": "stream",
     "text": [
      "0.426 ± 0.030\n"
     ]
    }
   ],
   "source": [
    "accs = []\n",
    "for X_train, y_train, X_test, y_test in train_test_split(X_ck12, y, n_iter=50, test_size=0.1):\n",
    "    clf = LogisticRegressionCV()\n",
    "    clf.fit(X_train, y_train)\n",
    "\n",
    "    y_score = clf.predict_proba(X_test)[:, 1]\n",
    "    acc = calc_accuracy(y_test, y_score)\n",
    "    accs.append(acc)\n",
    "    # print 'iteration, acc = %0.3f' % acc\n",
    "\n",
    "mean_acc = np.mean(accs)\n",
    "print '%0.3f ± %0.3f' % (mean_acc, np.std(accs))"
   ]
  },
  {
   "cell_type": "code",
   "execution_count": 616,
   "metadata": {
    "collapsed": false
   },
   "outputs": [],
   "source": [
    "#to_boolean(questions['ck12_qa_doc_sim_svd'].values\n",
    "features = pd.DataFrame({\n",
    "              'questionId': questions.questionId, \n",
    "              'answerLetter': questions.answerLetter, \n",
    "              'source': questions.source,\n",
    "              'label': questions.label, \n",
    "              'ck12_qa_doc_sim_svd': docsim.ck12_qa_doc_sim_svd_max,\n",
    "              'ck12_nmf_0': nmf_all[:, 0],\n",
    "              'ck12_nmf_1': nmf_all[:, 1]},\n",
    "            columns=['questionId', 'answerLetter', 'source', 'label', \n",
    "                     'ck12_qa_doc_sim_svd', 'ck12_nmf_0', 'ck12_nmf_1'])"
   ]
  },
  {
   "cell_type": "code",
   "execution_count": 617,
   "metadata": {
    "collapsed": true
   },
   "outputs": [],
   "source": [
    "features.to_csv('/home/agrigorev/git-projects/allen-qa/features/ck12_features.txt', index=0, sep='\\t')"
   ]
  },
  {
   "cell_type": "markdown",
   "metadata": {},
   "source": [
    "## Submission"
   ]
  },
  {
   "cell_type": "code",
   "execution_count": 42,
   "metadata": {
    "collapsed": true
   },
   "outputs": [],
   "source": [
    "test = boolean_features[questions.source == 'TEST']\n",
    "test_docsim = docsim[boolean_features.source == 'TEST']"
   ]
  },
  {
   "cell_type": "code",
   "execution_count": 582,
   "metadata": {
    "collapsed": true
   },
   "outputs": [],
   "source": [
    "X_0_test = test[all_features].values\n",
    "X_0_test_red = nmf.transform(X_0_test)"
   ]
  },
  {
   "cell_type": "code",
   "execution_count": 583,
   "metadata": {
    "collapsed": false
   },
   "outputs": [
    {
     "data": {
      "text/plain": [
       "0.4208"
      ]
     },
     "execution_count": 583,
     "metadata": {},
     "output_type": "execute_result"
    }
   ],
   "source": [
    "calc_accuracy(y, X_0_red[:, 1])"
   ]
  },
  {
   "cell_type": "code",
   "execution_count": 587,
   "metadata": {
    "collapsed": true
   },
   "outputs": [],
   "source": [
    "y_score = X_0_test_red[:, 1]"
   ]
  },
  {
   "cell_type": "code",
   "execution_count": 546,
   "metadata": {
    "collapsed": true
   },
   "outputs": [],
   "source": [
    "X_2_test = np.hstack([X_0_test_red, test_docsim.values])"
   ]
  },
  {
   "cell_type": "code",
   "execution_count": 547,
   "metadata": {
    "collapsed": false
   },
   "outputs": [
    {
     "data": {
      "text/plain": [
       "LogisticRegressionCV(Cs=10, class_weight=None, cv=None, dual=False,\n",
       "           fit_intercept=True, intercept_scaling=1.0, max_iter=100,\n",
       "           multi_class='ovr', n_jobs=1, penalty='l2', random_state=None,\n",
       "           refit=True, scoring=None, solver='lbfgs', tol=0.0001, verbose=0)"
      ]
     },
     "execution_count": 547,
     "metadata": {},
     "output_type": "execute_result"
    }
   ],
   "source": [
    "clf = LogisticRegressionCV()\n",
    "clf.fit(X_2, y)"
   ]
  },
  {
   "cell_type": "code",
   "execution_count": 548,
   "metadata": {
    "collapsed": false
   },
   "outputs": [],
   "source": [
    "y_score = clf.predict_proba(X_2_test)[:, 1]"
   ]
  },
  {
   "cell_type": "code",
   "execution_count": 588,
   "metadata": {
    "collapsed": false
   },
   "outputs": [
    {
     "data": {
      "text/html": [
       "<div style=\"max-height:1000px;max-width:1500px;overflow:auto;\">\n",
       "<table border=\"1\" class=\"dataframe\">\n",
       "  <thead>\n",
       "    <tr style=\"text-align: right;\">\n",
       "      <th></th>\n",
       "      <th>answer</th>\n",
       "      <th>idx</th>\n",
       "      <th>questionId</th>\n",
       "      <th>score</th>\n",
       "    </tr>\n",
       "  </thead>\n",
       "  <tbody>\n",
       "    <tr>\n",
       "      <th>52382</th>\n",
       "      <td> A</td>\n",
       "      <td> 0</td>\n",
       "      <td> 102501</td>\n",
       "      <td> 0.000000</td>\n",
       "    </tr>\n",
       "    <tr>\n",
       "      <th>52383</th>\n",
       "      <td> B</td>\n",
       "      <td> 1</td>\n",
       "      <td> 102501</td>\n",
       "      <td> 0.000000</td>\n",
       "    </tr>\n",
       "    <tr>\n",
       "      <th>52386</th>\n",
       "      <td> C</td>\n",
       "      <td> 2</td>\n",
       "      <td> 102501</td>\n",
       "      <td> 1.224320</td>\n",
       "    </tr>\n",
       "    <tr>\n",
       "      <th>52388</th>\n",
       "      <td> D</td>\n",
       "      <td> 3</td>\n",
       "      <td> 102501</td>\n",
       "      <td> 0.000000</td>\n",
       "    </tr>\n",
       "    <tr>\n",
       "      <th>52390</th>\n",
       "      <td> A</td>\n",
       "      <td> 4</td>\n",
       "      <td> 102502</td>\n",
       "      <td> 0.000000</td>\n",
       "    </tr>\n",
       "    <tr>\n",
       "      <th>52393</th>\n",
       "      <td> B</td>\n",
       "      <td> 5</td>\n",
       "      <td> 102502</td>\n",
       "      <td> 0.383347</td>\n",
       "    </tr>\n",
       "    <tr>\n",
       "      <th>52394</th>\n",
       "      <td> C</td>\n",
       "      <td> 6</td>\n",
       "      <td> 102502</td>\n",
       "      <td> 0.172953</td>\n",
       "    </tr>\n",
       "    <tr>\n",
       "      <th>52397</th>\n",
       "      <td> D</td>\n",
       "      <td> 7</td>\n",
       "      <td> 102502</td>\n",
       "      <td> 0.670249</td>\n",
       "    </tr>\n",
       "  </tbody>\n",
       "</table>\n",
       "<p>8 rows × 4 columns</p>\n",
       "</div>"
      ],
      "text/plain": [
       "      answer  idx questionId     score\n",
       "52382      A    0     102501  0.000000\n",
       "52383      B    1     102501  0.000000\n",
       "52386      C    2     102501  1.224320\n",
       "52388      D    3     102501  0.000000\n",
       "52390      A    4     102502  0.000000\n",
       "52393      B    5     102502  0.383347\n",
       "52394      C    6     102502  0.172953\n",
       "52397      D    7     102502  0.670249\n",
       "\n",
       "[8 rows x 4 columns]"
      ]
     },
     "execution_count": 588,
     "metadata": {},
     "output_type": "execute_result"
    }
   ],
   "source": [
    "idx = np.arange(len(test))\n",
    "\n",
    "val_index = pd.DataFrame({'idx': idx, 'questionId': test.questionId, \n",
    "                          'answer': test.answerLetter,\n",
    "                          'score': y_score})\n",
    "val_index.head(n=8)"
   ]
  },
  {
   "cell_type": "code",
   "execution_count": 589,
   "metadata": {
    "collapsed": false
   },
   "outputs": [],
   "source": [
    "result = []\n",
    "\n",
    "for id, group in val_index.groupby('questionId'):\n",
    "    answer_idx = group.score.values.argmax()\n",
    "    answer = group.answer.values[answer_idx]\n",
    "    result.append((id, answer))"
   ]
  },
  {
   "cell_type": "code",
   "execution_count": 590,
   "metadata": {
    "collapsed": true
   },
   "outputs": [],
   "source": [
    "res = pd.DataFrame(result, columns=['id', 'correctAnswer'])\n",
    "res.to_csv('/home/agrigorev/git-projects/allen-qa/test_result.csv', index=0)"
   ]
  },
  {
   "cell_type": "markdown",
   "metadata": {},
   "source": [
    "Majority Vote"
   ]
  },
  {
   "cell_type": "code",
   "execution_count": 192,
   "metadata": {
    "collapsed": true
   },
   "outputs": [],
   "source": [
    "result = []\n",
    "\n",
    "for id, group in test.groupby('questionId'):\n",
    "    row = {'questionId': id}\n",
    "    for f in features:\n",
    "        answer_idx = group[f + 'max'].values.argmax()\n",
    "        answer = group.answerLetter.values[answer_idx]\n",
    "        row[f] = answer\n",
    "\n",
    "    result.append(row)\n",
    "\n",
    "result = pd.DataFrame(result)\n",
    "\n",
    "def majority_vote(row):\n",
    "    cnt = Counter()\n",
    "    cnt.setdefault(lambda x: 0.0)\n",
    "    for pred, weight in zip(row[features].values, weights):\n",
    "        cnt[pred] = cnt[pred] + weight\n",
    "\n",
    "    (lab, _), = cnt.most_common(1)\n",
    "    return lab\n",
    "\n",
    "mvote = result.apply(majority_vote, axis=1)"
   ]
  },
  {
   "cell_type": "code",
   "execution_count": 198,
   "metadata": {
    "collapsed": false
   },
   "outputs": [],
   "source": [
    "mvote_res = pd.DataFrame({'id': result.questionId, 'correctAnswer': mvote}, columns=['id', 'correctAnswer'])\n",
    "mvote_res.to_csv('/home/agrigorev/git-projects/allen-qa/test_result_mvote.csv', index=0)"
   ]
  },
  {
   "cell_type": "code",
   "execution_count": null,
   "metadata": {
    "collapsed": true
   },
   "outputs": [],
   "source": []
  }
 ],
 "metadata": {
  "kernelspec": {
   "display_name": "Python 2",
   "language": "python",
   "name": "python2"
  },
  "language_info": {
   "codemirror_mode": {
    "name": "ipython",
    "version": 2
   },
   "file_extension": ".py",
   "mimetype": "text/x-python",
   "name": "python",
   "nbconvert_exporter": "python",
   "pygments_lexer": "ipython2",
   "version": "2.7.6"
  }
 },
 "nbformat": 4,
 "nbformat_minor": 0
}
