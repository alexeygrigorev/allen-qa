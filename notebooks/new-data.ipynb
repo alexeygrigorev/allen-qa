{
 "cells": [
  {
   "cell_type": "code",
   "execution_count": 1,
   "metadata": {
    "collapsed": true
   },
   "outputs": [],
   "source": [
    "import pandas as pd\n",
    "import numpy as np\n",
    "\n",
    "import codecs\n",
    "import json\n",
    "\n",
    "import matplotlib.pyplot as plt \n",
    "%matplotlib inline"
   ]
  },
  {
   "cell_type": "code",
   "execution_count": 2,
   "metadata": {
    "collapsed": true
   },
   "outputs": [],
   "source": [
    "dicts = []\n"
   ]
  },
  {
   "cell_type": "code",
   "execution_count": null,
   "metadata": {
    "collapsed": true
   },
   "outputs": [],
   "source": [
    "with codecs.open('lucene-features-6-processed.json', 'r', 'utf-8') as f:\n",
    "    for line in f:\n",
    "        row = json.loads(line)\n",
    "        dicts.append(row)"
   ]
  },
  {
   "cell_type": "code",
   "execution_count": 41,
   "metadata": {
    "collapsed": true
   },
   "outputs": [],
   "source": [
    "questions = pd.DataFrame(dicts)\n",
    "del dicts"
   ]
  },
  {
   "cell_type": "code",
   "execution_count": 42,
   "metadata": {
    "collapsed": false
   },
   "outputs": [],
   "source": [
    "questions.sort(columns=['questionId', 'answerLetter'], inplace=1)"
   ]
  },
  {
   "cell_type": "code",
   "execution_count": 43,
   "metadata": {
    "collapsed": false
   },
   "outputs": [
    {
     "data": {
      "text/html": [
       "<div style=\"max-height:1000px;max-width:1500px;overflow:auto;\">\n",
       "<table border=\"1\" class=\"dataframe\">\n",
       "  <thead>\n",
       "    <tr style=\"text-align: right;\">\n",
       "      <th></th>\n",
       "      <th>answer</th>\n",
       "      <th>answerLetter</th>\n",
       "      <th>ck12_ebook_aScores_doc_1</th>\n",
       "      <th>ck12_ebook_aScores_doc_10</th>\n",
       "      <th>ck12_ebook_aScores_doc_10_down</th>\n",
       "      <th>ck12_ebook_aScores_doc_10_up</th>\n",
       "      <th>ck12_ebook_aScores_doc_1_down</th>\n",
       "      <th>ck12_ebook_aScores_doc_1_up</th>\n",
       "      <th>ck12_ebook_aScores_doc_2</th>\n",
       "      <th>ck12_ebook_aScores_doc_2_down</th>\n",
       "      <th>ck12_ebook_aScores_doc_2_up</th>\n",
       "      <th>ck12_ebook_aScores_doc_3</th>\n",
       "      <th>ck12_ebook_aScores_doc_3_down</th>\n",
       "      <th>ck12_ebook_aScores_doc_3_up</th>\n",
       "      <th>ck12_ebook_aScores_doc_4</th>\n",
       "      <th>ck12_ebook_aScores_doc_4_down</th>\n",
       "      <th>ck12_ebook_aScores_doc_4_up</th>\n",
       "      <th>ck12_ebook_aScores_doc_5</th>\n",
       "      <th>ck12_ebook_aScores_doc_5_down</th>\n",
       "      <th>ck12_ebook_aScores_doc_5_up</th>\n",
       "      <th></th>\n",
       "    </tr>\n",
       "  </thead>\n",
       "  <tbody>\n",
       "    <tr>\n",
       "      <th>7344</th>\n",
       "      <td>     [tissue level]</td>\n",
       "      <td> A</td>\n",
       "      <td>  7.024899</td>\n",
       "      <td> 0.000000</td>\n",
       "      <td>-3.441484</td>\n",
       "      <td>  3.441484</td>\n",
       "      <td>  3.583416</td>\n",
       "      <td> 10.466383</td>\n",
       "      <td>  7.024899</td>\n",
       "      <td>  3.583416</td>\n",
       "      <td> 10.466383</td>\n",
       "      <td> 7.024899</td>\n",
       "      <td> 3.583416</td>\n",
       "      <td> 10.466383</td>\n",
       "      <td> 7.024899</td>\n",
       "      <td> 3.583416</td>\n",
       "      <td> 10.466383</td>\n",
       "      <td> 0.000000</td>\n",
       "      <td>-3.441484</td>\n",
       "      <td>  3.441484</td>\n",
       "      <td>...</td>\n",
       "    </tr>\n",
       "    <tr>\n",
       "      <th>7345</th>\n",
       "      <td>      [organ level]</td>\n",
       "      <td> B</td>\n",
       "      <td>  7.535725</td>\n",
       "      <td> 0.000000</td>\n",
       "      <td>-3.014290</td>\n",
       "      <td>  3.014290</td>\n",
       "      <td>  4.521435</td>\n",
       "      <td> 10.550015</td>\n",
       "      <td>  7.535725</td>\n",
       "      <td>  4.521435</td>\n",
       "      <td> 10.550015</td>\n",
       "      <td> 0.000000</td>\n",
       "      <td>-3.014290</td>\n",
       "      <td>  3.014290</td>\n",
       "      <td> 0.000000</td>\n",
       "      <td>-3.014290</td>\n",
       "      <td>  3.014290</td>\n",
       "      <td> 0.000000</td>\n",
       "      <td>-3.014290</td>\n",
       "      <td>  3.014290</td>\n",
       "      <td>...</td>\n",
       "    </tr>\n",
       "    <tr>\n",
       "      <th>7346</th>\n",
       "      <td>     [system level]</td>\n",
       "      <td> C</td>\n",
       "      <td>  0.000000</td>\n",
       "      <td> 0.000000</td>\n",
       "      <td> 0.000000</td>\n",
       "      <td>  0.000000</td>\n",
       "      <td>  0.000000</td>\n",
       "      <td>  0.000000</td>\n",
       "      <td>  0.000000</td>\n",
       "      <td>  0.000000</td>\n",
       "      <td>  0.000000</td>\n",
       "      <td> 0.000000</td>\n",
       "      <td> 0.000000</td>\n",
       "      <td>  0.000000</td>\n",
       "      <td> 0.000000</td>\n",
       "      <td> 0.000000</td>\n",
       "      <td>  0.000000</td>\n",
       "      <td> 0.000000</td>\n",
       "      <td> 0.000000</td>\n",
       "      <td>  0.000000</td>\n",
       "      <td>...</td>\n",
       "    </tr>\n",
       "    <tr>\n",
       "      <th>7347</th>\n",
       "      <td>   [cellular level]</td>\n",
       "      <td> D</td>\n",
       "      <td>  7.024899</td>\n",
       "      <td> 0.000000</td>\n",
       "      <td>-3.441484</td>\n",
       "      <td>  3.441484</td>\n",
       "      <td>  3.583416</td>\n",
       "      <td> 10.466383</td>\n",
       "      <td>  7.024899</td>\n",
       "      <td>  3.583416</td>\n",
       "      <td> 10.466383</td>\n",
       "      <td> 7.024899</td>\n",
       "      <td> 3.583416</td>\n",
       "      <td> 10.466383</td>\n",
       "      <td> 7.024899</td>\n",
       "      <td> 3.583416</td>\n",
       "      <td> 10.466383</td>\n",
       "      <td> 0.000000</td>\n",
       "      <td>-3.441484</td>\n",
       "      <td>  3.441484</td>\n",
       "      <td>...</td>\n",
       "    </tr>\n",
       "    <tr>\n",
       "      <th>7348</th>\n",
       "      <td> [smell, air, odor]</td>\n",
       "      <td> A</td>\n",
       "      <td> 20.842577</td>\n",
       "      <td> 4.753002</td>\n",
       "      <td>-0.872465</td>\n",
       "      <td> 10.378468</td>\n",
       "      <td> 15.217110</td>\n",
       "      <td> 26.468044</td>\n",
       "      <td> 20.197306</td>\n",
       "      <td> 14.571839</td>\n",
       "      <td> 25.822772</td>\n",
       "      <td> 9.281975</td>\n",
       "      <td> 3.656508</td>\n",
       "      <td> 14.907441</td>\n",
       "      <td> 8.380727</td>\n",
       "      <td> 2.755260</td>\n",
       "      <td> 14.006194</td>\n",
       "      <td> 8.253588</td>\n",
       "      <td> 2.628121</td>\n",
       "      <td> 13.879054</td>\n",
       "      <td>...</td>\n",
       "    </tr>\n",
       "  </tbody>\n",
       "</table>\n",
       "<p>5 rows × 702 columns</p>\n",
       "</div>"
      ],
      "text/plain": [
       "                  answer answerLetter  ck12_ebook_aScores_doc_1  \\\n",
       "7344      [tissue level]            A                  7.024899   \n",
       "7345       [organ level]            B                  7.535725   \n",
       "7346      [system level]            C                  0.000000   \n",
       "7347    [cellular level]            D                  7.024899   \n",
       "7348  [smell, air, odor]            A                 20.842577   \n",
       "\n",
       "      ck12_ebook_aScores_doc_10  ck12_ebook_aScores_doc_10_down  \\\n",
       "7344                   0.000000                       -3.441484   \n",
       "7345                   0.000000                       -3.014290   \n",
       "7346                   0.000000                        0.000000   \n",
       "7347                   0.000000                       -3.441484   \n",
       "7348                   4.753002                       -0.872465   \n",
       "\n",
       "      ck12_ebook_aScores_doc_10_up  ck12_ebook_aScores_doc_1_down  \\\n",
       "7344                      3.441484                       3.583416   \n",
       "7345                      3.014290                       4.521435   \n",
       "7346                      0.000000                       0.000000   \n",
       "7347                      3.441484                       3.583416   \n",
       "7348                     10.378468                      15.217110   \n",
       "\n",
       "      ck12_ebook_aScores_doc_1_up  ck12_ebook_aScores_doc_2  \\\n",
       "7344                    10.466383                  7.024899   \n",
       "7345                    10.550015                  7.535725   \n",
       "7346                     0.000000                  0.000000   \n",
       "7347                    10.466383                  7.024899   \n",
       "7348                    26.468044                 20.197306   \n",
       "\n",
       "      ck12_ebook_aScores_doc_2_down  ck12_ebook_aScores_doc_2_up  \\\n",
       "7344                       3.583416                    10.466383   \n",
       "7345                       4.521435                    10.550015   \n",
       "7346                       0.000000                     0.000000   \n",
       "7347                       3.583416                    10.466383   \n",
       "7348                      14.571839                    25.822772   \n",
       "\n",
       "      ck12_ebook_aScores_doc_3  ck12_ebook_aScores_doc_3_down  \\\n",
       "7344                  7.024899                       3.583416   \n",
       "7345                  0.000000                      -3.014290   \n",
       "7346                  0.000000                       0.000000   \n",
       "7347                  7.024899                       3.583416   \n",
       "7348                  9.281975                       3.656508   \n",
       "\n",
       "      ck12_ebook_aScores_doc_3_up  ck12_ebook_aScores_doc_4  \\\n",
       "7344                    10.466383                  7.024899   \n",
       "7345                     3.014290                  0.000000   \n",
       "7346                     0.000000                  0.000000   \n",
       "7347                    10.466383                  7.024899   \n",
       "7348                    14.907441                  8.380727   \n",
       "\n",
       "      ck12_ebook_aScores_doc_4_down  ck12_ebook_aScores_doc_4_up  \\\n",
       "7344                       3.583416                    10.466383   \n",
       "7345                      -3.014290                     3.014290   \n",
       "7346                       0.000000                     0.000000   \n",
       "7347                       3.583416                    10.466383   \n",
       "7348                       2.755260                    14.006194   \n",
       "\n",
       "      ck12_ebook_aScores_doc_5  ck12_ebook_aScores_doc_5_down  \\\n",
       "7344                  0.000000                      -3.441484   \n",
       "7345                  0.000000                      -3.014290   \n",
       "7346                  0.000000                       0.000000   \n",
       "7347                  0.000000                      -3.441484   \n",
       "7348                  8.253588                       2.628121   \n",
       "\n",
       "      ck12_ebook_aScores_doc_5_up      \n",
       "7344                     3.441484 ...  \n",
       "7345                     3.014290 ...  \n",
       "7346                     0.000000 ...  \n",
       "7347                     3.441484 ...  \n",
       "7348                    13.879054 ...  \n",
       "\n",
       "[5 rows x 702 columns]"
      ]
     },
     "execution_count": 43,
     "metadata": {},
     "output_type": "execute_result"
    }
   ],
   "source": [
    "questions.head()"
   ]
  },
  {
   "cell_type": "markdown",
   "metadata": {},
   "source": [
    "### Let's find what numeric features are most accurate"
   ]
  },
  {
   "cell_type": "code",
   "execution_count": 44,
   "metadata": {
    "collapsed": true
   },
   "outputs": [],
   "source": [
    "train = questions[questions.source == 'TRAIN']"
   ]
  },
  {
   "cell_type": "code",
   "execution_count": 45,
   "metadata": {
    "collapsed": false
   },
   "outputs": [],
   "source": [
    "num = train._get_numeric_data()\n",
    "numeric_features = list(num.columns)"
   ]
  },
  {
   "cell_type": "code",
   "execution_count": 46,
   "metadata": {
    "collapsed": false
   },
   "outputs": [],
   "source": [
    "results = []\n",
    "\n",
    "for id, group in train.groupby('questionId'):\n",
    "    row = {}\n",
    "    row['correct'] = (group.label == 'true').values.argmax()\n",
    "\n",
    "    for f in numeric_features:\n",
    "        row[f] = group[f].values.argmax()\n",
    "    \n",
    "    results.append(row)\n",
    "\n",
    "results = pd.DataFrame(results)"
   ]
  },
  {
   "cell_type": "code",
   "execution_count": 47,
   "metadata": {
    "collapsed": false,
    "scrolled": true
   },
   "outputs": [
    {
     "data": {
      "text/html": [
       "<div style=\"max-height:1000px;max-width:1500px;overflow:auto;\">\n",
       "<table border=\"1\" class=\"dataframe\">\n",
       "  <thead>\n",
       "    <tr style=\"text-align: right;\">\n",
       "      <th></th>\n",
       "      <th>feature</th>\n",
       "      <th>accuracy</th>\n",
       "    </tr>\n",
       "  </thead>\n",
       "  <tbody>\n",
       "    <tr>\n",
       "      <th>91 </th>\n",
       "      <td>                  ck12_ebook_bothQAScores_doc_7_up</td>\n",
       "      <td> 0.3916</td>\n",
       "    </tr>\n",
       "    <tr>\n",
       "      <th>85 </th>\n",
       "      <td>                  ck12_ebook_bothQAScores_doc_5_up</td>\n",
       "      <td> 0.3864</td>\n",
       "    </tr>\n",
       "    <tr>\n",
       "      <th>97 </th>\n",
       "      <td>                  ck12_ebook_bothQAScores_doc_9_up</td>\n",
       "      <td> 0.3856</td>\n",
       "    </tr>\n",
       "    <tr>\n",
       "      <th>71 </th>\n",
       "      <td>                 ck12_ebook_bothQAScores_doc_10_up</td>\n",
       "      <td> 0.3848</td>\n",
       "    </tr>\n",
       "    <tr>\n",
       "      <th>165</th>\n",
       "      <td>   ck12_ebook_ngrams_bothQAScoresMustHave_doc_9_up</td>\n",
       "      <td> 0.3844</td>\n",
       "    </tr>\n",
       "    <tr>\n",
       "      <th>150</th>\n",
       "      <td>   ck12_ebook_ngrams_bothQAScoresMustHave_doc_4_up</td>\n",
       "      <td> 0.3832</td>\n",
       "    </tr>\n",
       "    <tr>\n",
       "      <th>162</th>\n",
       "      <td>   ck12_ebook_ngrams_bothQAScoresMustHave_doc_8_up</td>\n",
       "      <td> 0.3832</td>\n",
       "    </tr>\n",
       "    <tr>\n",
       "      <th>88 </th>\n",
       "      <td>                  ck12_ebook_bothQAScores_doc_6_up</td>\n",
       "      <td> 0.3816</td>\n",
       "    </tr>\n",
       "    <tr>\n",
       "      <th>98 </th>\n",
       "      <td>                      ck12_ebook_bothQAScores_mean</td>\n",
       "      <td> 0.3800</td>\n",
       "    </tr>\n",
       "    <tr>\n",
       "      <th>64 </th>\n",
       "      <td>          ck12_ebook_bothQAScoresMustHave_doc_9_up</td>\n",
       "      <td> 0.3800</td>\n",
       "    </tr>\n",
       "    <tr>\n",
       "      <th>139</th>\n",
       "      <td>  ck12_ebook_ngrams_bothQAScoresMustHave_doc_10_up</td>\n",
       "      <td> 0.3800</td>\n",
       "    </tr>\n",
       "    <tr>\n",
       "      <th>140</th>\n",
       "      <td> ck12_ebook_ngrams_bothQAScoresMustHave_doc_1_down</td>\n",
       "      <td> 0.3800</td>\n",
       "    </tr>\n",
       "    <tr>\n",
       "      <th>159</th>\n",
       "      <td>   ck12_ebook_ngrams_bothQAScoresMustHave_doc_7_up</td>\n",
       "      <td> 0.3796</td>\n",
       "    </tr>\n",
       "    <tr>\n",
       "      <th>76 </th>\n",
       "      <td>                  ck12_ebook_bothQAScores_doc_2_up</td>\n",
       "      <td> 0.3788</td>\n",
       "    </tr>\n",
       "    <tr>\n",
       "      <th>74 </th>\n",
       "      <td>                     ck12_ebook_bothQAScores_doc_2</td>\n",
       "      <td> 0.3788</td>\n",
       "    </tr>\n",
       "    <tr>\n",
       "      <th>153</th>\n",
       "      <td>   ck12_ebook_ngrams_bothQAScoresMustHave_doc_5_up</td>\n",
       "      <td> 0.3784</td>\n",
       "    </tr>\n",
       "    <tr>\n",
       "      <th>94 </th>\n",
       "      <td>                  ck12_ebook_bothQAScores_doc_8_up</td>\n",
       "      <td> 0.3784</td>\n",
       "    </tr>\n",
       "    <tr>\n",
       "      <th>156</th>\n",
       "      <td>   ck12_ebook_ngrams_bothQAScoresMustHave_doc_6_up</td>\n",
       "      <td> 0.3776</td>\n",
       "    </tr>\n",
       "    <tr>\n",
       "      <th>136</th>\n",
       "      <td>      ck12_ebook_ngrams_bothQAScoresMustHave_doc_1</td>\n",
       "      <td> 0.3772</td>\n",
       "    </tr>\n",
       "    <tr>\n",
       "      <th>38 </th>\n",
       "      <td>         ck12_ebook_bothQAScoresMustHave_doc_10_up</td>\n",
       "      <td> 0.3768</td>\n",
       "    </tr>\n",
       "    <tr>\n",
       "      <th>72 </th>\n",
       "      <td>                ck12_ebook_bothQAScores_doc_1_down</td>\n",
       "      <td> 0.3760</td>\n",
       "    </tr>\n",
       "    <tr>\n",
       "      <th>61 </th>\n",
       "      <td>          ck12_ebook_bothQAScoresMustHave_doc_8_up</td>\n",
       "      <td> 0.3760</td>\n",
       "    </tr>\n",
       "    <tr>\n",
       "      <th>68 </th>\n",
       "      <td>                     ck12_ebook_bothQAScores_doc_1</td>\n",
       "      <td> 0.3760</td>\n",
       "    </tr>\n",
       "    <tr>\n",
       "      <th>144</th>\n",
       "      <td>   ck12_ebook_ngrams_bothQAScoresMustHave_doc_2_up</td>\n",
       "      <td> 0.3752</td>\n",
       "    </tr>\n",
       "    <tr>\n",
       "      <th>73 </th>\n",
       "      <td>                  ck12_ebook_bothQAScores_doc_1_up</td>\n",
       "      <td> 0.3740</td>\n",
       "    </tr>\n",
       "    <tr>\n",
       "      <th>166</th>\n",
       "      <td>       ck12_ebook_ngrams_bothQAScoresMustHave_mean</td>\n",
       "      <td> 0.3740</td>\n",
       "    </tr>\n",
       "    <tr>\n",
       "      <th>79 </th>\n",
       "      <td>                  ck12_ebook_bothQAScores_doc_3_up</td>\n",
       "      <td> 0.3736</td>\n",
       "    </tr>\n",
       "    <tr>\n",
       "      <th>147</th>\n",
       "      <td>   ck12_ebook_ngrams_bothQAScoresMustHave_doc_3_up</td>\n",
       "      <td> 0.3736</td>\n",
       "    </tr>\n",
       "    <tr>\n",
       "      <th>39 </th>\n",
       "      <td>        ck12_ebook_bothQAScoresMustHave_doc_1_down</td>\n",
       "      <td> 0.3736</td>\n",
       "    </tr>\n",
       "    <tr>\n",
       "      <th>141</th>\n",
       "      <td>   ck12_ebook_ngrams_bothQAScoresMustHave_doc_1_up</td>\n",
       "      <td> 0.3732</td>\n",
       "    </tr>\n",
       "    <tr>\n",
       "      <th>142</th>\n",
       "      <td>      ck12_ebook_ngrams_bothQAScoresMustHave_doc_2</td>\n",
       "      <td> 0.3732</td>\n",
       "    </tr>\n",
       "    <tr>\n",
       "      <th>58 </th>\n",
       "      <td>          ck12_ebook_bothQAScoresMustHave_doc_7_up</td>\n",
       "      <td> 0.3724</td>\n",
       "    </tr>\n",
       "    <tr>\n",
       "      <th>52 </th>\n",
       "      <td>          ck12_ebook_bothQAScoresMustHave_doc_5_up</td>\n",
       "      <td> 0.3724</td>\n",
       "    </tr>\n",
       "    <tr>\n",
       "      <th>55 </th>\n",
       "      <td>          ck12_ebook_bothQAScoresMustHave_doc_6_up</td>\n",
       "      <td> 0.3716</td>\n",
       "    </tr>\n",
       "    <tr>\n",
       "      <th>35 </th>\n",
       "      <td>             ck12_ebook_bothQAScoresMustHave_doc_1</td>\n",
       "      <td> 0.3704</td>\n",
       "    </tr>\n",
       "    <tr>\n",
       "      <th>100</th>\n",
       "      <td>                       ck12_ebook_bothQAScores_std</td>\n",
       "      <td> 0.3680</td>\n",
       "    </tr>\n",
       "    <tr>\n",
       "      <th>40 </th>\n",
       "      <td>          ck12_ebook_bothQAScoresMustHave_doc_1_up</td>\n",
       "      <td> 0.3664</td>\n",
       "    </tr>\n",
       "    <tr>\n",
       "      <th>82 </th>\n",
       "      <td>                  ck12_ebook_bothQAScores_doc_4_up</td>\n",
       "      <td> 0.3648</td>\n",
       "    </tr>\n",
       "    <tr>\n",
       "      <th>65 </th>\n",
       "      <td>              ck12_ebook_bothQAScoresMustHave_mean</td>\n",
       "      <td> 0.3640</td>\n",
       "    </tr>\n",
       "    <tr>\n",
       "      <th>77 </th>\n",
       "      <td>                     ck12_ebook_bothQAScores_doc_3</td>\n",
       "      <td> 0.3620</td>\n",
       "    </tr>\n",
       "    <tr>\n",
       "      <th>145</th>\n",
       "      <td>      ck12_ebook_ngrams_bothQAScoresMustHave_doc_3</td>\n",
       "      <td> 0.3616</td>\n",
       "    </tr>\n",
       "    <tr>\n",
       "      <th>49 </th>\n",
       "      <td>          ck12_ebook_bothQAScoresMustHave_doc_4_up</td>\n",
       "      <td> 0.3604</td>\n",
       "    </tr>\n",
       "    <tr>\n",
       "      <th>43 </th>\n",
       "      <td>          ck12_ebook_bothQAScoresMustHave_doc_2_up</td>\n",
       "      <td> 0.3600</td>\n",
       "    </tr>\n",
       "    <tr>\n",
       "      <th>99 </th>\n",
       "      <td>                    ck12_ebook_bothQAScores_median</td>\n",
       "      <td> 0.3576</td>\n",
       "    </tr>\n",
       "    <tr>\n",
       "      <th>46 </th>\n",
       "      <td>          ck12_ebook_bothQAScoresMustHave_doc_3_up</td>\n",
       "      <td> 0.3572</td>\n",
       "    </tr>\n",
       "    <tr>\n",
       "      <th>83 </th>\n",
       "      <td>                     ck12_ebook_bothQAScores_doc_5</td>\n",
       "      <td> 0.3560</td>\n",
       "    </tr>\n",
       "    <tr>\n",
       "      <th>586</th>\n",
       "      <td>           wiki_full_bothQAScoresMustHave_doc_4_up</td>\n",
       "      <td> 0.3540</td>\n",
       "    </tr>\n",
       "    <tr>\n",
       "      <th>75 </th>\n",
       "      <td>                ck12_ebook_bothQAScores_doc_2_down</td>\n",
       "      <td> 0.3536</td>\n",
       "    </tr>\n",
       "    <tr>\n",
       "      <th>634</th>\n",
       "      <td>                   wiki_full_bothQAScores_doc_9_up</td>\n",
       "      <td> 0.3536</td>\n",
       "    </tr>\n",
       "    <tr>\n",
       "      <th>583</th>\n",
       "      <td>           wiki_full_bothQAScoresMustHave_doc_3_up</td>\n",
       "      <td> 0.3532</td>\n",
       "    </tr>\n",
       "    <tr>\n",
       "      <th>572</th>\n",
       "      <td>              wiki_full_bothQAScoresMustHave_doc_1</td>\n",
       "      <td> 0.3524</td>\n",
       "    </tr>\n",
       "    <tr>\n",
       "      <th>589</th>\n",
       "      <td>           wiki_full_bothQAScoresMustHave_doc_5_up</td>\n",
       "      <td> 0.3520</td>\n",
       "    </tr>\n",
       "    <tr>\n",
       "      <th>143</th>\n",
       "      <td> ck12_ebook_ngrams_bothQAScoresMustHave_doc_2_down</td>\n",
       "      <td> 0.3512</td>\n",
       "    </tr>\n",
       "    <tr>\n",
       "      <th>41 </th>\n",
       "      <td>             ck12_ebook_bothQAScoresMustHave_doc_2</td>\n",
       "      <td> 0.3508</td>\n",
       "    </tr>\n",
       "    <tr>\n",
       "      <th>86 </th>\n",
       "      <td>                     ck12_ebook_bothQAScores_doc_6</td>\n",
       "      <td> 0.3508</td>\n",
       "    </tr>\n",
       "    <tr>\n",
       "      <th>576</th>\n",
       "      <td>         wiki_full_bothQAScoresMustHave_doc_1_down</td>\n",
       "      <td> 0.3496</td>\n",
       "    </tr>\n",
       "    <tr>\n",
       "      <th>581</th>\n",
       "      <td>              wiki_full_bothQAScoresMustHave_doc_3</td>\n",
       "      <td> 0.3492</td>\n",
       "    </tr>\n",
       "    <tr>\n",
       "      <th>625</th>\n",
       "      <td>                   wiki_full_bothQAScores_doc_6_up</td>\n",
       "      <td> 0.3492</td>\n",
       "    </tr>\n",
       "    <tr>\n",
       "      <th>598</th>\n",
       "      <td>           wiki_full_bothQAScoresMustHave_doc_8_up</td>\n",
       "      <td> 0.3492</td>\n",
       "    </tr>\n",
       "    <tr>\n",
       "      <th>609</th>\n",
       "      <td>                 wiki_full_bothQAScores_doc_1_down</td>\n",
       "      <td> 0.3484</td>\n",
       "    </tr>\n",
       "    <tr>\n",
       "      <th></th>\n",
       "      <td>...</td>\n",
       "      <td>...</td>\n",
       "    </tr>\n",
       "  </tbody>\n",
       "</table>\n",
       "<p>671 rows × 2 columns</p>\n",
       "</div>"
      ],
      "text/plain": [
       "                                               feature  accuracy\n",
       "91                    ck12_ebook_bothQAScores_doc_7_up    0.3916\n",
       "85                    ck12_ebook_bothQAScores_doc_5_up    0.3864\n",
       "97                    ck12_ebook_bothQAScores_doc_9_up    0.3856\n",
       "71                   ck12_ebook_bothQAScores_doc_10_up    0.3848\n",
       "165    ck12_ebook_ngrams_bothQAScoresMustHave_doc_9_up    0.3844\n",
       "150    ck12_ebook_ngrams_bothQAScoresMustHave_doc_4_up    0.3832\n",
       "162    ck12_ebook_ngrams_bothQAScoresMustHave_doc_8_up    0.3832\n",
       "88                    ck12_ebook_bothQAScores_doc_6_up    0.3816\n",
       "98                        ck12_ebook_bothQAScores_mean    0.3800\n",
       "64            ck12_ebook_bothQAScoresMustHave_doc_9_up    0.3800\n",
       "139   ck12_ebook_ngrams_bothQAScoresMustHave_doc_10_up    0.3800\n",
       "140  ck12_ebook_ngrams_bothQAScoresMustHave_doc_1_down    0.3800\n",
       "159    ck12_ebook_ngrams_bothQAScoresMustHave_doc_7_up    0.3796\n",
       "76                    ck12_ebook_bothQAScores_doc_2_up    0.3788\n",
       "74                       ck12_ebook_bothQAScores_doc_2    0.3788\n",
       "153    ck12_ebook_ngrams_bothQAScoresMustHave_doc_5_up    0.3784\n",
       "94                    ck12_ebook_bothQAScores_doc_8_up    0.3784\n",
       "156    ck12_ebook_ngrams_bothQAScoresMustHave_doc_6_up    0.3776\n",
       "136       ck12_ebook_ngrams_bothQAScoresMustHave_doc_1    0.3772\n",
       "38           ck12_ebook_bothQAScoresMustHave_doc_10_up    0.3768\n",
       "72                  ck12_ebook_bothQAScores_doc_1_down    0.3760\n",
       "61            ck12_ebook_bothQAScoresMustHave_doc_8_up    0.3760\n",
       "68                       ck12_ebook_bothQAScores_doc_1    0.3760\n",
       "144    ck12_ebook_ngrams_bothQAScoresMustHave_doc_2_up    0.3752\n",
       "73                    ck12_ebook_bothQAScores_doc_1_up    0.3740\n",
       "166        ck12_ebook_ngrams_bothQAScoresMustHave_mean    0.3740\n",
       "79                    ck12_ebook_bothQAScores_doc_3_up    0.3736\n",
       "147    ck12_ebook_ngrams_bothQAScoresMustHave_doc_3_up    0.3736\n",
       "39          ck12_ebook_bothQAScoresMustHave_doc_1_down    0.3736\n",
       "141    ck12_ebook_ngrams_bothQAScoresMustHave_doc_1_up    0.3732\n",
       "142       ck12_ebook_ngrams_bothQAScoresMustHave_doc_2    0.3732\n",
       "58            ck12_ebook_bothQAScoresMustHave_doc_7_up    0.3724\n",
       "52            ck12_ebook_bothQAScoresMustHave_doc_5_up    0.3724\n",
       "55            ck12_ebook_bothQAScoresMustHave_doc_6_up    0.3716\n",
       "35               ck12_ebook_bothQAScoresMustHave_doc_1    0.3704\n",
       "100                        ck12_ebook_bothQAScores_std    0.3680\n",
       "40            ck12_ebook_bothQAScoresMustHave_doc_1_up    0.3664\n",
       "82                    ck12_ebook_bothQAScores_doc_4_up    0.3648\n",
       "65                ck12_ebook_bothQAScoresMustHave_mean    0.3640\n",
       "77                       ck12_ebook_bothQAScores_doc_3    0.3620\n",
       "145       ck12_ebook_ngrams_bothQAScoresMustHave_doc_3    0.3616\n",
       "49            ck12_ebook_bothQAScoresMustHave_doc_4_up    0.3604\n",
       "43            ck12_ebook_bothQAScoresMustHave_doc_2_up    0.3600\n",
       "99                      ck12_ebook_bothQAScores_median    0.3576\n",
       "46            ck12_ebook_bothQAScoresMustHave_doc_3_up    0.3572\n",
       "83                       ck12_ebook_bothQAScores_doc_5    0.3560\n",
       "586            wiki_full_bothQAScoresMustHave_doc_4_up    0.3540\n",
       "75                  ck12_ebook_bothQAScores_doc_2_down    0.3536\n",
       "634                    wiki_full_bothQAScores_doc_9_up    0.3536\n",
       "583            wiki_full_bothQAScoresMustHave_doc_3_up    0.3532\n",
       "572               wiki_full_bothQAScoresMustHave_doc_1    0.3524\n",
       "589            wiki_full_bothQAScoresMustHave_doc_5_up    0.3520\n",
       "143  ck12_ebook_ngrams_bothQAScoresMustHave_doc_2_down    0.3512\n",
       "41               ck12_ebook_bothQAScoresMustHave_doc_2    0.3508\n",
       "86                       ck12_ebook_bothQAScores_doc_6    0.3508\n",
       "576          wiki_full_bothQAScoresMustHave_doc_1_down    0.3496\n",
       "581               wiki_full_bothQAScoresMustHave_doc_3    0.3492\n",
       "625                    wiki_full_bothQAScores_doc_6_up    0.3492\n",
       "598            wiki_full_bothQAScoresMustHave_doc_8_up    0.3492\n",
       "609                  wiki_full_bothQAScores_doc_1_down    0.3484\n",
       "                                                   ...       ...\n",
       "\n",
       "[671 rows x 2 columns]"
      ]
     },
     "execution_count": 47,
     "metadata": {},
     "output_type": "execute_result"
    }
   ],
   "source": [
    "bf = []\n",
    "for f in numeric_features:\n",
    "    accucary = (results[f] == results.correct).mean()\n",
    "    bf.append((f, accucary)) \n",
    "    \n",
    "bf = pd.DataFrame(bf, columns=['feature', 'accuracy'])\n",
    "bf.sort('accuracy', ascending=0)"
   ]
  },
  {
   "cell_type": "code",
   "execution_count": 48,
   "metadata": {
    "collapsed": false
   },
   "outputs": [],
   "source": [
    "best_features = bf[bf.accuracy >= .35]"
   ]
  },
  {
   "cell_type": "code",
   "execution_count": 49,
   "metadata": {
    "collapsed": false
   },
   "outputs": [],
   "source": [
    "boolean_features = pd.DataFrame(dict(questionId=questions.questionId, \n",
    "                                     answerLetter=questions.answerLetter, \n",
    "                                     source=questions.source, \n",
    "                                     label=questions.label))"
   ]
  },
  {
   "cell_type": "code",
   "execution_count": 50,
   "metadata": {
    "collapsed": true
   },
   "outputs": [],
   "source": [
    "def chunks(l, n):\n",
    "    for i in xrange(0, len(l), n):\n",
    "        yield l[i:i+n]"
   ]
  },
  {
   "cell_type": "code",
   "execution_count": 51,
   "metadata": {
    "collapsed": true
   },
   "outputs": [],
   "source": [
    "def to_boolean(series):\n",
    "    series = np.array(series)\n",
    "\n",
    "    res = np.zeros_like(series, dtype=int)    \n",
    "    for i, chunk in enumerate(chunks(series, 4)):\n",
    "        max = np.max(chunk)\n",
    "        max_ids, = np.where(chunk == max)\n",
    "        if len(max_ids) == 4:\n",
    "            continue\n",
    "        for id in max_ids:\n",
    "            res[4 * i + id] = 1\n",
    "    return res"
   ]
  },
  {
   "cell_type": "code",
   "execution_count": 52,
   "metadata": {
    "collapsed": false
   },
   "outputs": [],
   "source": [
    "for f in best_features.feature:\n",
    "    boolean_features[f] = to_boolean(questions[f])"
   ]
  },
  {
   "cell_type": "code",
   "execution_count": 53,
   "metadata": {
    "collapsed": false
   },
   "outputs": [],
   "source": [
    "total = best_features.accuracy.sum() "
   ]
  },
  {
   "cell_type": "code",
   "execution_count": 54,
   "metadata": {
    "collapsed": false
   },
   "outputs": [],
   "source": [
    "feature_weights = dict((f, a / total) for (f, a) in zip(bf.feature, bf.accuracy) if a >= 0.35)\n",
    "features, weights = zip(*feature_weights.items())\n",
    "features = list(features)\n",
    "weights = list(weights)"
   ]
  },
  {
   "cell_type": "markdown",
   "metadata": {},
   "source": [
    "## Training"
   ]
  },
  {
   "cell_type": "markdown",
   "metadata": {},
   "source": [
    "Let's find uncorrelated features"
   ]
  },
  {
   "cell_type": "code",
   "execution_count": 141,
   "metadata": {
    "collapsed": false
   },
   "outputs": [],
   "source": [
    "def select_uncorrelated(size=3):\n",
    "    selected = []\n",
    "\n",
    "    feature1, = np.random.choice(features, p=weights, size=1, replace=0)\n",
    "    selected.append(feature1)\n",
    "\n",
    "    pair_wise = boolean_features[features].corr()\n",
    "    pw1 = pair_wise[feature1]\n",
    "    pw1_names = pd.Series(pw1.index, index=pw1.index)\n",
    "    feature2 = pw1[pw1_names.apply(lambda c: c not in selected)].argmin()\n",
    "    selected.append(feature2)\n",
    "\n",
    "    n = size - 2    \n",
    "    while n > 0:\n",
    "        pair_wise = boolean_features[features].corr()\n",
    "        pw2 = pair_wise[feature2]\n",
    "        pw12 = pw1 + pw2\n",
    "        pw12_names = pd.Series(pw12.index, index=pw12.index)\n",
    "        feature3 = pw1[pw1_names.apply(lambda c: c not in selected)].argmin()\n",
    "        selected.append(feature3)\n",
    "        pw1 = pw12\n",
    "    \n",
    "        n = n - 1\n",
    "\n",
    "    return selected"
   ]
  },
  {
   "cell_type": "code",
   "execution_count": 116,
   "metadata": {
    "collapsed": true
   },
   "outputs": [],
   "source": [
    "from sklearn import cross_validation\n",
    "from sklearn.ensemble import RandomForestClassifier\n",
    "from sklearn.linear_model import LogisticRegression, LogisticRegressionCV\n",
    "from sklearn.feature_extraction.text import TfidfVectorizer\n",
    "from sklearn.metrics import roc_auc_score\n",
    "from scipy import sparse\n",
    "from collections import Counter"
   ]
  },
  {
   "cell_type": "code",
   "execution_count": 119,
   "metadata": {
    "collapsed": false
   },
   "outputs": [],
   "source": [
    "y = (train.label == 'true').astype(int).values"
   ]
  },
  {
   "cell_type": "code",
   "execution_count": 120,
   "metadata": {
    "collapsed": false
   },
   "outputs": [
    {
     "data": {
      "text/plain": [
       "0.3916"
      ]
     },
     "execution_count": 120,
     "metadata": {},
     "output_type": "execute_result"
    }
   ],
   "source": [
    "def calc_accuracy(y, y_score):\n",
    "    questions = chunks(zip(y, y_score),  4)\n",
    "\n",
    "    total = 0\n",
    "    correct = 0\n",
    "    for chunk in questions:\n",
    "        y_chunk, y_score_chunk = zip(*chunk)\n",
    "        correct = correct + (np.argmax(y_chunk) == np.argmax(y_score_chunk))\n",
    "        total = total + 1\n",
    "    \n",
    "    return 1.0 * correct / total\n",
    "\n",
    "calc_accuracy(y, train.ck12_ebook_bothQAScores_doc_7_up.values)"
   ]
  },
  {
   "cell_type": "code",
   "execution_count": 121,
   "metadata": {
    "collapsed": true
   },
   "outputs": [],
   "source": [
    "def train_test_split(X, y, n_iter=5, test_size=0.25):\n",
    "    if sparse.issparse(X):\n",
    "        X = X.tocsr()\n",
    "    n = len(y) / 4\n",
    "\n",
    "    split = cross_validation.ShuffleSplit(n=n, n_iter=n_iter, test_size=test_size)\n",
    "\n",
    "    for train, test in split:\n",
    "        train_idx = np.repeat(train, 4) * 4 + np.arange(len(train) * 4) % 4\n",
    "        test_idx  = np.repeat(test, 4) * 4  + np.arange(len(test) * 4) % 4\n",
    "        \n",
    "        yield (X[train_idx], y[train_idx], X[test_idx], y[test_idx])"
   ]
  },
  {
   "cell_type": "code",
   "execution_count": 150,
   "metadata": {
    "collapsed": false
   },
   "outputs": [
    {
     "data": {
      "text/plain": [
       "['ck12_ebook_ngrams_bothQAScoresMustHave_doc_5_up',\n",
       " 'wiki_full_bothQAScoresMustHave_doc_1',\n",
       " 'wiki_full_bothQAScores_doc_9_up',\n",
       " 'ck12_ebook_bothQAScores_std',\n",
       " 'ck12_ebook_bothQAScores_doc_2_down']"
      ]
     },
     "execution_count": 150,
     "metadata": {},
     "output_type": "execute_result"
    }
   ],
   "source": [
    "selected = select_uncorrelated(5)\n",
    "selected"
   ]
  },
  {
   "cell_type": "code",
   "execution_count": 151,
   "metadata": {
    "collapsed": false,
    "scrolled": true
   },
   "outputs": [
    {
     "name": "stdout",
     "output_type": "stream",
     "text": [
      "0.3984 0.6357056\n",
      "0.3984 0.6473728\n",
      "0.4048 0.637325653333\n",
      "0.3904 0.631365546667\n",
      "0.3664 0.608250453333\n",
      "0.39168 0.01344\n"
     ]
    }
   ],
   "source": [
    "accs = []\n",
    "\n",
    "X_0 = train[selected].values\n",
    "\n",
    "for X_train, y_train, X_test, y_test in train_test_split(X_0, y):\n",
    "    clf = LogisticRegressionCV()\n",
    "    clf.fit(X_train, y_train)\n",
    "\n",
    "    y_score = clf.predict_proba(X_test)[:, 1]\n",
    "    acc = calc_accuracy(y_test, y_score)\n",
    "    accs.append(acc)\n",
    "    print acc, roc_auc_score(y_test, y_score)\n",
    "\n",
    "mean_acc = np.mean(accs)\n",
    "print mean_acc, np.std(accs)"
   ]
  },
  {
   "cell_type": "markdown",
   "metadata": {},
   "source": [
    "## Submission"
   ]
  },
  {
   "cell_type": "code",
   "execution_count": 159,
   "metadata": {
    "collapsed": true
   },
   "outputs": [],
   "source": [
    "test = boolean_features[questions.source == 'TEST']"
   ]
  },
  {
   "cell_type": "code",
   "execution_count": null,
   "metadata": {
    "collapsed": true
   },
   "outputs": [],
   "source": []
  },
  {
   "cell_type": "code",
   "execution_count": 153,
   "metadata": {
    "collapsed": true
   },
   "outputs": [],
   "source": [
    "clf = LogisticRegressionCV().fit(X_0, y)"
   ]
  },
  {
   "cell_type": "code",
   "execution_count": 157,
   "metadata": {
    "collapsed": false
   },
   "outputs": [],
   "source": [
    "X_test = test[selected].values"
   ]
  },
  {
   "cell_type": "code",
   "execution_count": 158,
   "metadata": {
    "collapsed": false
   },
   "outputs": [
    {
     "ename": "ValueError",
     "evalue": "Found array with 0 sample(s) (shape=(0, 5)) while a minimum of 1 is required.",
     "output_type": "error",
     "traceback": [
      "\u001b[1;31m---------------------------------------------------------------------------\u001b[0m",
      "\u001b[1;31mValueError\u001b[0m                                Traceback (most recent call last)",
      "\u001b[1;32m<ipython-input-158-feada3dd28b5>\u001b[0m in \u001b[0;36m<module>\u001b[1;34m()\u001b[0m\n\u001b[1;32m----> 1\u001b[1;33m \u001b[0my_score\u001b[0m \u001b[1;33m=\u001b[0m \u001b[0mclf\u001b[0m\u001b[1;33m.\u001b[0m\u001b[0mpredict_proba\u001b[0m\u001b[1;33m(\u001b[0m\u001b[0mX_test\u001b[0m\u001b[1;33m)\u001b[0m\u001b[1;33m[\u001b[0m\u001b[1;33m:\u001b[0m\u001b[1;33m,\u001b[0m \u001b[1;36m1\u001b[0m\u001b[1;33m]\u001b[0m\u001b[1;33m\u001b[0m\u001b[0m\n\u001b[0m",
      "\u001b[1;32m/usr/local/lib/python2.7/dist-packages/sklearn/linear_model/logistic.pyc\u001b[0m in \u001b[0;36mpredict_proba\u001b[1;34m(self, X)\u001b[0m\n\u001b[0;32m   1250\u001b[0m         \u001b[0mcalculate_ovr\u001b[0m \u001b[1;33m=\u001b[0m \u001b[0mself\u001b[0m\u001b[1;33m.\u001b[0m\u001b[0mcoef_\u001b[0m\u001b[1;33m.\u001b[0m\u001b[0mshape\u001b[0m\u001b[1;33m[\u001b[0m\u001b[1;36m0\u001b[0m\u001b[1;33m]\u001b[0m \u001b[1;33m==\u001b[0m \u001b[1;36m1\u001b[0m \u001b[1;32mor\u001b[0m \u001b[0mself\u001b[0m\u001b[1;33m.\u001b[0m\u001b[0mmulti_class\u001b[0m \u001b[1;33m==\u001b[0m \u001b[1;34m\"ovr\"\u001b[0m\u001b[1;33m\u001b[0m\u001b[0m\n\u001b[0;32m   1251\u001b[0m         \u001b[1;32mif\u001b[0m \u001b[0mcalculate_ovr\u001b[0m\u001b[1;33m:\u001b[0m\u001b[1;33m\u001b[0m\u001b[0m\n\u001b[1;32m-> 1252\u001b[1;33m             \u001b[1;32mreturn\u001b[0m \u001b[0msuper\u001b[0m\u001b[1;33m(\u001b[0m\u001b[0mLogisticRegression\u001b[0m\u001b[1;33m,\u001b[0m \u001b[0mself\u001b[0m\u001b[1;33m)\u001b[0m\u001b[1;33m.\u001b[0m\u001b[0m_predict_proba_lr\u001b[0m\u001b[1;33m(\u001b[0m\u001b[0mX\u001b[0m\u001b[1;33m)\u001b[0m\u001b[1;33m\u001b[0m\u001b[0m\n\u001b[0m\u001b[0;32m   1253\u001b[0m         \u001b[1;32melse\u001b[0m\u001b[1;33m:\u001b[0m\u001b[1;33m\u001b[0m\u001b[0m\n\u001b[0;32m   1254\u001b[0m             \u001b[1;32mreturn\u001b[0m \u001b[0msoftmax\u001b[0m\u001b[1;33m(\u001b[0m\u001b[0mself\u001b[0m\u001b[1;33m.\u001b[0m\u001b[0mdecision_function\u001b[0m\u001b[1;33m(\u001b[0m\u001b[0mX\u001b[0m\u001b[1;33m)\u001b[0m\u001b[1;33m,\u001b[0m \u001b[0mcopy\u001b[0m\u001b[1;33m=\u001b[0m\u001b[0mFalse\u001b[0m\u001b[1;33m)\u001b[0m\u001b[1;33m\u001b[0m\u001b[0m\n",
      "\u001b[1;32m/usr/local/lib/python2.7/dist-packages/sklearn/linear_model/base.pyc\u001b[0m in \u001b[0;36m_predict_proba_lr\u001b[1;34m(self, X)\u001b[0m\n\u001b[0;32m    280\u001b[0m         \u001b[0mmulticlass\u001b[0m \u001b[1;32mis\u001b[0m \u001b[0mhandled\u001b[0m \u001b[0mby\u001b[0m \u001b[0mnormalizing\u001b[0m \u001b[0mthat\u001b[0m \u001b[0mover\u001b[0m \u001b[0mall\u001b[0m \u001b[0mclasses\u001b[0m\u001b[1;33m.\u001b[0m\u001b[1;33m\u001b[0m\u001b[0m\n\u001b[0;32m    281\u001b[0m         \"\"\"\n\u001b[1;32m--> 282\u001b[1;33m         \u001b[0mprob\u001b[0m \u001b[1;33m=\u001b[0m \u001b[0mself\u001b[0m\u001b[1;33m.\u001b[0m\u001b[0mdecision_function\u001b[0m\u001b[1;33m(\u001b[0m\u001b[0mX\u001b[0m\u001b[1;33m)\u001b[0m\u001b[1;33m\u001b[0m\u001b[0m\n\u001b[0m\u001b[0;32m    283\u001b[0m         \u001b[0mprob\u001b[0m \u001b[1;33m*=\u001b[0m \u001b[1;33m-\u001b[0m\u001b[1;36m1\u001b[0m\u001b[1;33m\u001b[0m\u001b[0m\n\u001b[0;32m    284\u001b[0m         \u001b[0mnp\u001b[0m\u001b[1;33m.\u001b[0m\u001b[0mexp\u001b[0m\u001b[1;33m(\u001b[0m\u001b[0mprob\u001b[0m\u001b[1;33m,\u001b[0m \u001b[0mprob\u001b[0m\u001b[1;33m)\u001b[0m\u001b[1;33m\u001b[0m\u001b[0m\n",
      "\u001b[1;32m/usr/local/lib/python2.7/dist-packages/sklearn/linear_model/base.pyc\u001b[0m in \u001b[0;36mdecision_function\u001b[1;34m(self, X)\u001b[0m\n\u001b[0;32m    242\u001b[0m                                  \"yet\" % {'name': type(self).__name__})\n\u001b[0;32m    243\u001b[0m \u001b[1;33m\u001b[0m\u001b[0m\n\u001b[1;32m--> 244\u001b[1;33m         \u001b[0mX\u001b[0m \u001b[1;33m=\u001b[0m \u001b[0mcheck_array\u001b[0m\u001b[1;33m(\u001b[0m\u001b[0mX\u001b[0m\u001b[1;33m,\u001b[0m \u001b[0maccept_sparse\u001b[0m\u001b[1;33m=\u001b[0m\u001b[1;34m'csr'\u001b[0m\u001b[1;33m)\u001b[0m\u001b[1;33m\u001b[0m\u001b[0m\n\u001b[0m\u001b[0;32m    245\u001b[0m \u001b[1;33m\u001b[0m\u001b[0m\n\u001b[0;32m    246\u001b[0m         \u001b[0mn_features\u001b[0m \u001b[1;33m=\u001b[0m \u001b[0mself\u001b[0m\u001b[1;33m.\u001b[0m\u001b[0mcoef_\u001b[0m\u001b[1;33m.\u001b[0m\u001b[0mshape\u001b[0m\u001b[1;33m[\u001b[0m\u001b[1;36m1\u001b[0m\u001b[1;33m]\u001b[0m\u001b[1;33m\u001b[0m\u001b[0m\n",
      "\u001b[1;32m/usr/local/lib/python2.7/dist-packages/sklearn/utils/validation.pyc\u001b[0m in \u001b[0;36mcheck_array\u001b[1;34m(array, accept_sparse, dtype, order, copy, force_all_finite, ensure_2d, allow_nd, ensure_min_samples, ensure_min_features, warn_on_dtype, estimator)\u001b[0m\n\u001b[0;32m    405\u001b[0m                              \u001b[1;34m\" minimum of %d is required%s.\"\u001b[0m\u001b[1;33m\u001b[0m\u001b[0m\n\u001b[0;32m    406\u001b[0m                              % (n_samples, shape_repr, ensure_min_samples,\n\u001b[1;32m--> 407\u001b[1;33m                                 context))\n\u001b[0m\u001b[0;32m    408\u001b[0m \u001b[1;33m\u001b[0m\u001b[0m\n\u001b[0;32m    409\u001b[0m     \u001b[1;32mif\u001b[0m \u001b[0mensure_min_features\u001b[0m \u001b[1;33m>\u001b[0m \u001b[1;36m0\u001b[0m \u001b[1;32mand\u001b[0m \u001b[0marray\u001b[0m\u001b[1;33m.\u001b[0m\u001b[0mndim\u001b[0m \u001b[1;33m==\u001b[0m \u001b[1;36m2\u001b[0m\u001b[1;33m:\u001b[0m\u001b[1;33m\u001b[0m\u001b[0m\n",
      "\u001b[1;31mValueError\u001b[0m: Found array with 0 sample(s) (shape=(0, 5)) while a minimum of 1 is required."
     ]
    }
   ],
   "source": [
    "y_score = clf.predict_proba(X_test)[:, 1]"
   ]
  },
  {
   "cell_type": "code",
   "execution_count": 257,
   "metadata": {
    "collapsed": false
   },
   "outputs": [
    {
     "data": {
      "text/html": [
       "<div style=\"max-height:1000px;max-width:1500px;overflow:auto;\">\n",
       "<table border=\"1\" class=\"dataframe\">\n",
       "  <thead>\n",
       "    <tr style=\"text-align: right;\">\n",
       "      <th></th>\n",
       "      <th>answer</th>\n",
       "      <th>idx</th>\n",
       "      <th>questionId</th>\n",
       "      <th>score</th>\n",
       "    </tr>\n",
       "  </thead>\n",
       "  <tbody>\n",
       "    <tr>\n",
       "      <th>70363</th>\n",
       "      <td> A</td>\n",
       "      <td> 0</td>\n",
       "      <td> 102501</td>\n",
       "      <td> 0.243561</td>\n",
       "    </tr>\n",
       "    <tr>\n",
       "      <th>70367</th>\n",
       "      <td> B</td>\n",
       "      <td> 1</td>\n",
       "      <td> 102501</td>\n",
       "      <td> 0.243561</td>\n",
       "    </tr>\n",
       "    <tr>\n",
       "      <th>70371</th>\n",
       "      <td> C</td>\n",
       "      <td> 2</td>\n",
       "      <td> 102501</td>\n",
       "      <td> 0.271181</td>\n",
       "    </tr>\n",
       "    <tr>\n",
       "      <th>70376</th>\n",
       "      <td> D</td>\n",
       "      <td> 3</td>\n",
       "      <td> 102501</td>\n",
       "      <td> 0.243561</td>\n",
       "    </tr>\n",
       "    <tr>\n",
       "      <th>70381</th>\n",
       "      <td> A</td>\n",
       "      <td> 4</td>\n",
       "      <td> 102502</td>\n",
       "      <td> 0.243561</td>\n",
       "    </tr>\n",
       "    <tr>\n",
       "      <th>70384</th>\n",
       "      <td> B</td>\n",
       "      <td> 5</td>\n",
       "      <td> 102502</td>\n",
       "      <td> 0.243561</td>\n",
       "    </tr>\n",
       "    <tr>\n",
       "      <th>70388</th>\n",
       "      <td> C</td>\n",
       "      <td> 6</td>\n",
       "      <td> 102502</td>\n",
       "      <td> 0.248903</td>\n",
       "    </tr>\n",
       "    <tr>\n",
       "      <th>70393</th>\n",
       "      <td> D</td>\n",
       "      <td> 7</td>\n",
       "      <td> 102502</td>\n",
       "      <td> 0.265529</td>\n",
       "    </tr>\n",
       "  </tbody>\n",
       "</table>\n",
       "<p>8 rows × 4 columns</p>\n",
       "</div>"
      ],
      "text/plain": [
       "      answer  idx questionId     score\n",
       "70363      A    0     102501  0.243561\n",
       "70367      B    1     102501  0.243561\n",
       "70371      C    2     102501  0.271181\n",
       "70376      D    3     102501  0.243561\n",
       "70381      A    4     102502  0.243561\n",
       "70384      B    5     102502  0.243561\n",
       "70388      C    6     102502  0.248903\n",
       "70393      D    7     102502  0.265529\n",
       "\n",
       "[8 rows x 4 columns]"
      ]
     },
     "execution_count": 257,
     "metadata": {},
     "output_type": "execute_result"
    }
   ],
   "source": [
    "idx = np.arange(len(test))\n",
    "\n",
    "val_index = pd.DataFrame({'idx': idx, 'questionId': test.questionId, \n",
    "                          'answer': test.answerLetter,\n",
    "                          'score': y_score})\n",
    "val_index.head(n=8)"
   ]
  },
  {
   "cell_type": "code",
   "execution_count": 258,
   "metadata": {
    "collapsed": false
   },
   "outputs": [],
   "source": [
    "result = []\n",
    "\n",
    "for id, group in val_index.groupby('questionId'):\n",
    "    answer_idx = group.score.values.argmax()\n",
    "    answer = group.answer.values[answer_idx]\n",
    "    result.append((id, answer))"
   ]
  },
  {
   "cell_type": "code",
   "execution_count": 259,
   "metadata": {
    "collapsed": true
   },
   "outputs": [],
   "source": [
    "res = pd.DataFrame(result, columns=['id', 'correctAnswer'])\n",
    "res.to_csv('/home/agrigorev/git-projects/allen-qa/test_result.csv', index=0)"
   ]
  },
  {
   "cell_type": "markdown",
   "metadata": {},
   "source": [
    "Wiki"
   ]
  },
  {
   "cell_type": "code",
   "execution_count": null,
   "metadata": {
    "collapsed": true
   },
   "outputs": [],
   "source": []
  }
 ],
 "metadata": {
  "kernelspec": {
   "display_name": "Python 2",
   "language": "python",
   "name": "python2"
  },
  "language_info": {
   "codemirror_mode": {
    "name": "ipython",
    "version": 2
   },
   "file_extension": ".py",
   "mimetype": "text/x-python",
   "name": "python",
   "nbconvert_exporter": "python",
   "pygments_lexer": "ipython2",
   "version": "2.7.6"
  }
 },
 "nbformat": 4,
 "nbformat_minor": 0
}
